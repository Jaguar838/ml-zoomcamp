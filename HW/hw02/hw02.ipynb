{
  "cells": [
    {
      "cell_type": "markdown",
      "metadata": {
        "id": "view-in-github",
        "colab_type": "text"
      },
      "source": [
        "<a href=\"https://colab.research.google.com/github/Jaguar838/ml-zoomcamp/blob/master/HW/hw02/hw02.ipynb\" target=\"_parent\"><img src=\"https://colab.research.google.com/assets/colab-badge.svg\" alt=\"Open In Colab\"/></a>"
      ]
    },
    {
      "cell_type": "markdown",
      "metadata": {
        "id": "88cc5211"
      },
      "source": [
        "## Homework #2\n",
        "\n",
        "> Note: sometimes your answer does not exactly match one of the options. This is normal.\n",
        "Choose the option that is closest to your solution.\n",
        "\n",
        "### Dataset"
      ]
    },
    {
      "cell_type": "code",
      "execution_count": 1,
      "metadata": {
        "id": "52807204",
        "outputId": "92d5066f-f81f-4926-ad1e-6fb500a10b88",
        "colab": {
          "base_uri": "https://localhost:8080/",
          "height": 35
        }
      },
      "outputs": [
        {
          "output_type": "execute_result",
          "data": {
            "text/plain": [
              "'2.2.2'"
            ],
            "application/vnd.google.colaboratory.intrinsic+json": {
              "type": "string"
            }
          },
          "metadata": {},
          "execution_count": 1
        }
      ],
      "source": [
        "import pandas as pd\n",
        "import numpy as np\n",
        "import seaborn as sns\n",
        "import matplotlib.pyplot as plt\n",
        "from sklearn.model_selection import train_test_split\n",
        "from sklearn.metrics import mean_squared_error\n",
        "pd.__version__"
      ]
    },
    {
      "cell_type": "markdown",
      "metadata": {
        "id": "27031e4e"
      },
      "source": [
        "### Отримання даних\n",
        "\n",
        "Для цього домашнього завдання ми будемо використовувати набір даних про паливну ефективність автомобілів."
      ]
    },
    {
      "cell_type": "code",
      "execution_count": 2,
      "metadata": {
        "id": "060d9224",
        "outputId": "cffa154a-4d5e-4d57-c3cd-6cf2c423d0f8",
        "colab": {
          "base_uri": "https://localhost:8080/",
          "height": 206
        }
      },
      "outputs": [
        {
          "output_type": "execute_result",
          "data": {
            "text/plain": [
              "   engine_displacement  num_cylinders  horsepower  vehicle_weight  \\\n",
              "0                  170            3.0       159.0     3413.433759   \n",
              "1                  130            5.0        97.0     3149.664934   \n",
              "2                  170            NaN        78.0     3079.038997   \n",
              "3                  220            4.0         NaN     2542.392402   \n",
              "4                  210            1.0       140.0     3460.870990   \n",
              "\n",
              "   acceleration  model_year  origin fuel_type         drivetrain  num_doors  \\\n",
              "0          17.7        2003  Europe  Gasoline    All-wheel drive        0.0   \n",
              "1          17.8        2007     USA  Gasoline  Front-wheel drive        0.0   \n",
              "2          15.1        2018  Europe  Gasoline  Front-wheel drive        0.0   \n",
              "3          20.2        2009     USA    Diesel    All-wheel drive        2.0   \n",
              "4          14.4        2009  Europe  Gasoline    All-wheel drive        2.0   \n",
              "\n",
              "   fuel_efficiency_mpg  \n",
              "0            13.231729  \n",
              "1            13.688217  \n",
              "2            14.246341  \n",
              "3            16.912736  \n",
              "4            12.488369  "
            ],
            "text/html": [
              "\n",
              "  <div id=\"df-d39617ff-2b8a-4220-907d-d80f9abe0b82\" class=\"colab-df-container\">\n",
              "    <div>\n",
              "<style scoped>\n",
              "    .dataframe tbody tr th:only-of-type {\n",
              "        vertical-align: middle;\n",
              "    }\n",
              "\n",
              "    .dataframe tbody tr th {\n",
              "        vertical-align: top;\n",
              "    }\n",
              "\n",
              "    .dataframe thead th {\n",
              "        text-align: right;\n",
              "    }\n",
              "</style>\n",
              "<table border=\"1\" class=\"dataframe\">\n",
              "  <thead>\n",
              "    <tr style=\"text-align: right;\">\n",
              "      <th></th>\n",
              "      <th>engine_displacement</th>\n",
              "      <th>num_cylinders</th>\n",
              "      <th>horsepower</th>\n",
              "      <th>vehicle_weight</th>\n",
              "      <th>acceleration</th>\n",
              "      <th>model_year</th>\n",
              "      <th>origin</th>\n",
              "      <th>fuel_type</th>\n",
              "      <th>drivetrain</th>\n",
              "      <th>num_doors</th>\n",
              "      <th>fuel_efficiency_mpg</th>\n",
              "    </tr>\n",
              "  </thead>\n",
              "  <tbody>\n",
              "    <tr>\n",
              "      <th>0</th>\n",
              "      <td>170</td>\n",
              "      <td>3.0</td>\n",
              "      <td>159.0</td>\n",
              "      <td>3413.433759</td>\n",
              "      <td>17.7</td>\n",
              "      <td>2003</td>\n",
              "      <td>Europe</td>\n",
              "      <td>Gasoline</td>\n",
              "      <td>All-wheel drive</td>\n",
              "      <td>0.0</td>\n",
              "      <td>13.231729</td>\n",
              "    </tr>\n",
              "    <tr>\n",
              "      <th>1</th>\n",
              "      <td>130</td>\n",
              "      <td>5.0</td>\n",
              "      <td>97.0</td>\n",
              "      <td>3149.664934</td>\n",
              "      <td>17.8</td>\n",
              "      <td>2007</td>\n",
              "      <td>USA</td>\n",
              "      <td>Gasoline</td>\n",
              "      <td>Front-wheel drive</td>\n",
              "      <td>0.0</td>\n",
              "      <td>13.688217</td>\n",
              "    </tr>\n",
              "    <tr>\n",
              "      <th>2</th>\n",
              "      <td>170</td>\n",
              "      <td>NaN</td>\n",
              "      <td>78.0</td>\n",
              "      <td>3079.038997</td>\n",
              "      <td>15.1</td>\n",
              "      <td>2018</td>\n",
              "      <td>Europe</td>\n",
              "      <td>Gasoline</td>\n",
              "      <td>Front-wheel drive</td>\n",
              "      <td>0.0</td>\n",
              "      <td>14.246341</td>\n",
              "    </tr>\n",
              "    <tr>\n",
              "      <th>3</th>\n",
              "      <td>220</td>\n",
              "      <td>4.0</td>\n",
              "      <td>NaN</td>\n",
              "      <td>2542.392402</td>\n",
              "      <td>20.2</td>\n",
              "      <td>2009</td>\n",
              "      <td>USA</td>\n",
              "      <td>Diesel</td>\n",
              "      <td>All-wheel drive</td>\n",
              "      <td>2.0</td>\n",
              "      <td>16.912736</td>\n",
              "    </tr>\n",
              "    <tr>\n",
              "      <th>4</th>\n",
              "      <td>210</td>\n",
              "      <td>1.0</td>\n",
              "      <td>140.0</td>\n",
              "      <td>3460.870990</td>\n",
              "      <td>14.4</td>\n",
              "      <td>2009</td>\n",
              "      <td>Europe</td>\n",
              "      <td>Gasoline</td>\n",
              "      <td>All-wheel drive</td>\n",
              "      <td>2.0</td>\n",
              "      <td>12.488369</td>\n",
              "    </tr>\n",
              "  </tbody>\n",
              "</table>\n",
              "</div>\n",
              "    <div class=\"colab-df-buttons\">\n",
              "\n",
              "  <div class=\"colab-df-container\">\n",
              "    <button class=\"colab-df-convert\" onclick=\"convertToInteractive('df-d39617ff-2b8a-4220-907d-d80f9abe0b82')\"\n",
              "            title=\"Convert this dataframe to an interactive table.\"\n",
              "            style=\"display:none;\">\n",
              "\n",
              "  <svg xmlns=\"http://www.w3.org/2000/svg\" height=\"24px\" viewBox=\"0 -960 960 960\">\n",
              "    <path d=\"M120-120v-720h720v720H120Zm60-500h600v-160H180v160Zm220 220h160v-160H400v160Zm0 220h160v-160H400v160ZM180-400h160v-160H180v160Zm440 0h160v-160H620v160ZM180-180h160v-160H180v160Zm440 0h160v-160H620v160Z\"/>\n",
              "  </svg>\n",
              "    </button>\n",
              "\n",
              "  <style>\n",
              "    .colab-df-container {\n",
              "      display:flex;\n",
              "      gap: 12px;\n",
              "    }\n",
              "\n",
              "    .colab-df-convert {\n",
              "      background-color: #E8F0FE;\n",
              "      border: none;\n",
              "      border-radius: 50%;\n",
              "      cursor: pointer;\n",
              "      display: none;\n",
              "      fill: #1967D2;\n",
              "      height: 32px;\n",
              "      padding: 0 0 0 0;\n",
              "      width: 32px;\n",
              "    }\n",
              "\n",
              "    .colab-df-convert:hover {\n",
              "      background-color: #E2EBFA;\n",
              "      box-shadow: 0px 1px 2px rgba(60, 64, 67, 0.3), 0px 1px 3px 1px rgba(60, 64, 67, 0.15);\n",
              "      fill: #174EA6;\n",
              "    }\n",
              "\n",
              "    .colab-df-buttons div {\n",
              "      margin-bottom: 4px;\n",
              "    }\n",
              "\n",
              "    [theme=dark] .colab-df-convert {\n",
              "      background-color: #3B4455;\n",
              "      fill: #D2E3FC;\n",
              "    }\n",
              "\n",
              "    [theme=dark] .colab-df-convert:hover {\n",
              "      background-color: #434B5C;\n",
              "      box-shadow: 0px 1px 3px 1px rgba(0, 0, 0, 0.15);\n",
              "      filter: drop-shadow(0px 1px 2px rgba(0, 0, 0, 0.3));\n",
              "      fill: #FFFFFF;\n",
              "    }\n",
              "  </style>\n",
              "\n",
              "    <script>\n",
              "      const buttonEl =\n",
              "        document.querySelector('#df-d39617ff-2b8a-4220-907d-d80f9abe0b82 button.colab-df-convert');\n",
              "      buttonEl.style.display =\n",
              "        google.colab.kernel.accessAllowed ? 'block' : 'none';\n",
              "\n",
              "      async function convertToInteractive(key) {\n",
              "        const element = document.querySelector('#df-d39617ff-2b8a-4220-907d-d80f9abe0b82');\n",
              "        const dataTable =\n",
              "          await google.colab.kernel.invokeFunction('convertToInteractive',\n",
              "                                                    [key], {});\n",
              "        if (!dataTable) return;\n",
              "\n",
              "        const docLinkHtml = 'Like what you see? Visit the ' +\n",
              "          '<a target=\"_blank\" href=https://colab.research.google.com/notebooks/data_table.ipynb>data table notebook</a>'\n",
              "          + ' to learn more about interactive tables.';\n",
              "        element.innerHTML = '';\n",
              "        dataTable['output_type'] = 'display_data';\n",
              "        await google.colab.output.renderOutput(dataTable, element);\n",
              "        const docLink = document.createElement('div');\n",
              "        docLink.innerHTML = docLinkHtml;\n",
              "        element.appendChild(docLink);\n",
              "      }\n",
              "    </script>\n",
              "  </div>\n",
              "\n",
              "\n",
              "    <div id=\"df-4651e0f6-6996-4012-84ca-dd434634edef\">\n",
              "      <button class=\"colab-df-quickchart\" onclick=\"quickchart('df-4651e0f6-6996-4012-84ca-dd434634edef')\"\n",
              "                title=\"Suggest charts\"\n",
              "                style=\"display:none;\">\n",
              "\n",
              "<svg xmlns=\"http://www.w3.org/2000/svg\" height=\"24px\"viewBox=\"0 0 24 24\"\n",
              "     width=\"24px\">\n",
              "    <g>\n",
              "        <path d=\"M19 3H5c-1.1 0-2 .9-2 2v14c0 1.1.9 2 2 2h14c1.1 0 2-.9 2-2V5c0-1.1-.9-2-2-2zM9 17H7v-7h2v7zm4 0h-2V7h2v10zm4 0h-2v-4h2v4z\"/>\n",
              "    </g>\n",
              "</svg>\n",
              "      </button>\n",
              "\n",
              "<style>\n",
              "  .colab-df-quickchart {\n",
              "      --bg-color: #E8F0FE;\n",
              "      --fill-color: #1967D2;\n",
              "      --hover-bg-color: #E2EBFA;\n",
              "      --hover-fill-color: #174EA6;\n",
              "      --disabled-fill-color: #AAA;\n",
              "      --disabled-bg-color: #DDD;\n",
              "  }\n",
              "\n",
              "  [theme=dark] .colab-df-quickchart {\n",
              "      --bg-color: #3B4455;\n",
              "      --fill-color: #D2E3FC;\n",
              "      --hover-bg-color: #434B5C;\n",
              "      --hover-fill-color: #FFFFFF;\n",
              "      --disabled-bg-color: #3B4455;\n",
              "      --disabled-fill-color: #666;\n",
              "  }\n",
              "\n",
              "  .colab-df-quickchart {\n",
              "    background-color: var(--bg-color);\n",
              "    border: none;\n",
              "    border-radius: 50%;\n",
              "    cursor: pointer;\n",
              "    display: none;\n",
              "    fill: var(--fill-color);\n",
              "    height: 32px;\n",
              "    padding: 0;\n",
              "    width: 32px;\n",
              "  }\n",
              "\n",
              "  .colab-df-quickchart:hover {\n",
              "    background-color: var(--hover-bg-color);\n",
              "    box-shadow: 0 1px 2px rgba(60, 64, 67, 0.3), 0 1px 3px 1px rgba(60, 64, 67, 0.15);\n",
              "    fill: var(--button-hover-fill-color);\n",
              "  }\n",
              "\n",
              "  .colab-df-quickchart-complete:disabled,\n",
              "  .colab-df-quickchart-complete:disabled:hover {\n",
              "    background-color: var(--disabled-bg-color);\n",
              "    fill: var(--disabled-fill-color);\n",
              "    box-shadow: none;\n",
              "  }\n",
              "\n",
              "  .colab-df-spinner {\n",
              "    border: 2px solid var(--fill-color);\n",
              "    border-color: transparent;\n",
              "    border-bottom-color: var(--fill-color);\n",
              "    animation:\n",
              "      spin 1s steps(1) infinite;\n",
              "  }\n",
              "\n",
              "  @keyframes spin {\n",
              "    0% {\n",
              "      border-color: transparent;\n",
              "      border-bottom-color: var(--fill-color);\n",
              "      border-left-color: var(--fill-color);\n",
              "    }\n",
              "    20% {\n",
              "      border-color: transparent;\n",
              "      border-left-color: var(--fill-color);\n",
              "      border-top-color: var(--fill-color);\n",
              "    }\n",
              "    30% {\n",
              "      border-color: transparent;\n",
              "      border-left-color: var(--fill-color);\n",
              "      border-top-color: var(--fill-color);\n",
              "      border-right-color: var(--fill-color);\n",
              "    }\n",
              "    40% {\n",
              "      border-color: transparent;\n",
              "      border-right-color: var(--fill-color);\n",
              "      border-top-color: var(--fill-color);\n",
              "    }\n",
              "    60% {\n",
              "      border-color: transparent;\n",
              "      border-right-color: var(--fill-color);\n",
              "    }\n",
              "    80% {\n",
              "      border-color: transparent;\n",
              "      border-right-color: var(--fill-color);\n",
              "      border-bottom-color: var(--fill-color);\n",
              "    }\n",
              "    90% {\n",
              "      border-color: transparent;\n",
              "      border-bottom-color: var(--fill-color);\n",
              "    }\n",
              "  }\n",
              "</style>\n",
              "\n",
              "      <script>\n",
              "        async function quickchart(key) {\n",
              "          const quickchartButtonEl =\n",
              "            document.querySelector('#' + key + ' button');\n",
              "          quickchartButtonEl.disabled = true;  // To prevent multiple clicks.\n",
              "          quickchartButtonEl.classList.add('colab-df-spinner');\n",
              "          try {\n",
              "            const charts = await google.colab.kernel.invokeFunction(\n",
              "                'suggestCharts', [key], {});\n",
              "          } catch (error) {\n",
              "            console.error('Error during call to suggestCharts:', error);\n",
              "          }\n",
              "          quickchartButtonEl.classList.remove('colab-df-spinner');\n",
              "          quickchartButtonEl.classList.add('colab-df-quickchart-complete');\n",
              "        }\n",
              "        (() => {\n",
              "          let quickchartButtonEl =\n",
              "            document.querySelector('#df-4651e0f6-6996-4012-84ca-dd434634edef button');\n",
              "          quickchartButtonEl.style.display =\n",
              "            google.colab.kernel.accessAllowed ? 'block' : 'none';\n",
              "        })();\n",
              "      </script>\n",
              "    </div>\n",
              "    </div>\n",
              "  </div>\n"
            ],
            "application/vnd.google.colaboratory.intrinsic+json": {
              "type": "dataframe",
              "variable_name": "df_original",
              "summary": "{\n  \"name\": \"df_original\",\n  \"rows\": 9704,\n  \"fields\": [\n    {\n      \"column\": \"engine_displacement\",\n      \"properties\": {\n        \"dtype\": \"number\",\n        \"std\": 49,\n        \"min\": 10,\n        \"max\": 380,\n        \"num_unique_values\": 36,\n        \"samples\": [\n          30,\n          260,\n          90\n        ],\n        \"semantic_type\": \"\",\n        \"description\": \"\"\n      }\n    },\n    {\n      \"column\": \"num_cylinders\",\n      \"properties\": {\n        \"dtype\": \"number\",\n        \"std\": 1.9993225843926064,\n        \"min\": 0.0,\n        \"max\": 13.0,\n        \"num_unique_values\": 14,\n        \"samples\": [\n          9.0,\n          10.0,\n          3.0\n        ],\n        \"semantic_type\": \"\",\n        \"description\": \"\"\n      }\n    },\n    {\n      \"column\": \"horsepower\",\n      \"properties\": {\n        \"dtype\": \"number\",\n        \"std\": 29.879555200339446,\n        \"min\": 37.0,\n        \"max\": 271.0,\n        \"num_unique_values\": 192,\n        \"samples\": [\n          128.0,\n          82.0,\n          167.0\n        ],\n        \"semantic_type\": \"\",\n        \"description\": \"\"\n      }\n    },\n    {\n      \"column\": \"vehicle_weight\",\n      \"properties\": {\n        \"dtype\": \"number\",\n        \"std\": 497.8948600311838,\n        \"min\": 952.6817606436496,\n        \"max\": 4739.077089392099,\n        \"num_unique_values\": 9704,\n        \"samples\": [\n          2535.8875912388694,\n          2741.1704843893167,\n          2471.8802372627765\n        ],\n        \"semantic_type\": \"\",\n        \"description\": \"\"\n      }\n    },\n    {\n      \"column\": \"acceleration\",\n      \"properties\": {\n        \"dtype\": \"number\",\n        \"std\": 2.510339293937879,\n        \"min\": 6.0,\n        \"max\": 24.3,\n        \"num_unique_values\": 162,\n        \"samples\": [\n          7.3,\n          20.3,\n          19.8\n        ],\n        \"semantic_type\": \"\",\n        \"description\": \"\"\n      }\n    },\n    {\n      \"column\": \"model_year\",\n      \"properties\": {\n        \"dtype\": \"number\",\n        \"std\": 6,\n        \"min\": 2000,\n        \"max\": 2023,\n        \"num_unique_values\": 24,\n        \"samples\": [\n          2005,\n          2002,\n          2003\n        ],\n        \"semantic_type\": \"\",\n        \"description\": \"\"\n      }\n    },\n    {\n      \"column\": \"origin\",\n      \"properties\": {\n        \"dtype\": \"category\",\n        \"num_unique_values\": 3,\n        \"samples\": [\n          \"Europe\",\n          \"USA\",\n          \"Asia\"\n        ],\n        \"semantic_type\": \"\",\n        \"description\": \"\"\n      }\n    },\n    {\n      \"column\": \"fuel_type\",\n      \"properties\": {\n        \"dtype\": \"category\",\n        \"num_unique_values\": 2,\n        \"samples\": [\n          \"Diesel\",\n          \"Gasoline\"\n        ],\n        \"semantic_type\": \"\",\n        \"description\": \"\"\n      }\n    },\n    {\n      \"column\": \"drivetrain\",\n      \"properties\": {\n        \"dtype\": \"category\",\n        \"num_unique_values\": 2,\n        \"samples\": [\n          \"Front-wheel drive\",\n          \"All-wheel drive\"\n        ],\n        \"semantic_type\": \"\",\n        \"description\": \"\"\n      }\n    },\n    {\n      \"column\": \"num_doors\",\n      \"properties\": {\n        \"dtype\": \"number\",\n        \"std\": 1.048162111427726,\n        \"min\": -4.0,\n        \"max\": 4.0,\n        \"num_unique_values\": 9,\n        \"samples\": [\n          -4.0,\n          2.0\n        ],\n        \"semantic_type\": \"\",\n        \"description\": \"\"\n      }\n    },\n    {\n      \"column\": \"fuel_efficiency_mpg\",\n      \"properties\": {\n        \"dtype\": \"number\",\n        \"std\": 2.5564677028974288,\n        \"min\": 6.200970533392815,\n        \"max\": 25.96722204888372,\n        \"num_unique_values\": 9704,\n        \"samples\": [\n          16.642943419221385,\n          16.298377150953442\n        ],\n        \"semantic_type\": \"\",\n        \"description\": \"\"\n      }\n    }\n  ]\n}"
            }
          },
          "metadata": {},
          "execution_count": 2
        }
      ],
      "source": [
        "# Оскільки wget може не бути встановленим, краще завантажити дані напряму за допомогою Pandas\n",
        "url = 'https://raw.githubusercontent.com/alexeygrigorev/datasets/master/car_fuel_efficiency.csv'\n",
        "df_original = pd.read_csv(url)\n",
        "df_original.head()"
      ]
    },
    {
      "cell_type": "markdown",
      "metadata": {
        "id": "9402df47"
      },
      "source": [
        "*   `engine_displacement`: Об'єм двигуна автомобіля.\n",
        "*   `num_cylinders`: Кількість циліндрів у двигуні.\n",
        "*   `horsepower`: Потужність двигуна в кінських силах.\n",
        "*   `vehicle_weight`: Вага автомобіля.\n",
        "*   `acceleration`: Час розгону автомобіля.\n",
        "*   `model_year`: Рік випуску моделі автомобіля.\n",
        "*   `origin`: Країна-виробник або регіон походження автомобіля.\n",
        "*   `fuel_type`: Тип палива, яке використовує автомобіль (наприклад, Gasoline, Diesel).\n",
        "*   `drivetrain`: Тип приводу автомобіля (наприклад, Front-wheel drive, All-wheel drive).\n",
        "*   `num_doors`: Кількість дверей автомобіля.\n",
        "*   `fuel_efficiency_mpg`: Паливна ефективність автомобіля, виміряна в милях на галон (Miles Per Gallon). Це цільова змінна, яку ми прогнозуємо."
      ]
    },
    {
      "cell_type": "markdown",
      "metadata": {
        "id": "e6f47703"
      },
      "source": [
        "#### Кількість записів"
      ]
    },
    {
      "cell_type": "code",
      "execution_count": 3,
      "metadata": {
        "id": "2733971c",
        "outputId": "bb66e705-2647-4e8c-834a-6abaa82dc93f",
        "colab": {
          "base_uri": "https://localhost:8080/"
        }
      },
      "outputs": [
        {
          "output_type": "execute_result",
          "data": {
            "text/plain": [
              "9704"
            ]
          },
          "metadata": {},
          "execution_count": 3
        }
      ],
      "source": [
        "len(df_original)"
      ]
    },
    {
      "cell_type": "code",
      "source": [],
      "metadata": {
        "id": "qUT3mKypot5L"
      },
      "execution_count": 3,
      "outputs": []
    },
    {
      "cell_type": "markdown",
      "metadata": {
        "id": "UphkLvreAf5X"
      },
      "source": [
        "Мета цього домашнього завдання - створити регресійну модель для прогнозування паливної ефективності автомобіля (колонка `'fuel_efficiency_mpg'`).\n",
        "\n",
        "### Підготовка набору даних\n",
        "\n",
        "Використовуйте лише наступні колонки:\n",
        "\n",
        "* `'engine_displacement'`,\n",
        "* `'horsepower'`,\n",
        "* `'vehicle_weight'`,\n",
        "* `'model_year'`,\n",
        "* `'fuel_efficiency_mpg'`"
      ]
    },
    {
      "cell_type": "code",
      "execution_count": 4,
      "metadata": {
        "id": "AiCxEQA_Af5Y"
      },
      "outputs": [],
      "source": [
        "columns = [\n",
        "    'engine_displacement',\n",
        "    'horsepower',\n",
        "    'vehicle_weight',\n",
        "    'model_year',\n",
        "    'fuel_efficiency_mpg'\n",
        "    ]"
      ]
    },
    {
      "cell_type": "markdown",
      "metadata": {
        "id": "iGmw_AanAf5Y"
      },
      "source": [
        "## Exploratory data analysis"
      ]
    },
    {
      "cell_type": "code",
      "execution_count": 5,
      "metadata": {
        "id": "o45-_TLHAf5Z",
        "outputId": "d0870445-73d6-4f05-fcc6-a33cd508a3d4",
        "colab": {
          "base_uri": "https://localhost:8080/"
        }
      },
      "outputs": [
        {
          "output_type": "stream",
          "name": "stdout",
          "text": [
            "<class 'pandas.core.frame.DataFrame'>\n",
            "RangeIndex: 9704 entries, 0 to 9703\n",
            "Data columns (total 5 columns):\n",
            " #   Column               Non-Null Count  Dtype  \n",
            "---  ------               --------------  -----  \n",
            " 0   engine_displacement  9704 non-null   int64  \n",
            " 1   horsepower           8996 non-null   float64\n",
            " 2   vehicle_weight       9704 non-null   float64\n",
            " 3   model_year           9704 non-null   int64  \n",
            " 4   fuel_efficiency_mpg  9704 non-null   float64\n",
            "dtypes: float64(3), int64(2)\n",
            "memory usage: 379.2 KB\n"
          ]
        }
      ],
      "source": [
        "df = df_original[columns]\n",
        "df.info()"
      ]
    },
    {
      "cell_type": "code",
      "execution_count": 6,
      "metadata": {
        "id": "e1MCuDF9Af5Z",
        "outputId": "eb69747a-95e2-490c-998b-0fa2685ac677",
        "colab": {
          "base_uri": "https://localhost:8080/",
          "height": 472
        }
      },
      "outputs": [
        {
          "output_type": "display_data",
          "data": {
            "text/plain": [
              "<Figure size 640x480 with 1 Axes>"
            ],
            "image/png": "[encoded data removed]"
          },
          "metadata": {}
        }
      ],
      "source": [
        "sns.histplot(df['fuel_efficiency_mpg'], kde=True)\n",
        "\n",
        "plt.title('Розподіл значеннь fuel_efficiency_mpg')\n",
        "plt.xlabel('Fuel Efficiency (MPG)')\n",
        "plt.ylabel('Частота')\n",
        "plt.show()"
      ]
    },
    {
      "cell_type": "markdown",
      "metadata": {
        "id": "sJXaIGBtAf5a"
      },
      "source": [
        "🧐 **Ні, у цьому випадку \"довгого хвоста\" немає.**\n",
        "\n",
        "На цьому графіку розподілу **fuel_efficiency_mpg** ми бачимо класичну **нормальну (гаусівську) криву** — симетричну, дзвоноподібну форму, де більшість значень згруповані навколо середнього, а частота поступово зменшується в обидва боки.\n",
        "\n",
        "🔍 **Ознаки, що це не \"довгий хвіст\":**\n",
        "- Розподіл симетричний.\n",
        "- Немає сильно витягнутої правої або лівої частини з рідкісними, але численними значеннями.\n",
        "- Частота швидко спадає до нуля на краях, без \"плато\" або повільного згасання.\n",
        "\n",
        "📌 **А як виглядає \"довгий хвіст\"?**\n",
        "Це коли:\n",
        "- Є **асиметрія** — хвіст тягнеться далеко вправо або вліво.\n",
        "- Частота рідкісних значень **не нульова**, а поступово зменшується.\n",
        "- Наприклад, у розподілі доходів: кілька людей мають надзвичайно високі доходи, які утворюють довгий правий хвіст.\n",
        "\n",
        "  ![long_tail]('https://uk.wikipedia.org/wiki/%D0%94%D0%BE%D0%B2%D0%B3%D0%B8%D0%B9_%D1%85%D0%B2%D1%96%D1%81%D1%82#/media/%D0%A4%D0%B0%D0%B9%D0%BB:Long_tail.svg')"
      ]
    },
    {
      "cell_type": "code",
      "execution_count": 7,
      "metadata": {
        "id": "WFNj4Hz0Af5d",
        "outputId": "5286448b-4545-4659-c769-e1a235c60d7f",
        "colab": {
          "base_uri": "https://localhost:8080/"
        }
      },
      "outputs": [
        {
          "output_type": "stream",
          "name": "stdout",
          "text": [
            "engine_displacement\n",
            "[170 130 220 210 190]\n",
            "36\n",
            "\n",
            "horsepower\n",
            "[159.  97.  78.  nan 140.]\n",
            "192\n",
            "\n",
            "vehicle_weight\n",
            "[3413.43375861 3149.66493422 3079.03899737 2542.39240183 3460.87098999]\n",
            "9704\n",
            "\n",
            "model_year\n",
            "[2003 2007 2018 2009 2008]\n",
            "24\n",
            "\n",
            "fuel_efficiency_mpg\n",
            "[13.23172891 13.68821744 14.246341   16.9127356  12.48836912]\n",
            "9704\n",
            "\n"
          ]
        }
      ],
      "source": [
        "for col in df.columns:\n",
        "    print(col)\n",
        "    print(df[col].unique()[:5])\n",
        "    print(df[col].nunique())\n",
        "    print()"
      ]
    },
    {
      "cell_type": "markdown",
      "metadata": {
        "id": "1804f58f"
      },
      "source": [
        "### Питання 1. Пропущені значення\n",
        "\n",
        "Скільки стовпців у наборі даних мають пропущені значення?"
      ]
    },
    {
      "cell_type": "code",
      "execution_count": 8,
      "metadata": {
        "id": "67323861",
        "outputId": "6dce7a5f-aaaf-49d0-ab82-dba2f089c9c3",
        "colab": {
          "base_uri": "https://localhost:8080/",
          "height": 241
        }
      },
      "outputs": [
        {
          "output_type": "execute_result",
          "data": {
            "text/plain": [
              "engine_displacement      0\n",
              "horsepower             708\n",
              "vehicle_weight           0\n",
              "model_year               0\n",
              "fuel_efficiency_mpg      0\n",
              "dtype: int64"
            ],
            "text/html": [
              "<div>\n",
              "<style scoped>\n",
              "    .dataframe tbody tr th:only-of-type {\n",
              "        vertical-align: middle;\n",
              "    }\n",
              "\n",
              "    .dataframe tbody tr th {\n",
              "        vertical-align: top;\n",
              "    }\n",
              "\n",
              "    .dataframe thead th {\n",
              "        text-align: right;\n",
              "    }\n",
              "</style>\n",
              "<table border=\"1\" class=\"dataframe\">\n",
              "  <thead>\n",
              "    <tr style=\"text-align: right;\">\n",
              "      <th></th>\n",
              "      <th>0</th>\n",
              "    </tr>\n",
              "  </thead>\n",
              "  <tbody>\n",
              "    <tr>\n",
              "      <th>engine_displacement</th>\n",
              "      <td>0</td>\n",
              "    </tr>\n",
              "    <tr>\n",
              "      <th>horsepower</th>\n",
              "      <td>708</td>\n",
              "    </tr>\n",
              "    <tr>\n",
              "      <th>vehicle_weight</th>\n",
              "      <td>0</td>\n",
              "    </tr>\n",
              "    <tr>\n",
              "      <th>model_year</th>\n",
              "      <td>0</td>\n",
              "    </tr>\n",
              "    <tr>\n",
              "      <th>fuel_efficiency_mpg</th>\n",
              "      <td>0</td>\n",
              "    </tr>\n",
              "  </tbody>\n",
              "</table>\n",
              "</div><br><label><b>dtype:</b> int64</label>"
            ]
          },
          "metadata": {},
          "execution_count": 8
        }
      ],
      "source": [
        "df.isnull().sum()"
      ]
    },
    {
      "cell_type": "markdown",
      "metadata": {
        "id": "7611956e"
      },
      "source": [
        "Пропущені значення є у стовпці `horsepower`."
      ]
    },
    {
      "cell_type": "code",
      "execution_count": 9,
      "metadata": {
        "id": "51458925",
        "outputId": "a181c5d0-924c-4dc7-c148-75925c4162ce",
        "colab": {
          "base_uri": "https://localhost:8080/"
        }
      },
      "outputs": [
        {
          "output_type": "execute_result",
          "data": {
            "text/plain": [
              "np.int64(708)"
            ]
          },
          "metadata": {},
          "execution_count": 9
        }
      ],
      "source": [
        "df['horsepower'].isnull().sum()"
      ]
    },
    {
      "cell_type": "markdown",
      "metadata": {
        "id": "6917646d"
      },
      "source": [
        "### Питання 2\n",
        "\n",
        "Яка медіана (50-й процентиль) для змінної `'horsepower'`?\n",
        "\n",
        "- 49\n",
        "- 99\n",
        "- 149\n",
        "- 199"
      ]
    },
    {
      "cell_type": "code",
      "execution_count": 10,
      "metadata": {
        "id": "e7225243",
        "outputId": "3c9c27a9-342b-40a1-b842-d746970ba08c",
        "colab": {
          "base_uri": "https://localhost:8080/",
          "height": 241
        }
      },
      "outputs": [
        {
          "output_type": "execute_result",
          "data": {
            "text/plain": [
              "count    8996.0\n",
              "mean      150.0\n",
              "25%       130.0\n",
              "50%       149.0\n",
              "75%       170.0\n",
              "Name: horsepower, dtype: float64"
            ],
            "text/html": [
              "<div>\n",
              "<style scoped>\n",
              "    .dataframe tbody tr th:only-of-type {\n",
              "        vertical-align: middle;\n",
              "    }\n",
              "\n",
              "    .dataframe tbody tr th {\n",
              "        vertical-align: top;\n",
              "    }\n",
              "\n",
              "    .dataframe thead th {\n",
              "        text-align: right;\n",
              "    }\n",
              "</style>\n",
              "<table border=\"1\" class=\"dataframe\">\n",
              "  <thead>\n",
              "    <tr style=\"text-align: right;\">\n",
              "      <th></th>\n",
              "      <th>horsepower</th>\n",
              "    </tr>\n",
              "  </thead>\n",
              "  <tbody>\n",
              "    <tr>\n",
              "      <th>count</th>\n",
              "      <td>8996.0</td>\n",
              "    </tr>\n",
              "    <tr>\n",
              "      <th>mean</th>\n",
              "      <td>150.0</td>\n",
              "    </tr>\n",
              "    <tr>\n",
              "      <th>25%</th>\n",
              "      <td>130.0</td>\n",
              "    </tr>\n",
              "    <tr>\n",
              "      <th>50%</th>\n",
              "      <td>149.0</td>\n",
              "    </tr>\n",
              "    <tr>\n",
              "      <th>75%</th>\n",
              "      <td>170.0</td>\n",
              "    </tr>\n",
              "  </tbody>\n",
              "</table>\n",
              "</div><br><label><b>dtype:</b> float64</label>"
            ]
          },
          "metadata": {},
          "execution_count": 10
        }
      ],
      "source": [
        "df.horsepower.describe()[['count','mean','25%','50%', '75%']].round(0)"
      ]
    },
    {
      "cell_type": "markdown",
      "metadata": {
        "id": "kg-NBQ-dAf5c"
      },
      "source": [
        "Q2: *149*"
      ]
    },
    {
      "cell_type": "markdown",
      "metadata": {
        "id": "78784347"
      },
      "source": [
        "### **Підготуйте та розділіть набір даних**\n",
        "\n",
        "* Перемішайте набір даних використовуйте seed `42`.\n",
        "* Розділіть ваші дані на навчальний/валідаційний/тестовий набори\n",
        "у співвідношенні 60%/20%/20%.\n",
        "\n",
        "Використовуйте той же код, що і в лекціях"
      ]
    },
    {
      "cell_type": "code",
      "execution_count": 11,
      "metadata": {
        "id": "27814b30",
        "outputId": "bb11bf3f-f7bc-46fc-a969-3387b3704054",
        "colab": {
          "base_uri": "https://localhost:8080/",
          "height": 251
        }
      },
      "outputs": [
        {
          "output_type": "stream",
          "name": "stdout",
          "text": [
            "Кількість записів у початковому наборі: 9704\n",
            "Розмір навчального набору: 5822\n",
            "Розмір валідаційного набору: 1941\n",
            "Розмір тестового набору: 1941\n",
            "\n",
            "Навчальний набір (перші 3 рядки):\n"
          ]
        },
        {
          "output_type": "execute_result",
          "data": {
            "text/plain": [
              "   engine_displacement  horsepower  vehicle_weight  model_year  \\\n",
              "0                  240       137.0     2471.172629        2010   \n",
              "1                  240       127.0     4044.606636        2000   \n",
              "2                  280         NaN     3039.297482        2011   \n",
              "\n",
              "   fuel_efficiency_mpg  \n",
              "0            17.697460  \n",
              "1             9.298735  \n",
              "2            14.724394  "
            ],
            "text/html": [
              "\n",
              "  <div id=\"df-592e9d28-012d-4a52-bf95-df4b9c2afacc\" class=\"colab-df-container\">\n",
              "    <div>\n",
              "<style scoped>\n",
              "    .dataframe tbody tr th:only-of-type {\n",
              "        vertical-align: middle;\n",
              "    }\n",
              "\n",
              "    .dataframe tbody tr th {\n",
              "        vertical-align: top;\n",
              "    }\n",
              "\n",
              "    .dataframe thead th {\n",
              "        text-align: right;\n",
              "    }\n",
              "</style>\n",
              "<table border=\"1\" class=\"dataframe\">\n",
              "  <thead>\n",
              "    <tr style=\"text-align: right;\">\n",
              "      <th></th>\n",
              "      <th>engine_displacement</th>\n",
              "      <th>horsepower</th>\n",
              "      <th>vehicle_weight</th>\n",
              "      <th>model_year</th>\n",
              "      <th>fuel_efficiency_mpg</th>\n",
              "    </tr>\n",
              "  </thead>\n",
              "  <tbody>\n",
              "    <tr>\n",
              "      <th>0</th>\n",
              "      <td>240</td>\n",
              "      <td>137.0</td>\n",
              "      <td>2471.172629</td>\n",
              "      <td>2010</td>\n",
              "      <td>17.697460</td>\n",
              "    </tr>\n",
              "    <tr>\n",
              "      <th>1</th>\n",
              "      <td>240</td>\n",
              "      <td>127.0</td>\n",
              "      <td>4044.606636</td>\n",
              "      <td>2000</td>\n",
              "      <td>9.298735</td>\n",
              "    </tr>\n",
              "    <tr>\n",
              "      <th>2</th>\n",
              "      <td>280</td>\n",
              "      <td>NaN</td>\n",
              "      <td>3039.297482</td>\n",
              "      <td>2011</td>\n",
              "      <td>14.724394</td>\n",
              "    </tr>\n",
              "  </tbody>\n",
              "</table>\n",
              "</div>\n",
              "    <div class=\"colab-df-buttons\">\n",
              "\n",
              "  <div class=\"colab-df-container\">\n",
              "    <button class=\"colab-df-convert\" onclick=\"convertToInteractive('df-592e9d28-012d-4a52-bf95-df4b9c2afacc')\"\n",
              "            title=\"Convert this dataframe to an interactive table.\"\n",
              "            style=\"display:none;\">\n",
              "\n",
              "  <svg xmlns=\"http://www.w3.org/2000/svg\" height=\"24px\" viewBox=\"0 -960 960 960\">\n",
              "    <path d=\"M120-120v-720h720v720H120Zm60-500h600v-160H180v160Zm220 220h160v-160H400v160Zm0 220h160v-160H400v160ZM180-400h160v-160H180v160Zm440 0h160v-160H620v160ZM180-180h160v-160H180v160Zm440 0h160v-160H620v160Z\"/>\n",
              "  </svg>\n",
              "    </button>\n",
              "\n",
              "  <style>\n",
              "    .colab-df-container {\n",
              "      display:flex;\n",
              "      gap: 12px;\n",
              "    }\n",
              "\n",
              "    .colab-df-convert {\n",
              "      background-color: #E8F0FE;\n",
              "      border: none;\n",
              "      border-radius: 50%;\n",
              "      cursor: pointer;\n",
              "      display: none;\n",
              "      fill: #1967D2;\n",
              "      height: 32px;\n",
              "      padding: 0 0 0 0;\n",
              "      width: 32px;\n",
              "    }\n",
              "\n",
              "    .colab-df-convert:hover {\n",
              "      background-color: #E2EBFA;\n",
              "      box-shadow: 0px 1px 2px rgba(60, 64, 67, 0.3), 0px 1px 3px 1px rgba(60, 64, 67, 0.15);\n",
              "      fill: #174EA6;\n",
              "    }\n",
              "\n",
              "    .colab-df-buttons div {\n",
              "      margin-bottom: 4px;\n",
              "    }\n",
              "\n",
              "    [theme=dark] .colab-df-convert {\n",
              "      background-color: #3B4455;\n",
              "      fill: #D2E3FC;\n",
              "    }\n",
              "\n",
              "    [theme=dark] .colab-df-convert:hover {\n",
              "      background-color: #434B5C;\n",
              "      box-shadow: 0px 1px 3px 1px rgba(0, 0, 0, 0.15);\n",
              "      filter: drop-shadow(0px 1px 2px rgba(0, 0, 0, 0.3));\n",
              "      fill: #FFFFFF;\n",
              "    }\n",
              "  </style>\n",
              "\n",
              "    <script>\n",
              "      const buttonEl =\n",
              "        document.querySelector('#df-592e9d28-012d-4a52-bf95-df4b9c2afacc button.colab-df-convert');\n",
              "      buttonEl.style.display =\n",
              "        google.colab.kernel.accessAllowed ? 'block' : 'none';\n",
              "\n",
              "      async function convertToInteractive(key) {\n",
              "        const element = document.querySelector('#df-592e9d28-012d-4a52-bf95-df4b9c2afacc');\n",
              "        const dataTable =\n",
              "          await google.colab.kernel.invokeFunction('convertToInteractive',\n",
              "                                                    [key], {});\n",
              "        if (!dataTable) return;\n",
              "\n",
              "        const docLinkHtml = 'Like what you see? Visit the ' +\n",
              "          '<a target=\"_blank\" href=https://colab.research.google.com/notebooks/data_table.ipynb>data table notebook</a>'\n",
              "          + ' to learn more about interactive tables.';\n",
              "        element.innerHTML = '';\n",
              "        dataTable['output_type'] = 'display_data';\n",
              "        await google.colab.output.renderOutput(dataTable, element);\n",
              "        const docLink = document.createElement('div');\n",
              "        docLink.innerHTML = docLinkHtml;\n",
              "        element.appendChild(docLink);\n",
              "      }\n",
              "    </script>\n",
              "  </div>\n",
              "\n",
              "\n",
              "    <div id=\"df-97f5290e-304e-4f5b-a776-233de0a61712\">\n",
              "      <button class=\"colab-df-quickchart\" onclick=\"quickchart('df-97f5290e-304e-4f5b-a776-233de0a61712')\"\n",
              "                title=\"Suggest charts\"\n",
              "                style=\"display:none;\">\n",
              "\n",
              "<svg xmlns=\"http://www.w3.org/2000/svg\" height=\"24px\"viewBox=\"0 0 24 24\"\n",
              "     width=\"24px\">\n",
              "    <g>\n",
              "        <path d=\"M19 3H5c-1.1 0-2 .9-2 2v14c0 1.1.9 2 2 2h14c1.1 0 2-.9 2-2V5c0-1.1-.9-2-2-2zM9 17H7v-7h2v7zm4 0h-2V7h2v10zm4 0h-2v-4h2v4z\"/>\n",
              "    </g>\n",
              "</svg>\n",
              "      </button>\n",
              "\n",
              "<style>\n",
              "  .colab-df-quickchart {\n",
              "      --bg-color: #E8F0FE;\n",
              "      --fill-color: #1967D2;\n",
              "      --hover-bg-color: #E2EBFA;\n",
              "      --hover-fill-color: #174EA6;\n",
              "      --disabled-fill-color: #AAA;\n",
              "      --disabled-bg-color: #DDD;\n",
              "  }\n",
              "\n",
              "  [theme=dark] .colab-df-quickchart {\n",
              "      --bg-color: #3B4455;\n",
              "      --fill-color: #D2E3FC;\n",
              "      --hover-bg-color: #434B5C;\n",
              "      --hover-fill-color: #FFFFFF;\n",
              "      --disabled-bg-color: #3B4455;\n",
              "      --disabled-fill-color: #666;\n",
              "  }\n",
              "\n",
              "  .colab-df-quickchart {\n",
              "    background-color: var(--bg-color);\n",
              "    border: none;\n",
              "    border-radius: 50%;\n",
              "    cursor: pointer;\n",
              "    display: none;\n",
              "    fill: var(--fill-color);\n",
              "    height: 32px;\n",
              "    padding: 0;\n",
              "    width: 32px;\n",
              "  }\n",
              "\n",
              "  .colab-df-quickchart:hover {\n",
              "    background-color: var(--hover-bg-color);\n",
              "    box-shadow: 0 1px 2px rgba(60, 64, 67, 0.3), 0 1px 3px 1px rgba(60, 64, 67, 0.15);\n",
              "    fill: var(--button-hover-fill-color);\n",
              "  }\n",
              "\n",
              "  .colab-df-quickchart-complete:disabled,\n",
              "  .colab-df-quickchart-complete:disabled:hover {\n",
              "    background-color: var(--disabled-bg-color);\n",
              "    fill: var(--disabled-fill-color);\n",
              "    box-shadow: none;\n",
              "  }\n",
              "\n",
              "  .colab-df-spinner {\n",
              "    border: 2px solid var(--fill-color);\n",
              "    border-color: transparent;\n",
              "    border-bottom-color: var(--fill-color);\n",
              "    animation:\n",
              "      spin 1s steps(1) infinite;\n",
              "  }\n",
              "\n",
              "  @keyframes spin {\n",
              "    0% {\n",
              "      border-color: transparent;\n",
              "      border-bottom-color: var(--fill-color);\n",
              "      border-left-color: var(--fill-color);\n",
              "    }\n",
              "    20% {\n",
              "      border-color: transparent;\n",
              "      border-left-color: var(--fill-color);\n",
              "      border-top-color: var(--fill-color);\n",
              "    }\n",
              "    30% {\n",
              "      border-color: transparent;\n",
              "      border-left-color: var(--fill-color);\n",
              "      border-top-color: var(--fill-color);\n",
              "      border-right-color: var(--fill-color);\n",
              "    }\n",
              "    40% {\n",
              "      border-color: transparent;\n",
              "      border-right-color: var(--fill-color);\n",
              "      border-top-color: var(--fill-color);\n",
              "    }\n",
              "    60% {\n",
              "      border-color: transparent;\n",
              "      border-right-color: var(--fill-color);\n",
              "    }\n",
              "    80% {\n",
              "      border-color: transparent;\n",
              "      border-right-color: var(--fill-color);\n",
              "      border-bottom-color: var(--fill-color);\n",
              "    }\n",
              "    90% {\n",
              "      border-color: transparent;\n",
              "      border-bottom-color: var(--fill-color);\n",
              "    }\n",
              "  }\n",
              "</style>\n",
              "\n",
              "      <script>\n",
              "        async function quickchart(key) {\n",
              "          const quickchartButtonEl =\n",
              "            document.querySelector('#' + key + ' button');\n",
              "          quickchartButtonEl.disabled = true;  // To prevent multiple clicks.\n",
              "          quickchartButtonEl.classList.add('colab-df-spinner');\n",
              "          try {\n",
              "            const charts = await google.colab.kernel.invokeFunction(\n",
              "                'suggestCharts', [key], {});\n",
              "          } catch (error) {\n",
              "            console.error('Error during call to suggestCharts:', error);\n",
              "          }\n",
              "          quickchartButtonEl.classList.remove('colab-df-spinner');\n",
              "          quickchartButtonEl.classList.add('colab-df-quickchart-complete');\n",
              "        }\n",
              "        (() => {\n",
              "          let quickchartButtonEl =\n",
              "            document.querySelector('#df-97f5290e-304e-4f5b-a776-233de0a61712 button');\n",
              "          quickchartButtonEl.style.display =\n",
              "            google.colab.kernel.accessAllowed ? 'block' : 'none';\n",
              "        })();\n",
              "      </script>\n",
              "    </div>\n",
              "    </div>\n",
              "  </div>\n"
            ],
            "application/vnd.google.colaboratory.intrinsic+json": {
              "type": "dataframe",
              "variable_name": "df_train",
              "summary": "{\n  \"name\": \"df_train\",\n  \"rows\": 5822,\n  \"fields\": [\n    {\n      \"column\": \"engine_displacement\",\n      \"properties\": {\n        \"dtype\": \"number\",\n        \"std\": 49,\n        \"min\": 10,\n        \"max\": 380,\n        \"num_unique_values\": 36,\n        \"samples\": [\n          370,\n          160,\n          320\n        ],\n        \"semantic_type\": \"\",\n        \"description\": \"\"\n      }\n    },\n    {\n      \"column\": \"horsepower\",\n      \"properties\": {\n        \"dtype\": \"number\",\n        \"std\": 30.038027308439524,\n        \"min\": 37.0,\n        \"max\": 271.0,\n        \"num_unique_values\": 185,\n        \"samples\": [\n          136.0,\n          207.0,\n          84.0\n        ],\n        \"semantic_type\": \"\",\n        \"description\": \"\"\n      }\n    },\n    {\n      \"column\": \"vehicle_weight\",\n      \"properties\": {\n        \"dtype\": \"number\",\n        \"std\": 498.8453547594716,\n        \"min\": 952.6817606436496,\n        \"max\": 4739.077089392099,\n        \"num_unique_values\": 5822,\n        \"samples\": [\n          2522.781802946997,\n          2863.8933009230823,\n          3917.1851565206457\n        ],\n        \"semantic_type\": \"\",\n        \"description\": \"\"\n      }\n    },\n    {\n      \"column\": \"model_year\",\n      \"properties\": {\n        \"dtype\": \"number\",\n        \"std\": 6,\n        \"min\": 2000,\n        \"max\": 2023,\n        \"num_unique_values\": 24,\n        \"samples\": [\n          2013,\n          2021,\n          2010\n        ],\n        \"semantic_type\": \"\",\n        \"description\": \"\"\n      }\n    },\n    {\n      \"column\": \"fuel_efficiency_mpg\",\n      \"properties\": {\n        \"dtype\": \"number\",\n        \"std\": 2.56133051464808,\n        \"min\": 6.200970533392815,\n        \"max\": 25.96722204888372,\n        \"num_unique_values\": 5822,\n        \"samples\": [\n          17.214102332111793,\n          16.014458582107153,\n          10.355603305390256\n        ],\n        \"semantic_type\": \"\",\n        \"description\": \"\"\n      }\n    }\n  ]\n}"
            }
          },
          "metadata": {},
          "execution_count": 11
        }
      ],
      "source": [
        "# Розділяємо дані на навчальний набір (60%) і тимчасовий набір (40%)\n",
        "# shuffle=True є стандартним, а random_state забезпечує відтворюваність\n",
        "df_train, df_temp = train_test_split(df, test_size=0.4, random_state=42)\n",
        "\n",
        "# Тепер розділяємо тимчасовий набір (40%) на валідаційний (20%) і тестовий (20%)\n",
        "# 0.5 * 0.4 = 0.2, тому test_size=0.5\n",
        "df_val, df_test = train_test_split(df_temp, test_size=0.5, random_state=42)\n",
        "\n",
        "df_train = df_train.reset_index(drop=True)\n",
        "df_val = df_val.reset_index(drop=True)\n",
        "df_test = df_test.reset_index(drop=True)\n",
        "\n",
        "# Перевіряємо розміри наборів\n",
        "print(f\"Кількість записів у початковому наборі: {len(df)}\")\n",
        "print(f\"Розмір навчального набору: {len(df_train)}\")\n",
        "print(f\"Розмір валідаційного набору: {len(df_val)}\")\n",
        "print(f\"Розмір тестового набору: {len(df_test)}\")\n",
        "\n",
        "# Можете переглянути перші декілька рядків кожного набору\n",
        "print(\"\\nНавчальний набір (перші 3 рядки):\")\n",
        "df_train.head(3)"
      ]
    },
    {
      "cell_type": "code",
      "execution_count": 11,
      "metadata": {
        "id": "aPVJHHGi5pX0"
      },
      "outputs": [],
      "source": []
    },
    {
      "cell_type": "markdown",
      "metadata": {
        "id": "45464166"
      },
      "source": [
        "### Питання 3\n",
        "\n",
        "**Заповнення пропущених значень**\n",
        "\n",
        "* Нам потрібно розібратися з відсутніми значеннями для колонки з Питання 1 (df['horsepower']).\n",
        "* У нас є два варіанти заповнити їх:\n",
        "    - `0`;\n",
        "    - або середнім значенням цієї змінної.\n",
        "* Спробуйте обидва варіанти.\n",
        "* Для кожного навчіть модель лінійної регресії без регуляризації, використовуючи код з уроків.\n",
        "* Для обчислення середнього використовуйте лише навчальний набір!"
      ]
    },
    {
      "cell_type": "markdown",
      "metadata": {
        "id": "1843b018"
      },
      "source": [
        "Перевіримо, чи залишились пропущені значення:"
      ]
    },
    {
      "cell_type": "code",
      "execution_count": 12,
      "metadata": {
        "id": "31952044",
        "outputId": "e76ec18c-4398-4256-979b-c6f2371552bb",
        "colab": {
          "base_uri": "https://localhost:8080/"
        }
      },
      "outputs": [
        {
          "output_type": "execute_result",
          "data": {
            "text/plain": [
              "np.int64(708)"
            ]
          },
          "metadata": {},
          "execution_count": 12
        }
      ],
      "source": [
        "df['horsepower'].isnull().sum()"
      ]
    },
    {
      "cell_type": "markdown",
      "metadata": {
        "id": "FNRR8Lv6Af5e"
      },
      "source": [
        "* Використовуйте валідаційний набір даних для оцінки моделей та порівняння RMSE кожного варіанту.\n",
        "* Округліть показники RMSE до 2 десяткових знаків за допомогою `round(score, 2)`\n",
        "* Який варіант дає кращий RMSE?"
      ]
    },
    {
      "cell_type": "markdown",
      "metadata": {
        "id": "pjyZ9N3GAf5e"
      },
      "source": [
        "Ваші дані вже розділені, і у вас є три DataFrame: df_train, df_val, df_test. Також припустимо, що цільовою змінною є fuel_efficiency_mpg, а решта —ознаками.\n",
        "\n",
        "  План дій:\n",
        "   1. Підготовка: Визначимо список ознак (features) і цільову змінну (target).\n",
        "   2. Стратегія 1: Заповнення нулем (`0`)\n",
        "       * Створимо копії наборів даних, щоб не змінювати оригінали.\n",
        "       * Заповнимо пропущені значення в horsepower нулем.\n",
        "       * Підготуємо матриці ознак X та вектори цільової змінної y.\n",
        "       * Навчимо модель лінійної регресії.\n",
        "   3. Стратегія 2: Заповнення середнім значенням\n",
        "       * Створимо нові копії наборів даних.\n",
        "       * Обчислимо середнє значення horsepower лише на навчальному наборі (`df_train`).\n",
        "       * Заповнимо пропущені значення цим середнім у всіх трьох наборах.\n",
        "       * Підготуємо матриці X та вектори y.\n",
        "       * Навчимо другу модель лінійної регресії.\n",
        "   4. Оцінка: Щоб порівняти, яка стратегія краща, обчислимо помилку (наприклад, RMSE) на валідаційному наборі для кожної моделі."
      ]
    },
    {
      "cell_type": "code",
      "source": [
        "def train_linear_regression(X, y):\n",
        "    ones = np.ones(X.shape[0])\n",
        "    X = np.column_stack([ones, X])\n",
        "\n",
        "    XTX = X.T.dot(X)\n",
        "    XTX_inv = np.linalg.inv(XTX)\n",
        "    w_full = XTX_inv.dot(X.T).dot(y)\n",
        "\n",
        "    return w_full[0], w_full[1:]"
      ],
      "metadata": {
        "id": "WWTb_bL6ErLs"
      },
      "execution_count": 13,
      "outputs": []
    },
    {
      "cell_type": "code",
      "execution_count": 14,
      "metadata": {
        "id": "vuPOZbHRAf5f",
        "outputId": "408a05bb-e9e4-4f2f-da20-7b49c8952a9f",
        "colab": {
          "base_uri": "https://localhost:8080/"
        }
      },
      "outputs": [
        {
          "output_type": "stream",
          "name": "stdout",
          "text": [
            "--- Стратегія 1: Заповнення нулем ---\n",
            "Перевірка пропущенних значень: 0\n",
            "Модель, навчена на даних із заповненням нулем, готова.\n",
            "RMSE на валідаційному наборі (заповнення нулем): 0.5173\n",
            "\n"
          ]
        }
      ],
      "source": [
        "# У вас є df_train, df_val, df_test\n",
        "# Визначимо ознаки та цільову змінну\n",
        "features = [\n",
        "    'engine_displacement',\n",
        "    'horsepower',\n",
        "    'vehicle_weight',\n",
        "    'model_year',]\n",
        "target = 'fuel_efficiency_mpg'\n",
        "\n",
        "\n",
        "# --- Стратегія 1: Заповнення пропущених значень нулем ---\n",
        "\n",
        "print(\"--- Стратегія 1: Заповнення нулем ---\")\n",
        "# Створюємо копії, щоб не змінювати оригінальні дані\n",
        "df_train_zero = df_train.copy()\n",
        "df_val_zero = df_val.copy()\n",
        "\n",
        "# Заповнюємо пропуски нулем\n",
        "df_train_zero['horsepower'] = df_train_zero['horsepower'].fillna(0)\n",
        "df_val_zero['horsepower'] = df_val_zero['horsepower'].fillna(0)\n",
        "\n",
        "print(\"Перевірка пропущенних значень:\", df_train_zero['horsepower'].isnull().sum() + df_val_zero['horsepower'].isnull().sum())\n",
        "\n",
        "# Готуємо дані для моделі\n",
        "X_train_zero = df_train_zero[features].values\n",
        "y_train = df_train_zero[target].values\n",
        "\n",
        "# Навчаємо модель за допомогою custom функції\n",
        "w0_zero, w_zero = train_linear_regression(X_train_zero, y_train)\n",
        "\n",
        "\n",
        "print(\"Модель, навчена на даних із заповненням нулем, готова.\")\n",
        "# Оцінимо на валідаційному наборі\n",
        "X_val_zero = df_val_zero[features].values\n",
        "y_val = df_val_zero[target].values\n",
        "# Додаємо стовпець одиниць для вільного члена\n",
        "X_val_zero = np.column_stack([np.ones(X_val_zero.shape[0]), X_val_zero])\n",
        "\n",
        "y_pred_zero = X_val_zero.dot(np.concatenate([[w0_zero], w_zero]))\n",
        "\n",
        "rmse_zero = np.sqrt(mean_squared_error(y_val, y_pred_zero))\n",
        "print(f\"RMSE на валідаційному наборі (заповнення нулем): {rmse_zero:.4f}\\n\")"
      ]
    },
    {
      "cell_type": "code",
      "execution_count": 15,
      "metadata": {
        "id": "PUGA517oAf5f",
        "outputId": "ace93f17-bfe3-4bb2-b744-32217974abec",
        "colab": {
          "base_uri": "https://localhost:8080/"
        }
      },
      "outputs": [
        {
          "output_type": "stream",
          "name": "stdout",
          "text": [
            "--- Стратегія 2: Заповнення середнім ---\n",
            "Середнє значення 'horsepower' на навчальному наборі: 149.7521\n",
            "Модель, навчена на даних із заповненням середнім, готова.\n",
            "RMSE на валідаційному наборі (заповнення середнім): 0.4604\n",
            "\n",
            "--- Результати ---\n",
            "RMSE (заповнення нулем): 0.52\n",
            "RMSE (заповнення середнім): 0.46\n",
            "Стратегія заповнення середнім значенням дала кращий результат (меншу помилку).\n"
          ]
        }
      ],
      "source": [
        "# --- Стратегія 2: Заповнення середнім значенням ---\n",
        "\n",
        "print(\"--- Стратегія 2: Заповнення середнім ---\")\n",
        "# Створюємо копії\n",
        "df_train_mean = df_train.copy()\n",
        "df_val_mean = df_val.copy()\n",
        "\n",
        "# Обчислюємо середнє ТІЛЬКИ на навчальному наборі\n",
        "mean_hp = df_train_mean['horsepower'].mean()\n",
        "print(f\"Середнє значення 'horsepower' на навчальному наборі: {mean_hp:.4f}\")\n",
        "\n",
        "# Заповнюємо пропуски середнім значенням в обох наборах\n",
        "df_train_mean['horsepower'] = df_train_mean['horsepower'].fillna(mean_hp)\n",
        "df_val_mean['horsepower'] = df_val_mean['horsepower'].fillna(mean_hp)\n",
        "\n",
        "# Готуємо дані для моделі\n",
        "X_train_mean = df_train_mean[features].values\n",
        "y_train = df_train_mean[target].values # y_train такий самий\n",
        "\n",
        "# Навчаємо модель за допомогою custom функції\n",
        "w0_mean, w_mean = train_linear_regression(X_train_mean, y_train)\n",
        "\n",
        "\n",
        "print(\"Модель, навчена на даних із заповненням середнім, готова.\")\n",
        "# Оцінимо на валідаційному наборі\n",
        "X_val_mean = df_val_mean[features].values\n",
        "y_val = df_val_mean[target].values\n",
        "\n",
        "# Додаємо стовпець одиниць для вільного члена\n",
        "X_val_mean = np.column_stack([np.ones(X_val_mean.shape[0]), X_val_mean])\n",
        "y_pred_mean = X_val_mean.dot(np.concatenate([[w0_mean], w_mean]))\n",
        "\n",
        "rmse_mean = np.sqrt(mean_squared_error(y_val, y_pred_mean))\n",
        "print(f\"RMSE на валідаційному наборі (заповнення середнім): {rmse_mean:.4f}\\n\")\n",
        "\n",
        "\n",
        "# --- Висновок ---\n",
        "print(\"--- Результати ---\")\n",
        "print(f\"RMSE (заповнення нулем): {rmse_zero:.2f}\")\n",
        "print(f\"RMSE (заповнення середнім): {rmse_mean:.2f}\")\n",
        "\n",
        "if rmse_mean <= rmse_zero:\n",
        "    print(\"Стратегія заповнення середнім значенням дала кращий результат (меншу помилку).\")\n",
        "else:\n",
        "    print(\"Стратегія заповнення нулем дала кращий результат (меншу помилку).\")"
      ]
    },
    {
      "cell_type": "markdown",
      "metadata": {
        "id": "OU9ywitlAf5f"
      },
      "source": [
        "### Питання 4\n",
        "\n",
        "* Тепер навчимо регуляризовану лінійну регресію.\n",
        "* Для цього питання заповніть пропущені значення 0.\n",
        "* Спробуйте різні значення `r` з цього списку: `[0, 0.01, 0.1, 1, 5, 10, 100]`.\n",
        "* Використовуйте RMSE для оцінки моделі на валідаційному наборі даних.\n",
        "* Округліть показники RMSE до 2 десяткових знаків.\n",
        "* Яке `r` дає найкращий RMSE?\n",
        "\n",
        "Що таке регуляризація?\n",
        "Уявіть, що ви навчаєте модель. Вона може стати настільки \"розумною\", що запам'ятає навчальні дані, включно з усім шумом та випадковими особливостями, замість того, щоб вивчити загальні закономірності. Це називається перенавчанням (overfitting). Така модель буде чудово працювати на даних, які вона вже бачила, але покаже погані результати на нових, незнайомих даних (наприклад, на валідаційному чи тестовому наборі).\n",
        "\n",
        "Регуляризація — це техніка, яка допомагає боротися з перенавчанням. Вона працює, додаючи \"штраф\" до функції втрат моделі за надмірну складність.\n",
        "\n",
        "Простими словами, ми говоримо моделі: \"Будь якомога точнішою, але не ускладнюй себе занадто сильно\".\n",
        "\n",
        "Як це працює в лінійній регресії?\n",
        "У лінійній регресії складність моделі визначається величиною її коефіцієнтів (ваг) при кожній ознаці. Якщо коефіцієнти дуже великі, це означає, що модель сильно реагує навіть на невеликі зміни у вхідних даних, що є ознакою перенавчання.\n",
        "\n",
        "Регуляризація додає до функції втрат штраф, пропорційний розміру цих коефіцієнтів. Це змушує модель утримувати коефіцієнти якомога меншими.\n",
        "\n",
        "r = 0: Немає штрафу. Це звичайна лінійна регресія.\n",
        "Маленьке r (напр., 0.01): Невеликий штраф. Модель все ще може бути складною.\n",
        "Велике r (напр., 100): Сильний штраф. Модель змушена робити коефіцієнти дуже маленькими, стаючи простішою.\n",
        "Чому ми її використовували у завданні?\n",
        "У питанні 4 ми якраз і досліджували ефект регуляризації.\n",
        "\n",
        "Мета: Ми хотіли перевірити, чи допоможе регуляризація покращити якість нашої моделі (тобто зменшити помилку RMSE на валідаційних даних).\n",
        "\n",
        "Варіанти:\n",
        "\n",
        "- 0\n",
        "- 0.01\n",
        "- 1\n",
        "- 10\n",
        "- 100"
      ]
    },
    {
      "cell_type": "code",
      "source": [
        "def train_linear_regression_reg(X, y, r=0.001):\n",
        "    ones = np.ones(X.shape[0])\n",
        "    X = np.column_stack([ones, X])\n",
        "\n",
        "    XTX = X.T.dot(X)\n",
        "    XTX = XTX + r * np.eye(XTX.shape[0])\n",
        "\n",
        "    XTX_inv = np.linalg.inv(XTX)\n",
        "    w_full = XTX_inv.dot(X.T).dot(y)\n",
        "\n",
        "    return w_full[0], w_full[1:]"
      ],
      "metadata": {
        "id": "usrfQhu3GJ7v"
      },
      "execution_count": 16,
      "outputs": []
    },
    {
      "cell_type": "markdown",
      "metadata": {
        "id": "otd37lHWAf5g"
      },
      "source": [
        "### Питання 5\n",
        "\n",
        "* Ми використовували seed 42 для розділення даних. Давайте з'ясуємо, як вибір seed впливає на наш результат.\n",
        "* Спробуйте різні значення seed: `[0, 1, 2, 3, 4, 5, 6, 7, 8, 9]`.\n",
        "* Для кожного seed виконайте розділення на навчальний/валідаційний/тестовий набори у співвідношенні 60%/20%/20%.\n",
        "* Заповніть відсутні значення 0 і навчіть модель без регуляризації.\n",
        "* Для кожного seed оцініть модель на валідаційному наборі даних та зберіть показники RMSE.\n",
        "* Яке стандартне відхилення всіх показників? Щоб обчислити стандартне відхилення, використовуйте `np.std`.\n",
        "* Округліть результат до 3 десяткових знаків (`round(std, 3)`)\n",
        "\n",
        "Яке значення std?\n",
        "\n",
        "- 0.001\n",
        "- 0.006\n",
        "- 0.060\n",
        "- 0.600"
      ]
    },
    {
      "cell_type": "code",
      "execution_count": 17,
      "metadata": {
        "id": "a90a1961",
        "outputId": "ef788b6c-25f2-4b08-d55a-3b8dd24861a7",
        "colab": {
          "base_uri": "https://localhost:8080/"
        }
      },
      "outputs": [
        {
          "output_type": "stream",
          "name": "stdout",
          "text": [
            "Seed: 0, RMSE: 2.619\n",
            "Seed: 1, RMSE: 2.579\n",
            "Seed: 2, RMSE: 2.591\n",
            "Seed: 3, RMSE: 2.542\n",
            "Seed: 4, RMSE: 2.58\n",
            "Seed: 5, RMSE: 2.507\n",
            "Seed: 6, RMSE: 2.563\n",
            "Seed: 7, RMSE: 2.557\n",
            "Seed: 8, RMSE: 2.538\n",
            "Seed: 9, RMSE: 2.557\n",
            "\n",
            "Стандартне відхилення показників RMSE: 0.03\n"
          ]
        }
      ],
      "source": [
        "seeds = [0, 1, 2, 3, 4, 5, 6, 7, 8, 9]\n",
        "rmse_scores = []\n",
        "\n",
        "for seed in seeds:\n",
        "    # Розділення даних з поточним seed\n",
        "    df_train, df_temp = train_test_split(df, test_size=0.4, random_state=seed)\n",
        "    df_val, _ = train_test_split(df_temp, test_size=0.5, random_state=seed)\n",
        "\n",
        "    df_train = df_train.reset_index(drop=True)\n",
        "    df_val = df_val.reset_index(drop=True)\n",
        "    df_test = df_test.reset_index(drop=True)\n",
        "\n",
        "    # Заповнення пропущених значень нулем\n",
        "    df_train_filled = df_train.fillna(0)\n",
        "    df_val_filled = df_val.fillna(0)\n",
        "\n",
        "    # Підготовка даних для моделі\n",
        "    X_train = df_train_filled[features].values\n",
        "    y_train = df_train_filled[target].values\n",
        "    X_val = df_val_filled[features].values\n",
        "    y_val = df_val_filled[target].values\n",
        "\n",
        "    # Навчання моделі\n",
        "    w0, w = train_linear_regression(X_train_mean, y_train)\n",
        "    X_val = np.column_stack([np.ones(X_val.shape[0]), X_val])\n",
        "    y_pred = X_val.dot(np.concatenate([[w0], w]))\n",
        "    rmse = np.sqrt(mean_squared_error(y_val, y_pred))\n",
        "    rmse_scores.append(rmse)\n",
        "    print(f'Seed: {seed}, RMSE: {round(rmse, 3)}')\n",
        "\n",
        "std_deviation = np.std(rmse_scores)\n",
        "print(f'\\nСтандартне відхилення показників RMSE: {round(std_deviation, 3)}')"
      ]
    },
    {
      "cell_type": "markdown",
      "metadata": {
        "id": "32qr42lWAf5h"
      },
      "source": [
        "### Питання 6\n",
        "\n",
        "* Розділіть набір даних, як і раніше, використовуйте seed 9.\n",
        "* Об'єднайте навчальний та валідаційний набори даних.\n",
        "* Заповніть відсутні значення 0 і навчіть модель з `r=0.001`.\n",
        "* Який RMSE на тестовому наборі даних?\n",
        "\n",
        "Варіанти:\n",
        "\n",
        "- 0.15\n",
        "- 0.515\n",
        "- 5.15\n",
        "- 51.5"
      ]
    },
    {
      "cell_type": "code",
      "execution_count": 18,
      "metadata": {
        "id": "2d80d222",
        "outputId": "02a0dec9-9770-4555-d778-76d7ed2277c7",
        "colab": {
          "base_uri": "https://localhost:8080/"
        }
      },
      "outputs": [
        {
          "output_type": "stream",
          "name": "stdout",
          "text": [
            "RMSE на тестовому наборі: 0.521\n"
          ]
        }
      ],
      "source": [
        "# 1. Розділення даних з seed=9\n",
        "df_train, df_temp = train_test_split(df, test_size=0.4, random_state=9)\n",
        "df_val, df_test = train_test_split(df_temp, test_size=0.5, random_state=9)\n",
        "\n",
        "# 2. Об'єднання навчального та валідаційного наборів\n",
        "df_full_train = pd.concat([df_train, df_val])\n",
        "\n",
        "df_full_train = df_full_train.reset_index(drop=True)\n",
        "df_test = df_test.reset_index(drop=True)\n",
        "\n",
        "# 3. Заповнення пропущених значень нулем\n",
        "df_full_train_filled = df_full_train.fillna(0)\n",
        "df_test_filled = df_test.fillna(0)\n",
        "\n",
        "# Підготовка даних\n",
        "X_full_train = df_full_train_filled[features].values\n",
        "y_full_train = df_full_train_filled[target].values\n",
        "X_test = df_test_filled[features].values\n",
        "y_test = df_test_filled[target].values\n",
        "\n",
        "# 4. Навчання моделі за допомогою custom функції train_linear_regression_reg з r=0.001\n",
        "w0, w = train_linear_regression_reg(X_full_train, y_full_train, r=0.001)\n",
        "\n",
        "# 5. Оцінка на тестовому наборі\n",
        "X_test_with_ones = np.column_stack([np.ones(X_test.shape[0]), X_test]) # Додаємо стовпець одиниць для вільного члена\n",
        "weights_full = np.concatenate(([w0], w)) # Об'єднуємо w0 та w для використання в dot product\n",
        "y_pred_test = X_test_with_ones.dot(weights_full)\n",
        "\n",
        "rmse_test = np.sqrt(mean_squared_error(y_test, y_pred_test))\n",
        "\n",
        "print(f'RMSE на тестовому наборі: {round(rmse_test, 3)}')"
      ]
    }
  ],
  "metadata": {
    "kernelspec": {
      "display_name": ".venv",
      "language": "python",
      "name": "python3"
    },
    "language_info": {
      "codemirror_mode": {
        "name": "ipython",
        "version": 3
      },
      "file_extension": ".py",
      "mimetype": "text/x-python",
      "name": "python",
      "nbconvert_exporter": "python",
      "pygments_lexer": "ipython3",
      "version": "3.12.3"
    },
    "colab": {
      "provenance": [],
      "include_colab_link": true
    }
  },
  "nbformat": 4,
  "nbformat_minor": 0
}