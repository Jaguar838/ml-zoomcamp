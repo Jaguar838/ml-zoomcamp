{
  "cells": [
    {
      "cell_type": "markdown",
      "metadata": {
        "id": "view-in-github",
        "colab_type": "text"
      },
      "source": [
        "<a href=\"https://colab.research.google.com/github/Jaguar838/ml-zoomcamp/blob/master/HW/hw-01/homework_1.ipynb\" target=\"_parent\"><img src=\"https://colab.research.google.com/assets/colab-badge.svg\" alt=\"Open In Colab\"/></a>"
      ]
    },
    {
      "cell_type": "markdown",
      "id": "251d40a3",
      "metadata": {
        "id": "251d40a3"
      },
      "source": [
        "## Homework #1"
      ]
    },
    {
      "cell_type": "markdown",
      "id": "b1cfc63c",
      "metadata": {
        "id": "b1cfc63c"
      },
      "source": [
        "### Set up the environment"
      ]
    },
    {
      "cell_type": "markdown",
      "id": "545d3529",
      "metadata": {
        "id": "545d3529"
      },
      "source": [
        "You need to install Python, NumPy, Pandas, Matplotlib and Seaborn. For that, you can the instructions from <a href='https://github.com/alexeygrigorev/mlbookcamp-code/blob/master/course-zoomcamp/01-intro/06-environment.md'>06-environment.md</a>."
      ]
    },
    {
      "cell_type": "code",
      "execution_count": 17,
      "id": "92a54c41",
      "metadata": {
        "id": "92a54c41",
        "tags": []
      },
      "outputs": [],
      "source": [
        "import numpy as np\n",
        "import pandas as pd"
      ]
    },
    {
      "cell_type": "markdown",
      "id": "351c8283",
      "metadata": {
        "id": "351c8283"
      },
      "source": [
        "### Question 1"
      ]
    },
    {
      "cell_type": "markdown",
      "id": "e8024830",
      "metadata": {
        "id": "e8024830"
      },
      "source": [
        "What's the version of Pandas that you installed?\n",
        "\n",
        "You can get the version information using the `__version__` field:"
      ]
    },
    {
      "cell_type": "code",
      "execution_count": 18,
      "id": "cd014841",
      "metadata": {
        "colab": {
          "base_uri": "https://localhost:8080/",
          "height": 35
        },
        "id": "cd014841",
        "outputId": "63cc397b-8c8c-498c-f393-64cd3baddafb",
        "tags": []
      },
      "outputs": [
        {
          "output_type": "execute_result",
          "data": {
            "text/plain": [
              "'2.2.2'"
            ],
            "application/vnd.google.colaboratory.intrinsic+json": {
              "type": "string"
            }
          },
          "metadata": {},
          "execution_count": 18
        }
      ],
      "source": [
        "pd.__version__"
      ]
    },
    {
      "cell_type": "markdown",
      "id": "4ceefa5c",
      "metadata": {
        "id": "4ceefa5c"
      },
      "source": [
        "### Getting the data"
      ]
    },
    {
      "cell_type": "markdown",
      "id": "2cf7db9d",
      "metadata": {
        "id": "2cf7db9d"
      },
      "source": [
        "\n",
        "For this homework, we'll use the Car Fuel Efficiency dataset. Download it from <a href='https://raw.githubusercontent.com/alexeygrigorev/datasets/master/car_fuel_efficiency.csv'>here</a>.\n",
        "\n",
        "You can do it with wget:\n",
        "```bash\n",
        "wget https://raw.githubusercontent.com/alexeygrigorev/datasets/master/car_fuel_efficiency.csv\n",
        "```\n",
        "\n",
        "Or just open it with your browser and click \"Save as...\".\n",
        "\n",
        "Now read it with Pandas."
      ]
    },
    {
      "cell_type": "code",
      "execution_count": 19,
      "id": "1fa83ea3",
      "metadata": {
        "id": "1fa83ea3",
        "tags": []
      },
      "outputs": [],
      "source": [
        "url = \"https://raw.githubusercontent.com/alexeygrigorev/datasets/master/car_fuel_efficiency.csv\"\n",
        "data = pd.read_csv(url)"
      ]
    },
    {
      "cell_type": "code",
      "execution_count": 20,
      "id": "26aff625",
      "metadata": {
        "id": "26aff625",
        "outputId": "3ee0f16b-4cb1-4c6c-8f8a-0a5a18d56411",
        "colab": {
          "base_uri": "https://localhost:8080/"
        }
      },
      "outputs": [
        {
          "output_type": "execute_result",
          "data": {
            "text/plain": [
              "Index(['engine_displacement', 'num_cylinders', 'horsepower', 'vehicle_weight',\n",
              "       'acceleration', 'model_year', 'origin', 'fuel_type', 'drivetrain',\n",
              "       'num_doors', 'fuel_efficiency_mpg'],\n",
              "      dtype='object')"
            ]
          },
          "metadata": {},
          "execution_count": 20
        }
      ],
      "source": [
        "data.columns"
      ]
    },
    {
      "cell_type": "code",
      "execution_count": 21,
      "id": "cf2aa356",
      "metadata": {
        "colab": {
          "base_uri": "https://localhost:8080/",
          "height": 293
        },
        "id": "cf2aa356",
        "outputId": "41778c03-53d9-490c-e90d-a2cb6e5658e9",
        "tags": []
      },
      "outputs": [
        {
          "output_type": "execute_result",
          "data": {
            "text/plain": [
              "   engine_displacement  num_cylinders  horsepower  vehicle_weight  \\\n",
              "0                  170            3.0       159.0     3413.433759   \n",
              "1                  130            5.0        97.0     3149.664934   \n",
              "2                  170            NaN        78.0     3079.038997   \n",
              "3                  220            4.0         NaN     2542.392402   \n",
              "4                  210            1.0       140.0     3460.870990   \n",
              "\n",
              "   acceleration  model_year  origin fuel_type         drivetrain  num_doors  \\\n",
              "0          17.7        2003  Europe  Gasoline    All-wheel drive        0.0   \n",
              "1          17.8        2007     USA  Gasoline  Front-wheel drive        0.0   \n",
              "2          15.1        2018  Europe  Gasoline  Front-wheel drive        0.0   \n",
              "3          20.2        2009     USA    Diesel    All-wheel drive        2.0   \n",
              "4          14.4        2009  Europe  Gasoline    All-wheel drive        2.0   \n",
              "\n",
              "   fuel_efficiency_mpg  \n",
              "0            13.231729  \n",
              "1            13.688217  \n",
              "2            14.246341  \n",
              "3            16.912736  \n",
              "4            12.488369  "
            ],
            "text/html": [
              "\n",
              "  <div id=\"df-185810a6-d1c3-4cb2-a935-fcdc3dad3f12\" class=\"colab-df-container\">\n",
              "    <div>\n",
              "<style scoped>\n",
              "    .dataframe tbody tr th:only-of-type {\n",
              "        vertical-align: middle;\n",
              "    }\n",
              "\n",
              "    .dataframe tbody tr th {\n",
              "        vertical-align: top;\n",
              "    }\n",
              "\n",
              "    .dataframe thead th {\n",
              "        text-align: right;\n",
              "    }\n",
              "</style>\n",
              "<table border=\"1\" class=\"dataframe\">\n",
              "  <thead>\n",
              "    <tr style=\"text-align: right;\">\n",
              "      <th></th>\n",
              "      <th>engine_displacement</th>\n",
              "      <th>num_cylinders</th>\n",
              "      <th>horsepower</th>\n",
              "      <th>vehicle_weight</th>\n",
              "      <th>acceleration</th>\n",
              "      <th>model_year</th>\n",
              "      <th>origin</th>\n",
              "      <th>fuel_type</th>\n",
              "      <th>drivetrain</th>\n",
              "      <th>num_doors</th>\n",
              "      <th>fuel_efficiency_mpg</th>\n",
              "    </tr>\n",
              "  </thead>\n",
              "  <tbody>\n",
              "    <tr>\n",
              "      <th>0</th>\n",
              "      <td>170</td>\n",
              "      <td>3.0</td>\n",
              "      <td>159.0</td>\n",
              "      <td>3413.433759</td>\n",
              "      <td>17.7</td>\n",
              "      <td>2003</td>\n",
              "      <td>Europe</td>\n",
              "      <td>Gasoline</td>\n",
              "      <td>All-wheel drive</td>\n",
              "      <td>0.0</td>\n",
              "      <td>13.231729</td>\n",
              "    </tr>\n",
              "    <tr>\n",
              "      <th>1</th>\n",
              "      <td>130</td>\n",
              "      <td>5.0</td>\n",
              "      <td>97.0</td>\n",
              "      <td>3149.664934</td>\n",
              "      <td>17.8</td>\n",
              "      <td>2007</td>\n",
              "      <td>USA</td>\n",
              "      <td>Gasoline</td>\n",
              "      <td>Front-wheel drive</td>\n",
              "      <td>0.0</td>\n",
              "      <td>13.688217</td>\n",
              "    </tr>\n",
              "    <tr>\n",
              "      <th>2</th>\n",
              "      <td>170</td>\n",
              "      <td>NaN</td>\n",
              "      <td>78.0</td>\n",
              "      <td>3079.038997</td>\n",
              "      <td>15.1</td>\n",
              "      <td>2018</td>\n",
              "      <td>Europe</td>\n",
              "      <td>Gasoline</td>\n",
              "      <td>Front-wheel drive</td>\n",
              "      <td>0.0</td>\n",
              "      <td>14.246341</td>\n",
              "    </tr>\n",
              "    <tr>\n",
              "      <th>3</th>\n",
              "      <td>220</td>\n",
              "      <td>4.0</td>\n",
              "      <td>NaN</td>\n",
              "      <td>2542.392402</td>\n",
              "      <td>20.2</td>\n",
              "      <td>2009</td>\n",
              "      <td>USA</td>\n",
              "      <td>Diesel</td>\n",
              "      <td>All-wheel drive</td>\n",
              "      <td>2.0</td>\n",
              "      <td>16.912736</td>\n",
              "    </tr>\n",
              "    <tr>\n",
              "      <th>4</th>\n",
              "      <td>210</td>\n",
              "      <td>1.0</td>\n",
              "      <td>140.0</td>\n",
              "      <td>3460.870990</td>\n",
              "      <td>14.4</td>\n",
              "      <td>2009</td>\n",
              "      <td>Europe</td>\n",
              "      <td>Gasoline</td>\n",
              "      <td>All-wheel drive</td>\n",
              "      <td>2.0</td>\n",
              "      <td>12.488369</td>\n",
              "    </tr>\n",
              "  </tbody>\n",
              "</table>\n",
              "</div>\n",
              "    <div class=\"colab-df-buttons\">\n",
              "\n",
              "  <div class=\"colab-df-container\">\n",
              "    <button class=\"colab-df-convert\" onclick=\"convertToInteractive('df-185810a6-d1c3-4cb2-a935-fcdc3dad3f12')\"\n",
              "            title=\"Convert this dataframe to an interactive table.\"\n",
              "            style=\"display:none;\">\n",
              "\n",
              "  <svg xmlns=\"http://www.w3.org/2000/svg\" height=\"24px\" viewBox=\"0 -960 960 960\">\n",
              "    <path d=\"M120-120v-720h720v720H120Zm60-500h600v-160H180v160Zm220 220h160v-160H400v160Zm0 220h160v-160H400v160ZM180-400h160v-160H180v160Zm440 0h160v-160H620v160ZM180-180h160v-160H180v160Zm440 0h160v-160H620v160Z\"/>\n",
              "  </svg>\n",
              "    </button>\n",
              "\n",
              "  <style>\n",
              "    .colab-df-container {\n",
              "      display:flex;\n",
              "      gap: 12px;\n",
              "    }\n",
              "\n",
              "    .colab-df-convert {\n",
              "      background-color: #E8F0FE;\n",
              "      border: none;\n",
              "      border-radius: 50%;\n",
              "      cursor: pointer;\n",
              "      display: none;\n",
              "      fill: #1967D2;\n",
              "      height: 32px;\n",
              "      padding: 0 0 0 0;\n",
              "      width: 32px;\n",
              "    }\n",
              "\n",
              "    .colab-df-convert:hover {\n",
              "      background-color: #E2EBFA;\n",
              "      box-shadow: 0px 1px 2px rgba(60, 64, 67, 0.3), 0px 1px 3px 1px rgba(60, 64, 67, 0.15);\n",
              "      fill: #174EA6;\n",
              "    }\n",
              "\n",
              "    .colab-df-buttons div {\n",
              "      margin-bottom: 4px;\n",
              "    }\n",
              "\n",
              "    [theme=dark] .colab-df-convert {\n",
              "      background-color: #3B4455;\n",
              "      fill: #D2E3FC;\n",
              "    }\n",
              "\n",
              "    [theme=dark] .colab-df-convert:hover {\n",
              "      background-color: #434B5C;\n",
              "      box-shadow: 0px 1px 3px 1px rgba(0, 0, 0, 0.15);\n",
              "      filter: drop-shadow(0px 1px 2px rgba(0, 0, 0, 0.3));\n",
              "      fill: #FFFFFF;\n",
              "    }\n",
              "  </style>\n",
              "\n",
              "    <script>\n",
              "      const buttonEl =\n",
              "        document.querySelector('#df-185810a6-d1c3-4cb2-a935-fcdc3dad3f12 button.colab-df-convert');\n",
              "      buttonEl.style.display =\n",
              "        google.colab.kernel.accessAllowed ? 'block' : 'none';\n",
              "\n",
              "      async function convertToInteractive(key) {\n",
              "        const element = document.querySelector('#df-185810a6-d1c3-4cb2-a935-fcdc3dad3f12');\n",
              "        const dataTable =\n",
              "          await google.colab.kernel.invokeFunction('convertToInteractive',\n",
              "                                                    [key], {});\n",
              "        if (!dataTable) return;\n",
              "\n",
              "        const docLinkHtml = 'Like what you see? Visit the ' +\n",
              "          '<a target=\"_blank\" href=https://colab.research.google.com/notebooks/data_table.ipynb>data table notebook</a>'\n",
              "          + ' to learn more about interactive tables.';\n",
              "        element.innerHTML = '';\n",
              "        dataTable['output_type'] = 'display_data';\n",
              "        await google.colab.output.renderOutput(dataTable, element);\n",
              "        const docLink = document.createElement('div');\n",
              "        docLink.innerHTML = docLinkHtml;\n",
              "        element.appendChild(docLink);\n",
              "      }\n",
              "    </script>\n",
              "  </div>\n",
              "\n",
              "\n",
              "    <div id=\"df-09b00741-e7ce-4b31-a526-0af60d38113a\">\n",
              "      <button class=\"colab-df-quickchart\" onclick=\"quickchart('df-09b00741-e7ce-4b31-a526-0af60d38113a')\"\n",
              "                title=\"Suggest charts\"\n",
              "                style=\"display:none;\">\n",
              "\n",
              "<svg xmlns=\"http://www.w3.org/2000/svg\" height=\"24px\"viewBox=\"0 0 24 24\"\n",
              "     width=\"24px\">\n",
              "    <g>\n",
              "        <path d=\"M19 3H5c-1.1 0-2 .9-2 2v14c0 1.1.9 2 2 2h14c1.1 0 2-.9 2-2V5c0-1.1-.9-2-2-2zM9 17H7v-7h2v7zm4 0h-2V7h2v10zm4 0h-2v-4h2v4z\"/>\n",
              "    </g>\n",
              "</svg>\n",
              "      </button>\n",
              "\n",
              "<style>\n",
              "  .colab-df-quickchart {\n",
              "      --bg-color: #E8F0FE;\n",
              "      --fill-color: #1967D2;\n",
              "      --hover-bg-color: #E2EBFA;\n",
              "      --hover-fill-color: #174EA6;\n",
              "      --disabled-fill-color: #AAA;\n",
              "      --disabled-bg-color: #DDD;\n",
              "  }\n",
              "\n",
              "  [theme=dark] .colab-df-quickchart {\n",
              "      --bg-color: #3B4455;\n",
              "      --fill-color: #D2E3FC;\n",
              "      --hover-bg-color: #434B5C;\n",
              "      --hover-fill-color: #FFFFFF;\n",
              "      --disabled-bg-color: #3B4455;\n",
              "      --disabled-fill-color: #666;\n",
              "  }\n",
              "\n",
              "  .colab-df-quickchart {\n",
              "    background-color: var(--bg-color);\n",
              "    border: none;\n",
              "    border-radius: 50%;\n",
              "    cursor: pointer;\n",
              "    display: none;\n",
              "    fill: var(--fill-color);\n",
              "    height: 32px;\n",
              "    padding: 0;\n",
              "    width: 32px;\n",
              "  }\n",
              "\n",
              "  .colab-df-quickchart:hover {\n",
              "    background-color: var(--hover-bg-color);\n",
              "    box-shadow: 0 1px 2px rgba(60, 64, 67, 0.3), 0 1px 3px 1px rgba(60, 64, 67, 0.15);\n",
              "    fill: var(--button-hover-fill-color);\n",
              "  }\n",
              "\n",
              "  .colab-df-quickchart-complete:disabled,\n",
              "  .colab-df-quickchart-complete:disabled:hover {\n",
              "    background-color: var(--disabled-bg-color);\n",
              "    fill: var(--disabled-fill-color);\n",
              "    box-shadow: none;\n",
              "  }\n",
              "\n",
              "  .colab-df-spinner {\n",
              "    border: 2px solid var(--fill-color);\n",
              "    border-color: transparent;\n",
              "    border-bottom-color: var(--fill-color);\n",
              "    animation:\n",
              "      spin 1s steps(1) infinite;\n",
              "  }\n",
              "\n",
              "  @keyframes spin {\n",
              "    0% {\n",
              "      border-color: transparent;\n",
              "      border-bottom-color: var(--fill-color);\n",
              "      border-left-color: var(--fill-color);\n",
              "    }\n",
              "    20% {\n",
              "      border-color: transparent;\n",
              "      border-left-color: var(--fill-color);\n",
              "      border-top-color: var(--fill-color);\n",
              "    }\n",
              "    30% {\n",
              "      border-color: transparent;\n",
              "      border-left-color: var(--fill-color);\n",
              "      border-top-color: var(--fill-color);\n",
              "      border-right-color: var(--fill-color);\n",
              "    }\n",
              "    40% {\n",
              "      border-color: transparent;\n",
              "      border-right-color: var(--fill-color);\n",
              "      border-top-color: var(--fill-color);\n",
              "    }\n",
              "    60% {\n",
              "      border-color: transparent;\n",
              "      border-right-color: var(--fill-color);\n",
              "    }\n",
              "    80% {\n",
              "      border-color: transparent;\n",
              "      border-right-color: var(--fill-color);\n",
              "      border-bottom-color: var(--fill-color);\n",
              "    }\n",
              "    90% {\n",
              "      border-color: transparent;\n",
              "      border-bottom-color: var(--fill-color);\n",
              "    }\n",
              "  }\n",
              "</style>\n",
              "\n",
              "      <script>\n",
              "        async function quickchart(key) {\n",
              "          const quickchartButtonEl =\n",
              "            document.querySelector('#' + key + ' button');\n",
              "          quickchartButtonEl.disabled = true;  // To prevent multiple clicks.\n",
              "          quickchartButtonEl.classList.add('colab-df-spinner');\n",
              "          try {\n",
              "            const charts = await google.colab.kernel.invokeFunction(\n",
              "                'suggestCharts', [key], {});\n",
              "          } catch (error) {\n",
              "            console.error('Error during call to suggestCharts:', error);\n",
              "          }\n",
              "          quickchartButtonEl.classList.remove('colab-df-spinner');\n",
              "          quickchartButtonEl.classList.add('colab-df-quickchart-complete');\n",
              "        }\n",
              "        (() => {\n",
              "          let quickchartButtonEl =\n",
              "            document.querySelector('#df-09b00741-e7ce-4b31-a526-0af60d38113a button');\n",
              "          quickchartButtonEl.style.display =\n",
              "            google.colab.kernel.accessAllowed ? 'block' : 'none';\n",
              "        })();\n",
              "      </script>\n",
              "    </div>\n",
              "    </div>\n",
              "  </div>\n"
            ],
            "application/vnd.google.colaboratory.intrinsic+json": {
              "type": "dataframe",
              "variable_name": "data",
              "summary": "{\n  \"name\": \"data\",\n  \"rows\": 9704,\n  \"fields\": [\n    {\n      \"column\": \"engine_displacement\",\n      \"properties\": {\n        \"dtype\": \"number\",\n        \"std\": 49,\n        \"min\": 10,\n        \"max\": 380,\n        \"num_unique_values\": 36,\n        \"samples\": [\n          30,\n          260,\n          90\n        ],\n        \"semantic_type\": \"\",\n        \"description\": \"\"\n      }\n    },\n    {\n      \"column\": \"num_cylinders\",\n      \"properties\": {\n        \"dtype\": \"number\",\n        \"std\": 1.9993225843926064,\n        \"min\": 0.0,\n        \"max\": 13.0,\n        \"num_unique_values\": 14,\n        \"samples\": [\n          9.0,\n          10.0,\n          3.0\n        ],\n        \"semantic_type\": \"\",\n        \"description\": \"\"\n      }\n    },\n    {\n      \"column\": \"horsepower\",\n      \"properties\": {\n        \"dtype\": \"number\",\n        \"std\": 29.879555200339446,\n        \"min\": 37.0,\n        \"max\": 271.0,\n        \"num_unique_values\": 192,\n        \"samples\": [\n          128.0,\n          82.0,\n          167.0\n        ],\n        \"semantic_type\": \"\",\n        \"description\": \"\"\n      }\n    },\n    {\n      \"column\": \"vehicle_weight\",\n      \"properties\": {\n        \"dtype\": \"number\",\n        \"std\": 497.8948600311838,\n        \"min\": 952.6817606436496,\n        \"max\": 4739.077089392099,\n        \"num_unique_values\": 9704,\n        \"samples\": [\n          2535.8875912388694,\n          2741.1704843893167,\n          2471.8802372627765\n        ],\n        \"semantic_type\": \"\",\n        \"description\": \"\"\n      }\n    },\n    {\n      \"column\": \"acceleration\",\n      \"properties\": {\n        \"dtype\": \"number\",\n        \"std\": 2.510339293937879,\n        \"min\": 6.0,\n        \"max\": 24.3,\n        \"num_unique_values\": 162,\n        \"samples\": [\n          7.3,\n          20.3,\n          19.8\n        ],\n        \"semantic_type\": \"\",\n        \"description\": \"\"\n      }\n    },\n    {\n      \"column\": \"model_year\",\n      \"properties\": {\n        \"dtype\": \"number\",\n        \"std\": 6,\n        \"min\": 2000,\n        \"max\": 2023,\n        \"num_unique_values\": 24,\n        \"samples\": [\n          2005,\n          2002,\n          2003\n        ],\n        \"semantic_type\": \"\",\n        \"description\": \"\"\n      }\n    },\n    {\n      \"column\": \"origin\",\n      \"properties\": {\n        \"dtype\": \"category\",\n        \"num_unique_values\": 3,\n        \"samples\": [\n          \"Europe\",\n          \"USA\",\n          \"Asia\"\n        ],\n        \"semantic_type\": \"\",\n        \"description\": \"\"\n      }\n    },\n    {\n      \"column\": \"fuel_type\",\n      \"properties\": {\n        \"dtype\": \"category\",\n        \"num_unique_values\": 2,\n        \"samples\": [\n          \"Diesel\",\n          \"Gasoline\"\n        ],\n        \"semantic_type\": \"\",\n        \"description\": \"\"\n      }\n    },\n    {\n      \"column\": \"drivetrain\",\n      \"properties\": {\n        \"dtype\": \"category\",\n        \"num_unique_values\": 2,\n        \"samples\": [\n          \"Front-wheel drive\",\n          \"All-wheel drive\"\n        ],\n        \"semantic_type\": \"\",\n        \"description\": \"\"\n      }\n    },\n    {\n      \"column\": \"num_doors\",\n      \"properties\": {\n        \"dtype\": \"number\",\n        \"std\": 1.048162111427726,\n        \"min\": -4.0,\n        \"max\": 4.0,\n        \"num_unique_values\": 9,\n        \"samples\": [\n          -4.0,\n          2.0\n        ],\n        \"semantic_type\": \"\",\n        \"description\": \"\"\n      }\n    },\n    {\n      \"column\": \"fuel_efficiency_mpg\",\n      \"properties\": {\n        \"dtype\": \"number\",\n        \"std\": 2.5564677028974288,\n        \"min\": 6.200970533392815,\n        \"max\": 25.96722204888372,\n        \"num_unique_values\": 9704,\n        \"samples\": [\n          16.642943419221385,\n          16.298377150953442\n        ],\n        \"semantic_type\": \"\",\n        \"description\": \"\"\n      }\n    }\n  ]\n}"
            }
          },
          "metadata": {},
          "execution_count": 21
        }
      ],
      "source": [
        "data.head()"
      ]
    },
    {
      "cell_type": "markdown",
      "id": "aecac649",
      "metadata": {
        "id": "aecac649"
      },
      "source": [
        "### Q2. Records count"
      ]
    },
    {
      "cell_type": "code",
      "execution_count": 22,
      "id": "3ec31f04",
      "metadata": {
        "id": "3ec31f04",
        "outputId": "5c65b7a7-0330-44d6-ade8-89b68e7525b5",
        "colab": {
          "base_uri": "https://localhost:8080/"
        }
      },
      "outputs": [
        {
          "output_type": "stream",
          "name": "stdout",
          "text": [
            "<class 'pandas.core.frame.DataFrame'>\n",
            "RangeIndex: 9704 entries, 0 to 9703\n",
            "Data columns (total 11 columns):\n",
            " #   Column               Non-Null Count  Dtype  \n",
            "---  ------               --------------  -----  \n",
            " 0   engine_displacement  9704 non-null   int64  \n",
            " 1   num_cylinders        9222 non-null   float64\n",
            " 2   horsepower           8996 non-null   float64\n",
            " 3   vehicle_weight       9704 non-null   float64\n",
            " 4   acceleration         8774 non-null   float64\n",
            " 5   model_year           9704 non-null   int64  \n",
            " 6   origin               9704 non-null   object \n",
            " 7   fuel_type            9704 non-null   object \n",
            " 8   drivetrain           9704 non-null   object \n",
            " 9   num_doors            9202 non-null   float64\n",
            " 10  fuel_efficiency_mpg  9704 non-null   float64\n",
            "dtypes: float64(6), int64(2), object(3)\n",
            "memory usage: 834.1+ KB\n"
          ]
        }
      ],
      "source": [
        "data.info()"
      ]
    },
    {
      "cell_type": "markdown",
      "id": "ab65645c",
      "metadata": {
        "id": "ab65645c"
      },
      "source": [
        "\n",
        "\n",
        "How many records are in the dataset?\n",
        "\n",
        "- **9704**\n"
      ]
    },
    {
      "cell_type": "markdown",
      "id": "b5d128d0",
      "metadata": {
        "id": "b5d128d0"
      },
      "source": [
        "### Q3. Fuel types"
      ]
    },
    {
      "cell_type": "code",
      "execution_count": 23,
      "id": "81e615ff",
      "metadata": {
        "id": "81e615ff",
        "outputId": "e55bf281-d3ba-4ccd-c4bb-80c428928340",
        "colab": {
          "base_uri": "https://localhost:8080/",
          "height": 429
        }
      },
      "outputs": [
        {
          "output_type": "execute_result",
          "data": {
            "text/plain": [
              "engine_displacement      36\n",
              "num_cylinders            14\n",
              "horsepower              192\n",
              "vehicle_weight         9704\n",
              "acceleration            162\n",
              "model_year               24\n",
              "origin                    3\n",
              "fuel_type                 2\n",
              "drivetrain                2\n",
              "num_doors                 9\n",
              "fuel_efficiency_mpg    9704\n",
              "dtype: int64"
            ],
            "text/html": [
              "<div>\n",
              "<style scoped>\n",
              "    .dataframe tbody tr th:only-of-type {\n",
              "        vertical-align: middle;\n",
              "    }\n",
              "\n",
              "    .dataframe tbody tr th {\n",
              "        vertical-align: top;\n",
              "    }\n",
              "\n",
              "    .dataframe thead th {\n",
              "        text-align: right;\n",
              "    }\n",
              "</style>\n",
              "<table border=\"1\" class=\"dataframe\">\n",
              "  <thead>\n",
              "    <tr style=\"text-align: right;\">\n",
              "      <th></th>\n",
              "      <th>0</th>\n",
              "    </tr>\n",
              "  </thead>\n",
              "  <tbody>\n",
              "    <tr>\n",
              "      <th>engine_displacement</th>\n",
              "      <td>36</td>\n",
              "    </tr>\n",
              "    <tr>\n",
              "      <th>num_cylinders</th>\n",
              "      <td>14</td>\n",
              "    </tr>\n",
              "    <tr>\n",
              "      <th>horsepower</th>\n",
              "      <td>192</td>\n",
              "    </tr>\n",
              "    <tr>\n",
              "      <th>vehicle_weight</th>\n",
              "      <td>9704</td>\n",
              "    </tr>\n",
              "    <tr>\n",
              "      <th>acceleration</th>\n",
              "      <td>162</td>\n",
              "    </tr>\n",
              "    <tr>\n",
              "      <th>model_year</th>\n",
              "      <td>24</td>\n",
              "    </tr>\n",
              "    <tr>\n",
              "      <th>origin</th>\n",
              "      <td>3</td>\n",
              "    </tr>\n",
              "    <tr>\n",
              "      <th>fuel_type</th>\n",
              "      <td>2</td>\n",
              "    </tr>\n",
              "    <tr>\n",
              "      <th>drivetrain</th>\n",
              "      <td>2</td>\n",
              "    </tr>\n",
              "    <tr>\n",
              "      <th>num_doors</th>\n",
              "      <td>9</td>\n",
              "    </tr>\n",
              "    <tr>\n",
              "      <th>fuel_efficiency_mpg</th>\n",
              "      <td>9704</td>\n",
              "    </tr>\n",
              "  </tbody>\n",
              "</table>\n",
              "</div><br><label><b>dtype:</b> int64</label>"
            ]
          },
          "metadata": {},
          "execution_count": 23
        }
      ],
      "source": [
        "data.nunique()"
      ]
    },
    {
      "cell_type": "markdown",
      "id": "e414e926",
      "metadata": {
        "id": "e414e926"
      },
      "source": [
        "\n",
        "\n",
        "How many fuel types are presented in the dataset?\n",
        "- *2*\n"
      ]
    },
    {
      "cell_type": "code",
      "execution_count": 24,
      "id": "7e6b2e07-871d-405c-a7aa-bc957ed4e530",
      "metadata": {
        "colab": {
          "base_uri": "https://localhost:8080/",
          "height": 429
        },
        "id": "7e6b2e07-871d-405c-a7aa-bc957ed4e530",
        "outputId": "51be870b-c4d9-48a5-a307-7403a3ff7721",
        "tags": []
      },
      "outputs": [
        {
          "output_type": "execute_result",
          "data": {
            "text/plain": [
              "engine_displacement      0\n",
              "num_cylinders          482\n",
              "horsepower             708\n",
              "vehicle_weight           0\n",
              "acceleration           930\n",
              "model_year               0\n",
              "origin                   0\n",
              "fuel_type                0\n",
              "drivetrain               0\n",
              "num_doors              502\n",
              "fuel_efficiency_mpg      0\n",
              "dtype: int64"
            ],
            "text/html": [
              "<div>\n",
              "<style scoped>\n",
              "    .dataframe tbody tr th:only-of-type {\n",
              "        vertical-align: middle;\n",
              "    }\n",
              "\n",
              "    .dataframe tbody tr th {\n",
              "        vertical-align: top;\n",
              "    }\n",
              "\n",
              "    .dataframe thead th {\n",
              "        text-align: right;\n",
              "    }\n",
              "</style>\n",
              "<table border=\"1\" class=\"dataframe\">\n",
              "  <thead>\n",
              "    <tr style=\"text-align: right;\">\n",
              "      <th></th>\n",
              "      <th>0</th>\n",
              "    </tr>\n",
              "  </thead>\n",
              "  <tbody>\n",
              "    <tr>\n",
              "      <th>engine_displacement</th>\n",
              "      <td>0</td>\n",
              "    </tr>\n",
              "    <tr>\n",
              "      <th>num_cylinders</th>\n",
              "      <td>482</td>\n",
              "    </tr>\n",
              "    <tr>\n",
              "      <th>horsepower</th>\n",
              "      <td>708</td>\n",
              "    </tr>\n",
              "    <tr>\n",
              "      <th>vehicle_weight</th>\n",
              "      <td>0</td>\n",
              "    </tr>\n",
              "    <tr>\n",
              "      <th>acceleration</th>\n",
              "      <td>930</td>\n",
              "    </tr>\n",
              "    <tr>\n",
              "      <th>model_year</th>\n",
              "      <td>0</td>\n",
              "    </tr>\n",
              "    <tr>\n",
              "      <th>origin</th>\n",
              "      <td>0</td>\n",
              "    </tr>\n",
              "    <tr>\n",
              "      <th>fuel_type</th>\n",
              "      <td>0</td>\n",
              "    </tr>\n",
              "    <tr>\n",
              "      <th>drivetrain</th>\n",
              "      <td>0</td>\n",
              "    </tr>\n",
              "    <tr>\n",
              "      <th>num_doors</th>\n",
              "      <td>502</td>\n",
              "    </tr>\n",
              "    <tr>\n",
              "      <th>fuel_efficiency_mpg</th>\n",
              "      <td>0</td>\n",
              "    </tr>\n",
              "  </tbody>\n",
              "</table>\n",
              "</div><br><label><b>dtype:</b> int64</label>"
            ]
          },
          "metadata": {},
          "execution_count": 24
        }
      ],
      "source": [
        "data.isna().sum()"
      ]
    },
    {
      "cell_type": "markdown",
      "id": "90b3262c",
      "metadata": {
        "id": "90b3262c"
      },
      "source": [
        "### Q4. Missing values"
      ]
    },
    {
      "cell_type": "markdown",
      "id": "JtB8acmV4jrf",
      "metadata": {
        "id": "JtB8acmV4jrf"
      },
      "source": [
        "\n",
        "\n",
        "How many columns in the dataset have missing values?\n",
        "\n",
        "- **4**"
      ]
    },
    {
      "cell_type": "code",
      "execution_count": 25,
      "id": "FYEvOXA4tM5H",
      "metadata": {
        "colab": {
          "base_uri": "https://localhost:8080/"
        },
        "id": "FYEvOXA4tM5H",
        "outputId": "7852797e-7dec-470b-f38c-e9a3f24fdc58"
      },
      "outputs": [
        {
          "output_type": "stream",
          "name": "stdout",
          "text": [
            "\n",
            "Кількість стовпців з пропущеними значеннями: 4\n"
          ]
        }
      ],
      "source": [
        "# Рахуємо кількість стовпців з пропущеними значеннями\n",
        "num_cols_with_missing = data.isnull().any().sum()\n",
        "\n",
        "print(f\"\\nКількість стовпців з пропущеними значеннями: {num_cols_with_missing}\")\n",
        "# Кількість стовпців з пропущеними значеннями: 4"
      ]
    },
    {
      "cell_type": "markdown",
      "id": "987507a8",
      "metadata": {
        "id": "987507a8"
      },
      "source": [
        "### Q5. Max fuel efficiency"
      ]
    },
    {
      "cell_type": "markdown",
      "id": "n0kM9M3O3Zuz",
      "metadata": {
        "id": "n0kM9M3O3Zuz"
      },
      "source": [
        "\n",
        "\n",
        "What's the maximum fuel efficiency of cars from Asia?\n",
        "\n",
        "\n",
        "- **23.75**"
      ]
    },
    {
      "cell_type": "code",
      "execution_count": 26,
      "id": "SgnkG0qUvJMd",
      "metadata": {
        "colab": {
          "base_uri": "https://localhost:8080/",
          "height": 174
        },
        "id": "SgnkG0qUvJMd",
        "outputId": "9032ab92-ca84-4682-c51b-e355fec575e0"
      },
      "outputs": [
        {
          "output_type": "execute_result",
          "data": {
            "text/plain": [
              "             min       mean        max\n",
              "origin                                \n",
              "Asia    6.886245  14.973830  23.759123\n",
              "Europe  6.200971  14.942532  25.967222\n",
              "USA     6.695483  15.040204  24.971452"
            ],
            "text/html": [
              "\n",
              "  <div id=\"df-5fd482fa-618b-48a6-b9b3-f6151ff04ecc\" class=\"colab-df-container\">\n",
              "    <div>\n",
              "<style scoped>\n",
              "    .dataframe tbody tr th:only-of-type {\n",
              "        vertical-align: middle;\n",
              "    }\n",
              "\n",
              "    .dataframe tbody tr th {\n",
              "        vertical-align: top;\n",
              "    }\n",
              "\n",
              "    .dataframe thead th {\n",
              "        text-align: right;\n",
              "    }\n",
              "</style>\n",
              "<table border=\"1\" class=\"dataframe\">\n",
              "  <thead>\n",
              "    <tr style=\"text-align: right;\">\n",
              "      <th></th>\n",
              "      <th>min</th>\n",
              "      <th>mean</th>\n",
              "      <th>max</th>\n",
              "    </tr>\n",
              "    <tr>\n",
              "      <th>origin</th>\n",
              "      <th></th>\n",
              "      <th></th>\n",
              "      <th></th>\n",
              "    </tr>\n",
              "  </thead>\n",
              "  <tbody>\n",
              "    <tr>\n",
              "      <th>Asia</th>\n",
              "      <td>6.886245</td>\n",
              "      <td>14.973830</td>\n",
              "      <td>23.759123</td>\n",
              "    </tr>\n",
              "    <tr>\n",
              "      <th>Europe</th>\n",
              "      <td>6.200971</td>\n",
              "      <td>14.942532</td>\n",
              "      <td>25.967222</td>\n",
              "    </tr>\n",
              "    <tr>\n",
              "      <th>USA</th>\n",
              "      <td>6.695483</td>\n",
              "      <td>15.040204</td>\n",
              "      <td>24.971452</td>\n",
              "    </tr>\n",
              "  </tbody>\n",
              "</table>\n",
              "</div>\n",
              "    <div class=\"colab-df-buttons\">\n",
              "\n",
              "  <div class=\"colab-df-container\">\n",
              "    <button class=\"colab-df-convert\" onclick=\"convertToInteractive('df-5fd482fa-618b-48a6-b9b3-f6151ff04ecc')\"\n",
              "            title=\"Convert this dataframe to an interactive table.\"\n",
              "            style=\"display:none;\">\n",
              "\n",
              "  <svg xmlns=\"http://www.w3.org/2000/svg\" height=\"24px\" viewBox=\"0 -960 960 960\">\n",
              "    <path d=\"M120-120v-720h720v720H120Zm60-500h600v-160H180v160Zm220 220h160v-160H400v160Zm0 220h160v-160H400v160ZM180-400h160v-160H180v160Zm440 0h160v-160H620v160ZM180-180h160v-160H180v160Zm440 0h160v-160H620v160Z\"/>\n",
              "  </svg>\n",
              "    </button>\n",
              "\n",
              "  <style>\n",
              "    .colab-df-container {\n",
              "      display:flex;\n",
              "      gap: 12px;\n",
              "    }\n",
              "\n",
              "    .colab-df-convert {\n",
              "      background-color: #E8F0FE;\n",
              "      border: none;\n",
              "      border-radius: 50%;\n",
              "      cursor: pointer;\n",
              "      display: none;\n",
              "      fill: #1967D2;\n",
              "      height: 32px;\n",
              "      padding: 0 0 0 0;\n",
              "      width: 32px;\n",
              "    }\n",
              "\n",
              "    .colab-df-convert:hover {\n",
              "      background-color: #E2EBFA;\n",
              "      box-shadow: 0px 1px 2px rgba(60, 64, 67, 0.3), 0px 1px 3px 1px rgba(60, 64, 67, 0.15);\n",
              "      fill: #174EA6;\n",
              "    }\n",
              "\n",
              "    .colab-df-buttons div {\n",
              "      margin-bottom: 4px;\n",
              "    }\n",
              "\n",
              "    [theme=dark] .colab-df-convert {\n",
              "      background-color: #3B4455;\n",
              "      fill: #D2E3FC;\n",
              "    }\n",
              "\n",
              "    [theme=dark] .colab-df-convert:hover {\n",
              "      background-color: #434B5C;\n",
              "      box-shadow: 0px 1px 3px 1px rgba(0, 0, 0, 0.15);\n",
              "      filter: drop-shadow(0px 1px 2px rgba(0, 0, 0, 0.3));\n",
              "      fill: #FFFFFF;\n",
              "    }\n",
              "  </style>\n",
              "\n",
              "    <script>\n",
              "      const buttonEl =\n",
              "        document.querySelector('#df-5fd482fa-618b-48a6-b9b3-f6151ff04ecc button.colab-df-convert');\n",
              "      buttonEl.style.display =\n",
              "        google.colab.kernel.accessAllowed ? 'block' : 'none';\n",
              "\n",
              "      async function convertToInteractive(key) {\n",
              "        const element = document.querySelector('#df-5fd482fa-618b-48a6-b9b3-f6151ff04ecc');\n",
              "        const dataTable =\n",
              "          await google.colab.kernel.invokeFunction('convertToInteractive',\n",
              "                                                    [key], {});\n",
              "        if (!dataTable) return;\n",
              "\n",
              "        const docLinkHtml = 'Like what you see? Visit the ' +\n",
              "          '<a target=\"_blank\" href=https://colab.research.google.com/notebooks/data_table.ipynb>data table notebook</a>'\n",
              "          + ' to learn more about interactive tables.';\n",
              "        element.innerHTML = '';\n",
              "        dataTable['output_type'] = 'display_data';\n",
              "        await google.colab.output.renderOutput(dataTable, element);\n",
              "        const docLink = document.createElement('div');\n",
              "        docLink.innerHTML = docLinkHtml;\n",
              "        element.appendChild(docLink);\n",
              "      }\n",
              "    </script>\n",
              "  </div>\n",
              "\n",
              "\n",
              "    <div id=\"df-150263b1-d370-42e8-8a0e-36a1181164d3\">\n",
              "      <button class=\"colab-df-quickchart\" onclick=\"quickchart('df-150263b1-d370-42e8-8a0e-36a1181164d3')\"\n",
              "                title=\"Suggest charts\"\n",
              "                style=\"display:none;\">\n",
              "\n",
              "<svg xmlns=\"http://www.w3.org/2000/svg\" height=\"24px\"viewBox=\"0 0 24 24\"\n",
              "     width=\"24px\">\n",
              "    <g>\n",
              "        <path d=\"M19 3H5c-1.1 0-2 .9-2 2v14c0 1.1.9 2 2 2h14c1.1 0 2-.9 2-2V5c0-1.1-.9-2-2-2zM9 17H7v-7h2v7zm4 0h-2V7h2v10zm4 0h-2v-4h2v4z\"/>\n",
              "    </g>\n",
              "</svg>\n",
              "      </button>\n",
              "\n",
              "<style>\n",
              "  .colab-df-quickchart {\n",
              "      --bg-color: #E8F0FE;\n",
              "      --fill-color: #1967D2;\n",
              "      --hover-bg-color: #E2EBFA;\n",
              "      --hover-fill-color: #174EA6;\n",
              "      --disabled-fill-color: #AAA;\n",
              "      --disabled-bg-color: #DDD;\n",
              "  }\n",
              "\n",
              "  [theme=dark] .colab-df-quickchart {\n",
              "      --bg-color: #3B4455;\n",
              "      --fill-color: #D2E3FC;\n",
              "      --hover-bg-color: #434B5C;\n",
              "      --hover-fill-color: #FFFFFF;\n",
              "      --disabled-bg-color: #3B4455;\n",
              "      --disabled-fill-color: #666;\n",
              "  }\n",
              "\n",
              "  .colab-df-quickchart {\n",
              "    background-color: var(--bg-color);\n",
              "    border: none;\n",
              "    border-radius: 50%;\n",
              "    cursor: pointer;\n",
              "    display: none;\n",
              "    fill: var(--fill-color);\n",
              "    height: 32px;\n",
              "    padding: 0;\n",
              "    width: 32px;\n",
              "  }\n",
              "\n",
              "  .colab-df-quickchart:hover {\n",
              "    background-color: var(--hover-bg-color);\n",
              "    box-shadow: 0 1px 2px rgba(60, 64, 67, 0.3), 0 1px 3px 1px rgba(60, 64, 67, 0.15);\n",
              "    fill: var(--button-hover-fill-color);\n",
              "  }\n",
              "\n",
              "  .colab-df-quickchart-complete:disabled,\n",
              "  .colab-df-quickchart-complete:disabled:hover {\n",
              "    background-color: var(--disabled-bg-color);\n",
              "    fill: var(--disabled-fill-color);\n",
              "    box-shadow: none;\n",
              "  }\n",
              "\n",
              "  .colab-df-spinner {\n",
              "    border: 2px solid var(--fill-color);\n",
              "    border-color: transparent;\n",
              "    border-bottom-color: var(--fill-color);\n",
              "    animation:\n",
              "      spin 1s steps(1) infinite;\n",
              "  }\n",
              "\n",
              "  @keyframes spin {\n",
              "    0% {\n",
              "      border-color: transparent;\n",
              "      border-bottom-color: var(--fill-color);\n",
              "      border-left-color: var(--fill-color);\n",
              "    }\n",
              "    20% {\n",
              "      border-color: transparent;\n",
              "      border-left-color: var(--fill-color);\n",
              "      border-top-color: var(--fill-color);\n",
              "    }\n",
              "    30% {\n",
              "      border-color: transparent;\n",
              "      border-left-color: var(--fill-color);\n",
              "      border-top-color: var(--fill-color);\n",
              "      border-right-color: var(--fill-color);\n",
              "    }\n",
              "    40% {\n",
              "      border-color: transparent;\n",
              "      border-right-color: var(--fill-color);\n",
              "      border-top-color: var(--fill-color);\n",
              "    }\n",
              "    60% {\n",
              "      border-color: transparent;\n",
              "      border-right-color: var(--fill-color);\n",
              "    }\n",
              "    80% {\n",
              "      border-color: transparent;\n",
              "      border-right-color: var(--fill-color);\n",
              "      border-bottom-color: var(--fill-color);\n",
              "    }\n",
              "    90% {\n",
              "      border-color: transparent;\n",
              "      border-bottom-color: var(--fill-color);\n",
              "    }\n",
              "  }\n",
              "</style>\n",
              "\n",
              "      <script>\n",
              "        async function quickchart(key) {\n",
              "          const quickchartButtonEl =\n",
              "            document.querySelector('#' + key + ' button');\n",
              "          quickchartButtonEl.disabled = true;  // To prevent multiple clicks.\n",
              "          quickchartButtonEl.classList.add('colab-df-spinner');\n",
              "          try {\n",
              "            const charts = await google.colab.kernel.invokeFunction(\n",
              "                'suggestCharts', [key], {});\n",
              "          } catch (error) {\n",
              "            console.error('Error during call to suggestCharts:', error);\n",
              "          }\n",
              "          quickchartButtonEl.classList.remove('colab-df-spinner');\n",
              "          quickchartButtonEl.classList.add('colab-df-quickchart-complete');\n",
              "        }\n",
              "        (() => {\n",
              "          let quickchartButtonEl =\n",
              "            document.querySelector('#df-150263b1-d370-42e8-8a0e-36a1181164d3 button');\n",
              "          quickchartButtonEl.style.display =\n",
              "            google.colab.kernel.accessAllowed ? 'block' : 'none';\n",
              "        })();\n",
              "      </script>\n",
              "    </div>\n",
              "    </div>\n",
              "  </div>\n"
            ],
            "application/vnd.google.colaboratory.intrinsic+json": {
              "type": "dataframe",
              "summary": "{\n  \"name\": \"data\",\n  \"rows\": 3,\n  \"fields\": [\n    {\n      \"column\": \"origin\",\n      \"properties\": {\n        \"dtype\": \"string\",\n        \"num_unique_values\": 3,\n        \"samples\": [\n          \"Asia\",\n          \"Europe\",\n          \"USA\"\n        ],\n        \"semantic_type\": \"\",\n        \"description\": \"\"\n      }\n    },\n    {\n      \"column\": \"min\",\n      \"properties\": {\n        \"dtype\": \"number\",\n        \"std\": 0.3536790435353119,\n        \"min\": 6.200970533392815,\n        \"max\": 6.886244726750004,\n        \"num_unique_values\": 3,\n        \"samples\": [\n          6.886244726750004,\n          6.200970533392815,\n          6.695482767757437\n        ],\n        \"semantic_type\": \"\",\n        \"description\": \"\"\n      }\n    },\n    {\n      \"column\": \"mean\",\n      \"properties\": {\n        \"dtype\": \"number\",\n        \"std\": 0.049874305920067204,\n        \"min\": 14.942532323135437,\n        \"max\": 15.040203708606436,\n        \"num_unique_values\": 3,\n        \"samples\": [\n          14.973830498425272,\n          14.942532323135437,\n          15.040203708606436\n        ],\n        \"semantic_type\": \"\",\n        \"description\": \"\"\n      }\n    },\n    {\n      \"column\": \"max\",\n      \"properties\": {\n        \"dtype\": \"number\",\n        \"std\": 1.1058181192304566,\n        \"min\": 23.759122836520497,\n        \"max\": 25.96722204888372,\n        \"num_unique_values\": 3,\n        \"samples\": [\n          23.759122836520497,\n          25.96722204888372,\n          24.971452356471183\n        ],\n        \"semantic_type\": \"\",\n        \"description\": \"\"\n      }\n    }\n  ]\n}"
            }
          },
          "metadata": {},
          "execution_count": 26
        }
      ],
      "source": [
        "data.groupby('origin')['fuel_efficiency_mpg'].agg(['min', 'mean', 'max'])"
      ]
    },
    {
      "cell_type": "markdown",
      "id": "a5758929",
      "metadata": {
        "id": "a5758929"
      },
      "source": [
        "### Q6. Медіанне значення кінських сил"
      ]
    },
    {
      "cell_type": "markdown",
      "id": "0c359a2a",
      "metadata": {
        "id": "0c359a2a"
      },
      "source": [
        "Це завдання складається з кількох кроків і перевіряє, як заповнення пропущених значень впливає на медіану.\n",
        "\n",
        "**Кроки для виконання:**\n",
        "\n",
        "1.  **Знайдіть медіану:** Обчисліть медіанне значення для стовпця `horsepower` у початковому датасеті (з усіма пропусками).\n",
        "2.  **Знайдіть найчастіше значення:** Тепер для того ж стовпця `horsepower` знайдіть значення, яке зустрічається найчастіше (це називається \"мода\" розподілу).\n",
        "3.  **Заповніть пропуски:** Використовуйте метод `.fillna()`, щоб заповнити всі пропущені значення (`NaN`) у стовпці `horsepower` тим значенням, яке ви знайшли у попередньому кроці (тобто найчастішим).\n",
        "4.  **Обчисліть медіану знову:** Після того, як ви заповнили пропуски, ще раз розрахуйте медіанне значення для оновленого стовпця `horsepower`.\n",
        "5.  **Порівняйте результати:** Дайте відповідь на питання: \"Чи змінилося медіанне значення після заповнення пропусків?\". Варіанти відповіді:\n",
        "\n",
        "    *   Yes, it increased\n",
        "    *   Yes, it decreased\n",
        "    *   Ні, не змінилося."
      ]
    },
    {
      "cell_type": "code",
      "source": [
        "data['horsepower'].isna().sum()"
      ],
      "metadata": {
        "colab": {
          "base_uri": "https://localhost:8080/"
        },
        "id": "jJJukoZRhr0-",
        "outputId": "98080c30-fcd2-4fff-d6fd-de5f704d7e41"
      },
      "id": "jJJukoZRhr0-",
      "execution_count": 27,
      "outputs": [
        {
          "output_type": "execute_result",
          "data": {
            "text/plain": [
              "np.int64(708)"
            ]
          },
          "metadata": {},
          "execution_count": 27
        }
      ]
    },
    {
      "cell_type": "code",
      "execution_count": 28,
      "id": "h50zj0Na5p6y",
      "metadata": {
        "colab": {
          "base_uri": "https://localhost:8080/"
        },
        "id": "h50zj0Na5p6y",
        "outputId": "1aebdd8c-ce3c-4547-9040-6b42dc596b77"
      },
      "outputs": [
        {
          "output_type": "execute_result",
          "data": {
            "text/plain": [
              "149.0"
            ]
          },
          "metadata": {},
          "execution_count": 28
        }
      ],
      "source": [
        "median_before = data['horsepower'].median()\n",
        "median_before"
      ]
    },
    {
      "cell_type": "code",
      "execution_count": 29,
      "id": "30538058",
      "metadata": {
        "id": "30538058",
        "outputId": "7d36ab7c-8239-4161-c0c3-37466d50b722",
        "colab": {
          "base_uri": "https://localhost:8080/"
        }
      },
      "outputs": [
        {
          "output_type": "execute_result",
          "data": {
            "text/plain": [
              "np.float64(152.0)"
            ]
          },
          "metadata": {},
          "execution_count": 29
        }
      ],
      "source": [
        "mode_horsepower = data['horsepower'].mode()[0]\n",
        "mode_horsepower\n"
      ]
    },
    {
      "cell_type": "code",
      "execution_count": 30,
      "id": "lW-cYPtprtGX",
      "metadata": {
        "id": "lW-cYPtprtGX"
      },
      "outputs": [],
      "source": [
        "data['horsepower'] = data['horsepower'].fillna(mode_horsepower)\n",
        "\n",
        "median_after = data['horsepower'].median()"
      ]
    },
    {
      "cell_type": "code",
      "source": [
        "data['horsepower'].isna().sum()"
      ],
      "metadata": {
        "colab": {
          "base_uri": "https://localhost:8080/"
        },
        "outputId": "a281ce7d-e4b3-45ba-ba3e-9262c318fd5f",
        "id": "vN07VSX2jmi5"
      },
      "execution_count": 31,
      "outputs": [
        {
          "output_type": "execute_result",
          "data": {
            "text/plain": [
              "np.int64(0)"
            ]
          },
          "metadata": {},
          "execution_count": 31
        }
      ],
      "id": "vN07VSX2jmi5"
    },
    {
      "cell_type": "markdown",
      "id": "7b1263c0",
      "metadata": {
        "id": "7b1263c0"
      },
      "source": [
        "Q6: Yes, it increased"
      ]
    },
    {
      "cell_type": "markdown",
      "source": [
        "### Visualization results"
      ],
      "metadata": {
        "id": "f_LuvcCikY7A"
      },
      "id": "f_LuvcCikY7A"
    },
    {
      "cell_type": "code",
      "source": [
        "import matplotlib.pyplot as plt\n",
        "import seaborn as sns\n",
        "\n",
        "sns.set(style=\"whitegrid\")\n",
        "\n",
        "# Щоб отримати початковий стовпець 'horsepower' з NaN, нам потрібно перезавантажити дані\n",
        "data_original = pd.read_csv(url)\n",
        "\n",
        "# Створюємо фігуру з двома підграфіками\n",
        "fig, axes = plt.subplots(1, 2, figsize=(16, 6), sharey=True)\n",
        "fig.suptitle('Розподіл кінських сил (Horsepower) до та після заповнення пропущених значень', fontsize=18)\n",
        "\n",
        "# Графік 1: До заповнення NaN\n",
        "sns.histplot(data_original['horsepower'], bins=30, kde=True, ax=axes[0], color='blue')\n",
        "axes[0].set_title('До заповнення', fontsize=14)\n",
        "axes[0].axvline(median_before, color='red', linestyle='--', label=f'Медіана: {median_before:.1f}')\n",
        "axes[0].axvline(data_original['horsepower'].mean(), color='green', linestyle='-', label=f'Середнє: {data_original[\"horsepower\"].mean():.1f}')\n",
        "axes[0].legend()\n",
        "\n",
        "\n",
        "# Графік 2: Після заповнення NaN\n",
        "# DataFrame 'data' вже містить заповнені значення\n",
        "sns.histplot(data['horsepower'], bins=30, kde=True, ax=axes[1], color='orange')\n",
        "axes[1].set_title('Після заповнення модою', fontsize=14)\n",
        "axes[1].axvline(median_after, color='red', linestyle='--', label=f'Медіана: {median_after:.1f}')\n",
        "axes[1].axvline(data['horsepower'].mean(), color='green', linestyle='-', label=f'Середнє: {data[\"horsepower\"].mean():.1f}')\n",
        "axes[1].legend()\n",
        "\n",
        "plt.show()"
      ],
      "metadata": {
        "id": "uCmFLvXxkns_",
        "outputId": "71e14b9d-7c6d-4694-8e31-9041dda57097",
        "colab": {
          "base_uri": "https://localhost:8080/",
          "height": 567
        }
      },
      "id": "uCmFLvXxkns_",
      "execution_count": 32,
      "outputs": [
        {
          "output_type": "display_data",
          "data": {
            "text/plain": [
              "<Figure size 1600x600 with 2 Axes>"
            ],
            "image/png": "[encoded data removed]"
          },
          "metadata": {}
        }
      ]
    },
    {
      "cell_type": "markdown",
      "id": "d0f53ede",
      "metadata": {
        "id": "d0f53ede"
      },
      "source": [
        "### Теоретична довідка до Q6: Медіана та Мода\n",
        "\n",
        "#### Медіана (Median)\n",
        "\n",
        "**Медіана — це значення, яке знаходиться рівно посередині відсортованого набору даних.** Вона ділить дані на дві рівні частини: 50% значень менші за медіану, а 50% — більші.\n",
        "\n",
        "**Як її знайти:**\n",
        "\n",
        "1.  **Відсортуйте** всі значення від найменшого до найбільшого.\n",
        "2.  **Знайдіть центральне значення:**\n",
        "    *   Якщо кількість значень **непарна**, медіана — це число, що стоїть точно посередині.\n",
        "    *   Якщо кількість значень **парна**, медіана — це середнє арифметичне двох центральних чисел.\n",
        "\n",
        "**Головна перевага медіани:** на неї слабко впливають екстремально великі або малі значення (так звані \"викиди\").\n",
        "\n",
        "У pandas медіану можна розрахувати методом `.median()`.\n",
        "\n",
        "#### Мода (Mode)\n",
        "\n",
        "**Мода — це значення, яке зустрічається в наборі даних найчастіше.**\n",
        "\n",
        "**Як її знайти:**\n",
        "\n",
        "Просто порахуйте, скільки разів з'являється кожне унікальне значення. Те, у якого найбільша частота, і є модою.\n",
        "\n",
        "**Особливості моди:**\n",
        "\n",
        "*   Набір даних може мати одну моду, декілька мод або не мати її взагалі.\n",
        "*   Мода особливо корисна для категоріальних даних, але також використовується і для числових.\n",
        "\n",
        "У pandas моду можна знайти методом `.mode()`. Він повертає `Series`, оскільки мод може бути декілька.\n",
        "\n",
        "#### Підсумок\n",
        "\n",
        "*   **Медіана** — це про **середину** відсортованого набору.\n",
        "*   **Мода** — це про **найпопулярніше** або найчастіше значення.\n",
        "\n",
        "У завданні Q6 ви спершу знаходите медіану \"як є\", а потім заповнюєте пропуски найпопулярнішим значенням (модою) і дивитеся, як це вплинуло на \"середину\" (медіану) оновленого набору даних."
      ]
    },
    {
      "cell_type": "markdown",
      "id": "3f44769a",
      "metadata": {
        "id": "3f44769a"
      },
      "source": [
        "### Q7. Sum of weights"
      ]
    },
    {
      "cell_type": "markdown",
      "id": "fe2faf20",
      "metadata": {
        "id": "fe2faf20"
      },
      "source": [
        "\n",
        "\n",
        "1. Select all the cars from Asia\n",
        "2. Select only columns `vehicle_weight` and `model_year`\n",
        "3. Select the first 7 values\n",
        "4. Get the underlying NumPy array. Let's call it `X`.\n",
        "5. Compute matrix-matrix multiplication between the transpose of `X` and `X`. To get the transpose, use `X.T`. Let's call the result `XTX`.\n",
        "6. Invert `XTX`.\n",
        "7. Create an array `y` with values `[1100, 1300, 800, 900, 1000, 1100, 1200]`.\n",
        "8. Multiply the inverse of `XTX` with the transpose of `X`, and then multiply the result by `y`. Call the result `w`.\n",
        "9. What's the sum of all the elements of the result?\n",
        "\n",
        "> **Note**: You just implemented linear regression. We'll talk about it in the next lesson.\n",
        "\n",
        "\n",
        "- 5.1\n"
      ]
    },
    {
      "cell_type": "code",
      "execution_count": 33,
      "id": "HhziJLnz6azH",
      "metadata": {
        "colab": {
          "base_uri": "https://localhost:8080/",
          "height": 269
        },
        "id": "HhziJLnz6azH",
        "outputId": "c34f5a2a-46ac-40a1-d1e0-6f0208a7a680"
      },
      "outputs": [
        {
          "output_type": "execute_result",
          "data": {
            "text/plain": [
              "    vehicle_weight  model_year\n",
              "8      2714.219310        2016\n",
              "12     2783.868974        2010\n",
              "14     3582.687368        2007\n",
              "20     2231.808142        2011\n",
              "21     2659.431451        2016\n",
              "34     2844.227534        2014\n",
              "38     3761.994038        2019"
            ],
            "text/html": [
              "\n",
              "  <div id=\"df-46fbad38-8a06-45dc-bade-a9265f5251f5\" class=\"colab-df-container\">\n",
              "    <div>\n",
              "<style scoped>\n",
              "    .dataframe tbody tr th:only-of-type {\n",
              "        vertical-align: middle;\n",
              "    }\n",
              "\n",
              "    .dataframe tbody tr th {\n",
              "        vertical-align: top;\n",
              "    }\n",
              "\n",
              "    .dataframe thead th {\n",
              "        text-align: right;\n",
              "    }\n",
              "</style>\n",
              "<table border=\"1\" class=\"dataframe\">\n",
              "  <thead>\n",
              "    <tr style=\"text-align: right;\">\n",
              "      <th></th>\n",
              "      <th>vehicle_weight</th>\n",
              "      <th>model_year</th>\n",
              "    </tr>\n",
              "  </thead>\n",
              "  <tbody>\n",
              "    <tr>\n",
              "      <th>8</th>\n",
              "      <td>2714.219310</td>\n",
              "      <td>2016</td>\n",
              "    </tr>\n",
              "    <tr>\n",
              "      <th>12</th>\n",
              "      <td>2783.868974</td>\n",
              "      <td>2010</td>\n",
              "    </tr>\n",
              "    <tr>\n",
              "      <th>14</th>\n",
              "      <td>3582.687368</td>\n",
              "      <td>2007</td>\n",
              "    </tr>\n",
              "    <tr>\n",
              "      <th>20</th>\n",
              "      <td>2231.808142</td>\n",
              "      <td>2011</td>\n",
              "    </tr>\n",
              "    <tr>\n",
              "      <th>21</th>\n",
              "      <td>2659.431451</td>\n",
              "      <td>2016</td>\n",
              "    </tr>\n",
              "    <tr>\n",
              "      <th>34</th>\n",
              "      <td>2844.227534</td>\n",
              "      <td>2014</td>\n",
              "    </tr>\n",
              "    <tr>\n",
              "      <th>38</th>\n",
              "      <td>3761.994038</td>\n",
              "      <td>2019</td>\n",
              "    </tr>\n",
              "  </tbody>\n",
              "</table>\n",
              "</div>\n",
              "    <div class=\"colab-df-buttons\">\n",
              "\n",
              "  <div class=\"colab-df-container\">\n",
              "    <button class=\"colab-df-convert\" onclick=\"convertToInteractive('df-46fbad38-8a06-45dc-bade-a9265f5251f5')\"\n",
              "            title=\"Convert this dataframe to an interactive table.\"\n",
              "            style=\"display:none;\">\n",
              "\n",
              "  <svg xmlns=\"http://www.w3.org/2000/svg\" height=\"24px\" viewBox=\"0 -960 960 960\">\n",
              "    <path d=\"M120-120v-720h720v720H120Zm60-500h600v-160H180v160Zm220 220h160v-160H400v160Zm0 220h160v-160H400v160ZM180-400h160v-160H180v160Zm440 0h160v-160H620v160ZM180-180h160v-160H180v160Zm440 0h160v-160H620v160Z\"/>\n",
              "  </svg>\n",
              "    </button>\n",
              "\n",
              "  <style>\n",
              "    .colab-df-container {\n",
              "      display:flex;\n",
              "      gap: 12px;\n",
              "    }\n",
              "\n",
              "    .colab-df-convert {\n",
              "      background-color: #E8F0FE;\n",
              "      border: none;\n",
              "      border-radius: 50%;\n",
              "      cursor: pointer;\n",
              "      display: none;\n",
              "      fill: #1967D2;\n",
              "      height: 32px;\n",
              "      padding: 0 0 0 0;\n",
              "      width: 32px;\n",
              "    }\n",
              "\n",
              "    .colab-df-convert:hover {\n",
              "      background-color: #E2EBFA;\n",
              "      box-shadow: 0px 1px 2px rgba(60, 64, 67, 0.3), 0px 1px 3px 1px rgba(60, 64, 67, 0.15);\n",
              "      fill: #174EA6;\n",
              "    }\n",
              "\n",
              "    .colab-df-buttons div {\n",
              "      margin-bottom: 4px;\n",
              "    }\n",
              "\n",
              "    [theme=dark] .colab-df-convert {\n",
              "      background-color: #3B4455;\n",
              "      fill: #D2E3FC;\n",
              "    }\n",
              "\n",
              "    [theme=dark] .colab-df-convert:hover {\n",
              "      background-color: #434B5C;\n",
              "      box-shadow: 0px 1px 3px 1px rgba(0, 0, 0, 0.15);\n",
              "      filter: drop-shadow(0px 1px 2px rgba(0, 0, 0, 0.3));\n",
              "      fill: #FFFFFF;\n",
              "    }\n",
              "  </style>\n",
              "\n",
              "    <script>\n",
              "      const buttonEl =\n",
              "        document.querySelector('#df-46fbad38-8a06-45dc-bade-a9265f5251f5 button.colab-df-convert');\n",
              "      buttonEl.style.display =\n",
              "        google.colab.kernel.accessAllowed ? 'block' : 'none';\n",
              "\n",
              "      async function convertToInteractive(key) {\n",
              "        const element = document.querySelector('#df-46fbad38-8a06-45dc-bade-a9265f5251f5');\n",
              "        const dataTable =\n",
              "          await google.colab.kernel.invokeFunction('convertToInteractive',\n",
              "                                                    [key], {});\n",
              "        if (!dataTable) return;\n",
              "\n",
              "        const docLinkHtml = 'Like what you see? Visit the ' +\n",
              "          '<a target=\"_blank\" href=https://colab.research.google.com/notebooks/data_table.ipynb>data table notebook</a>'\n",
              "          + ' to learn more about interactive tables.';\n",
              "        element.innerHTML = '';\n",
              "        dataTable['output_type'] = 'display_data';\n",
              "        await google.colab.output.renderOutput(dataTable, element);\n",
              "        const docLink = document.createElement('div');\n",
              "        docLink.innerHTML = docLinkHtml;\n",
              "        element.appendChild(docLink);\n",
              "      }\n",
              "    </script>\n",
              "  </div>\n",
              "\n",
              "\n",
              "    <div id=\"df-8489bc19-b81b-447f-bd6b-f455840f5172\">\n",
              "      <button class=\"colab-df-quickchart\" onclick=\"quickchart('df-8489bc19-b81b-447f-bd6b-f455840f5172')\"\n",
              "                title=\"Suggest charts\"\n",
              "                style=\"display:none;\">\n",
              "\n",
              "<svg xmlns=\"http://www.w3.org/2000/svg\" height=\"24px\"viewBox=\"0 0 24 24\"\n",
              "     width=\"24px\">\n",
              "    <g>\n",
              "        <path d=\"M19 3H5c-1.1 0-2 .9-2 2v14c0 1.1.9 2 2 2h14c1.1 0 2-.9 2-2V5c0-1.1-.9-2-2-2zM9 17H7v-7h2v7zm4 0h-2V7h2v10zm4 0h-2v-4h2v4z\"/>\n",
              "    </g>\n",
              "</svg>\n",
              "      </button>\n",
              "\n",
              "<style>\n",
              "  .colab-df-quickchart {\n",
              "      --bg-color: #E8F0FE;\n",
              "      --fill-color: #1967D2;\n",
              "      --hover-bg-color: #E2EBFA;\n",
              "      --hover-fill-color: #174EA6;\n",
              "      --disabled-fill-color: #AAA;\n",
              "      --disabled-bg-color: #DDD;\n",
              "  }\n",
              "\n",
              "  [theme=dark] .colab-df-quickchart {\n",
              "      --bg-color: #3B4455;\n",
              "      --fill-color: #D2E3FC;\n",
              "      --hover-bg-color: #434B5C;\n",
              "      --hover-fill-color: #FFFFFF;\n",
              "      --disabled-bg-color: #3B4455;\n",
              "      --disabled-fill-color: #666;\n",
              "  }\n",
              "\n",
              "  .colab-df-quickchart {\n",
              "    background-color: var(--bg-color);\n",
              "    border: none;\n",
              "    border-radius: 50%;\n",
              "    cursor: pointer;\n",
              "    display: none;\n",
              "    fill: var(--fill-color);\n",
              "    height: 32px;\n",
              "    padding: 0;\n",
              "    width: 32px;\n",
              "  }\n",
              "\n",
              "  .colab-df-quickchart:hover {\n",
              "    background-color: var(--hover-bg-color);\n",
              "    box-shadow: 0 1px 2px rgba(60, 64, 67, 0.3), 0 1px 3px 1px rgba(60, 64, 67, 0.15);\n",
              "    fill: var(--button-hover-fill-color);\n",
              "  }\n",
              "\n",
              "  .colab-df-quickchart-complete:disabled,\n",
              "  .colab-df-quickchart-complete:disabled:hover {\n",
              "    background-color: var(--disabled-bg-color);\n",
              "    fill: var(--disabled-fill-color);\n",
              "    box-shadow: none;\n",
              "  }\n",
              "\n",
              "  .colab-df-spinner {\n",
              "    border: 2px solid var(--fill-color);\n",
              "    border-color: transparent;\n",
              "    border-bottom-color: var(--fill-color);\n",
              "    animation:\n",
              "      spin 1s steps(1) infinite;\n",
              "  }\n",
              "\n",
              "  @keyframes spin {\n",
              "    0% {\n",
              "      border-color: transparent;\n",
              "      border-bottom-color: var(--fill-color);\n",
              "      border-left-color: var(--fill-color);\n",
              "    }\n",
              "    20% {\n",
              "      border-color: transparent;\n",
              "      border-left-color: var(--fill-color);\n",
              "      border-top-color: var(--fill-color);\n",
              "    }\n",
              "    30% {\n",
              "      border-color: transparent;\n",
              "      border-left-color: var(--fill-color);\n",
              "      border-top-color: var(--fill-color);\n",
              "      border-right-color: var(--fill-color);\n",
              "    }\n",
              "    40% {\n",
              "      border-color: transparent;\n",
              "      border-right-color: var(--fill-color);\n",
              "      border-top-color: var(--fill-color);\n",
              "    }\n",
              "    60% {\n",
              "      border-color: transparent;\n",
              "      border-right-color: var(--fill-color);\n",
              "    }\n",
              "    80% {\n",
              "      border-color: transparent;\n",
              "      border-right-color: var(--fill-color);\n",
              "      border-bottom-color: var(--fill-color);\n",
              "    }\n",
              "    90% {\n",
              "      border-color: transparent;\n",
              "      border-bottom-color: var(--fill-color);\n",
              "    }\n",
              "  }\n",
              "</style>\n",
              "\n",
              "      <script>\n",
              "        async function quickchart(key) {\n",
              "          const quickchartButtonEl =\n",
              "            document.querySelector('#' + key + ' button');\n",
              "          quickchartButtonEl.disabled = true;  // To prevent multiple clicks.\n",
              "          quickchartButtonEl.classList.add('colab-df-spinner');\n",
              "          try {\n",
              "            const charts = await google.colab.kernel.invokeFunction(\n",
              "                'suggestCharts', [key], {});\n",
              "          } catch (error) {\n",
              "            console.error('Error during call to suggestCharts:', error);\n",
              "          }\n",
              "          quickchartButtonEl.classList.remove('colab-df-spinner');\n",
              "          quickchartButtonEl.classList.add('colab-df-quickchart-complete');\n",
              "        }\n",
              "        (() => {\n",
              "          let quickchartButtonEl =\n",
              "            document.querySelector('#df-8489bc19-b81b-447f-bd6b-f455840f5172 button');\n",
              "          quickchartButtonEl.style.display =\n",
              "            google.colab.kernel.accessAllowed ? 'block' : 'none';\n",
              "        })();\n",
              "      </script>\n",
              "    </div>\n",
              "    </div>\n",
              "  </div>\n"
            ],
            "application/vnd.google.colaboratory.intrinsic+json": {
              "type": "dataframe",
              "summary": "{\n  \"name\": \"asia_df[0:7]\",\n  \"rows\": 7,\n  \"fields\": [\n    {\n      \"column\": \"vehicle_weight\",\n      \"properties\": {\n        \"dtype\": \"number\",\n        \"std\": 540.6017340361492,\n        \"min\": 2231.8081416029345,\n        \"max\": 3761.9940381922206,\n        \"num_unique_values\": 7,\n        \"samples\": [\n          2714.219309645285,\n          2783.8689742437728,\n          2844.2275338857653\n        ],\n        \"semantic_type\": \"\",\n        \"description\": \"\"\n      }\n    },\n    {\n      \"column\": \"model_year\",\n      \"properties\": {\n        \"dtype\": \"number\",\n        \"std\": 4,\n        \"min\": 2007,\n        \"max\": 2019,\n        \"num_unique_values\": 6,\n        \"samples\": [\n          2016,\n          2010,\n          2019\n        ],\n        \"semantic_type\": \"\",\n        \"description\": \"\"\n      }\n    }\n  ]\n}"
            }
          },
          "metadata": {},
          "execution_count": 33
        }
      ],
      "source": [
        "asia_df = data[data.origin == 'Asia']\n",
        "asia_df = asia_df[['vehicle_weight', 'model_year']]\n",
        "asia_df[0:7]"
      ]
    },
    {
      "cell_type": "code",
      "execution_count": 34,
      "id": "BMSgjlTV6a48",
      "metadata": {
        "colab": {
          "base_uri": "https://localhost:8080/"
        },
        "id": "BMSgjlTV6a48",
        "outputId": "7cffa5b4-5dfb-4bdc-b732-71cb35bc769f"
      },
      "outputs": [
        {
          "output_type": "execute_result",
          "data": {
            "text/plain": [
              "array([[ 5.71497081e-07, -8.34509443e-07],\n",
              "       [-8.34509443e-07,  1.25380877e-06]])"
            ]
          },
          "metadata": {},
          "execution_count": 34
        }
      ],
      "source": [
        "X = asia_df[:7].values\n",
        "XTX = X.T.dot(X)\n",
        "\n",
        "XTX_inv = np.linalg.inv(XTX)\n",
        "XTX_inv"
      ]
    },
    {
      "cell_type": "code",
      "execution_count": 35,
      "id": "0AoSPilS6a7S",
      "metadata": {
        "id": "0AoSPilS6a7S"
      },
      "outputs": [],
      "source": [
        "y = np.array([1100, 1300, 800, 900, 1000, 1100, 1200])"
      ]
    },
    {
      "cell_type": "code",
      "execution_count": 36,
      "id": "dz3BmJfIvfdp",
      "metadata": {
        "id": "dz3BmJfIvfdp"
      },
      "outputs": [],
      "source": [
        "w = (XTX_inv @ X.T) @ y"
      ]
    },
    {
      "cell_type": "code",
      "execution_count": 37,
      "id": "5e62860c-4afe-4a33-942f-ec238924b027",
      "metadata": {
        "tags": [],
        "id": "5e62860c-4afe-4a33-942f-ec238924b027",
        "outputId": "9d1e83b1-cf45-47f4-ebd2-2eb4a34ba186",
        "colab": {
          "base_uri": "https://localhost:8080/"
        }
      },
      "outputs": [
        {
          "output_type": "execute_result",
          "data": {
            "text/plain": [
              "array([0.01386421, 0.5049067 ])"
            ]
          },
          "metadata": {},
          "execution_count": 37
        }
      ],
      "source": [
        "w"
      ]
    },
    {
      "cell_type": "code",
      "execution_count": 40,
      "id": "ouoIQygN6bD3",
      "metadata": {
        "colab": {
          "base_uri": "https://localhost:8080/"
        },
        "id": "ouoIQygN6bD3",
        "outputId": "e0f721c0-01e0-413e-c6dc-53579945281a"
      },
      "outputs": [
        {
          "output_type": "execute_result",
          "data": {
            "text/plain": [
              "np.float64(0.519)"
            ]
          },
          "metadata": {},
          "execution_count": 40
        }
      ],
      "source": [
        "w.sum().round(3)"
      ]
    },
    {
      "cell_type": "markdown",
      "id": "70e3eaa9",
      "metadata": {
        "id": "70e3eaa9"
      },
      "source": [
        "> **Note**: we just implemented normal equation\n",
        "\n",
        "\n",
        "$$w = (X^T X)^{-1} X^T y$$\n",
        "\n",
        "\n",
        "We'll talk about it more in the next week (Machine Learning for Regression)"
      ]
    },
    {
      "cell_type": "markdown",
      "id": "20fc1203",
      "metadata": {
        "id": "20fc1203"
      },
      "source": [
        "### Теоретична довідка до Q7: Лінійна регресія та нормальне рівняння\n",
        "\n",
        "#### Що таке лінійна регресія? (Простими словами)\n",
        "\n",
        "Уявіть, що у вас є набір точок на графіку. Наприклад, по осі X — вага автомобіля, а по осі Y — його ціна. Ви помічаєте, що загалом, чим важчий автомобіль, тим він дорожчий.\n",
        "\n",
        "**Лінійна регресія — це спроба провести пряму лінію через ці точки так, щоб вона найкраще описувала цей зв'язок.**\n",
        "\n",
        "Ця \"найкраща\" лінія дозволяє нам робити прогнози. Наприклад, якщо ми дізнаємося вагу нового автомобіля, ми зможемо за допомогою нашої лінії приблизно передбачити його ціну.\n",
        "\n",
        "#### Як це пов'язано із завданням Q7?\n",
        "\n",
        "У завданні Q7 ви вручну реалізуєте один із класичних методів розв'язання лінійної регресії, який називається **\"Нормальне рівняння\" (Normal Equation)**.\n",
        "\n",
        "Це математична формула, яка дозволяє знайти оптимальні ваги `w` **за один крок**, без ітерацій чи поступового \"навчання\".\n",
        "\n",
        "Формула виглядає так:\n",
        "\n",
        "`w = (XᵀX)⁻¹ Xᵀy`\n",
        "\n",
        "А тепер давайте розберемо кроки з вашого завдання і порівняємо їх із цією формулою:\n",
        "\n",
        "1.  **`Select all the cars from Asia... Get the underlying NumPy array. Let's call it X.`**\n",
        "    *   Це ви готуєте матрицю ознак `X`.\n",
        "\n",
        "2.  **`Compute matrix-matrix multiplication between the transpose of X and X. ... Let's call the result XTX.`**\n",
        "    *   Це ви обчислюєте `XᵀX` (у коді `X.T @ X`).\n",
        "\n",
        "3.  **`Invert XTX.`**\n",
        "    *   Це ви знаходите обернену матрицю `(XᵀX)⁻¹`.\n",
        "\n",
        "4.  **`Create an array y ...`**\n",
        "    *   Це ви визначаєте вектор цільових значень `y`.\n",
        "\n",
        "5.  **`Multiply the inverse of XTX with the transpose of X, and then multiply the result by y. Call the result w.`**\n",
        "    *   Це і є фінальний розрахунок за формулою: `(XᵀX)⁻¹` помножити на `Xᵀ` і помножити на `y`. Результат — це і є ваші ваги `w`.\n",
        "\n",
        "Отже, виконуючи кроки із Q7, ви, по суті, розв'язуєте рівняння лінійної регресії, щоб знайти коефіцієнти (ваги `w`), які найкращим чином пов'язують вагу та рік випуску автомобіля (`X`) з деякими цільовими значеннями (`y`)."
      ]
    }
  ],
  "metadata": {
    "colab": {
      "provenance": [],
      "include_colab_link": true
    },
    "kernelspec": {
      "display_name": ".venv",
      "language": "python",
      "name": "python3"
    },
    "language_info": {
      "codemirror_mode": {
        "name": "ipython",
        "version": 3
      },
      "file_extension": ".py",
      "mimetype": "text/x-python",
      "name": "python",
      "nbconvert_exporter": "python",
      "pygments_lexer": "ipython3",
      "version": "3.12.3"
    }
  },
  "nbformat": 4,
  "nbformat_minor": 5
}