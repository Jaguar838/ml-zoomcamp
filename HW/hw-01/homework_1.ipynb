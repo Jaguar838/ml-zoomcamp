{
  "cells": [
    {
      "cell_type": "markdown",
      "metadata": {
        "id": "view-in-github",
        "colab_type": "text"
      },
      "source": [
        "<a href=\"https://colab.research.google.com/github/Jaguar838/ml-zoomcamp/blob/master/HW/hw-01/homework_1.ipynb\" target=\"_parent\"><img src=\"https://colab.research.google.com/assets/colab-badge.svg\" alt=\"Open In Colab\"/></a>"
      ]
    },
    {
      "cell_type": "markdown",
      "id": "251d40a3",
      "metadata": {
        "id": "251d40a3"
      },
      "source": [
        "## Homework #1"
      ]
    },
    {
      "cell_type": "markdown",
      "id": "b1cfc63c",
      "metadata": {
        "id": "b1cfc63c"
      },
      "source": [
        "### Set up the environment"
      ]
    },
    {
      "cell_type": "markdown",
      "id": "545d3529",
      "metadata": {
        "id": "545d3529"
      },
      "source": [
        "You need to install Python, NumPy, Pandas, Matplotlib and Seaborn. For that, you can the instructions from <a href='https://github.com/alexeygrigorev/mlbookcamp-code/blob/master/course-zoomcamp/01-intro/06-environment.md'>06-environment.md</a>."
      ]
    },
    {
      "cell_type": "code",
      "execution_count": null,
      "id": "92a54c41",
      "metadata": {
        "id": "92a54c41",
        "tags": []
      },
      "outputs": [],
      "source": [
        "import numpy as np\n",
        "import pandas as pd"
      ]
    },
    {
      "cell_type": "markdown",
      "id": "351c8283",
      "metadata": {
        "id": "351c8283"
      },
      "source": [
        "### Question 1"
      ]
    },
    {
      "cell_type": "markdown",
      "id": "e8024830",
      "metadata": {
        "id": "e8024830"
      },
      "source": [
        "What's the version of Pandas that you installed?\n",
        "\n",
        "You can get the version information using the `__version__` field:"
      ]
    },
    {
      "cell_type": "code",
      "execution_count": null,
      "id": "cd014841",
      "metadata": {
        "colab": {
          "base_uri": "https://localhost:8080/",
          "height": 36
        },
        "id": "cd014841",
        "outputId": "69d7c606-95a6-4a40-98a0-0f85927705e2",
        "tags": []
      },
      "outputs": [
        {
          "data": {
            "text/plain": [
              "'2.3.2'"
            ]
          },
          "execution_count": 5,
          "metadata": {},
          "output_type": "execute_result"
        }
      ],
      "source": [
        "pd.__version__"
      ]
    },
    {
      "cell_type": "markdown",
      "id": "4ceefa5c",
      "metadata": {
        "id": "4ceefa5c"
      },
      "source": [
        "### Getting the data"
      ]
    },
    {
      "cell_type": "markdown",
      "id": "2cf7db9d",
      "metadata": {
        "id": "2cf7db9d"
      },
      "source": [
        "\n",
        "For this homework, we'll use the Car Fuel Efficiency dataset. Download it from <a href='https://raw.githubusercontent.com/alexeygrigorev/datasets/master/car_fuel_efficiency.csv'>here</a>.\n",
        "\n",
        "You can do it with wget:\n",
        "```bash\n",
        "wget https://raw.githubusercontent.com/alexeygrigorev/datasets/master/car_fuel_efficiency.csv\n",
        "```\n",
        "\n",
        "Or just open it with your browser and click \"Save as...\".\n",
        "\n",
        "Now read it with Pandas."
      ]
    },
    {
      "cell_type": "code",
      "execution_count": null,
      "id": "1fa83ea3",
      "metadata": {
        "id": "1fa83ea3",
        "tags": []
      },
      "outputs": [],
      "source": [
        "data = pd.read_csv(\"https://raw.githubusercontent.com/alexeygrigorev/datasets/master/car_fuel_efficiency.csv\")"
      ]
    },
    {
      "cell_type": "code",
      "execution_count": null,
      "id": "26aff625",
      "metadata": {
        "id": "26aff625",
        "outputId": "3a46c3b9-42c5-4dd9-d83b-64110f5436fd"
      },
      "outputs": [
        {
          "data": {
            "text/plain": [
              "Index(['engine_displacement', 'num_cylinders', 'horsepower', 'vehicle_weight',\n",
              "       'acceleration', 'model_year', 'origin', 'fuel_type', 'drivetrain',\n",
              "       'num_doors', 'fuel_efficiency_mpg'],\n",
              "      dtype='object')"
            ]
          },
          "execution_count": 5,
          "metadata": {},
          "output_type": "execute_result"
        }
      ],
      "source": [
        "data.columns"
      ]
    },
    {
      "cell_type": "code",
      "execution_count": null,
      "id": "cf2aa356",
      "metadata": {
        "colab": {
          "base_uri": "https://localhost:8080/",
          "height": 206
        },
        "id": "cf2aa356",
        "outputId": "319e25c2-3ce0-45bd-e707-8b124a62fd3d",
        "tags": []
      },
      "outputs": [
        {
          "data": {
            "text/html": [
              "<div>\n",
              "<style scoped>\n",
              "    .dataframe tbody tr th:only-of-type {\n",
              "        vertical-align: middle;\n",
              "    }\n",
              "\n",
              "    .dataframe tbody tr th {\n",
              "        vertical-align: top;\n",
              "    }\n",
              "\n",
              "    .dataframe thead th {\n",
              "        text-align: right;\n",
              "    }\n",
              "</style>\n",
              "<table border=\"1\" class=\"dataframe\">\n",
              "  <thead>\n",
              "    <tr style=\"text-align: right;\">\n",
              "      <th></th>\n",
              "      <th>engine_displacement</th>\n",
              "      <th>num_cylinders</th>\n",
              "      <th>horsepower</th>\n",
              "      <th>vehicle_weight</th>\n",
              "      <th>acceleration</th>\n",
              "      <th>model_year</th>\n",
              "      <th>origin</th>\n",
              "      <th>fuel_type</th>\n",
              "      <th>drivetrain</th>\n",
              "      <th>num_doors</th>\n",
              "      <th>fuel_efficiency_mpg</th>\n",
              "    </tr>\n",
              "  </thead>\n",
              "  <tbody>\n",
              "    <tr>\n",
              "      <th>0</th>\n",
              "      <td>170</td>\n",
              "      <td>3.0</td>\n",
              "      <td>159.0</td>\n",
              "      <td>3413.433759</td>\n",
              "      <td>17.7</td>\n",
              "      <td>2003</td>\n",
              "      <td>Europe</td>\n",
              "      <td>Gasoline</td>\n",
              "      <td>All-wheel drive</td>\n",
              "      <td>0.0</td>\n",
              "      <td>13.231729</td>\n",
              "    </tr>\n",
              "    <tr>\n",
              "      <th>1</th>\n",
              "      <td>130</td>\n",
              "      <td>5.0</td>\n",
              "      <td>97.0</td>\n",
              "      <td>3149.664934</td>\n",
              "      <td>17.8</td>\n",
              "      <td>2007</td>\n",
              "      <td>USA</td>\n",
              "      <td>Gasoline</td>\n",
              "      <td>Front-wheel drive</td>\n",
              "      <td>0.0</td>\n",
              "      <td>13.688217</td>\n",
              "    </tr>\n",
              "    <tr>\n",
              "      <th>2</th>\n",
              "      <td>170</td>\n",
              "      <td>NaN</td>\n",
              "      <td>78.0</td>\n",
              "      <td>3079.038997</td>\n",
              "      <td>15.1</td>\n",
              "      <td>2018</td>\n",
              "      <td>Europe</td>\n",
              "      <td>Gasoline</td>\n",
              "      <td>Front-wheel drive</td>\n",
              "      <td>0.0</td>\n",
              "      <td>14.246341</td>\n",
              "    </tr>\n",
              "    <tr>\n",
              "      <th>3</th>\n",
              "      <td>220</td>\n",
              "      <td>4.0</td>\n",
              "      <td>NaN</td>\n",
              "      <td>2542.392402</td>\n",
              "      <td>20.2</td>\n",
              "      <td>2009</td>\n",
              "      <td>USA</td>\n",
              "      <td>Diesel</td>\n",
              "      <td>All-wheel drive</td>\n",
              "      <td>2.0</td>\n",
              "      <td>16.912736</td>\n",
              "    </tr>\n",
              "    <tr>\n",
              "      <th>4</th>\n",
              "      <td>210</td>\n",
              "      <td>1.0</td>\n",
              "      <td>140.0</td>\n",
              "      <td>3460.870990</td>\n",
              "      <td>14.4</td>\n",
              "      <td>2009</td>\n",
              "      <td>Europe</td>\n",
              "      <td>Gasoline</td>\n",
              "      <td>All-wheel drive</td>\n",
              "      <td>2.0</td>\n",
              "      <td>12.488369</td>\n",
              "    </tr>\n",
              "  </tbody>\n",
              "</table>\n",
              "</div>"
            ],
            "text/plain": [
              "   engine_displacement  num_cylinders  horsepower  vehicle_weight  \\\n",
              "0                  170            3.0       159.0     3413.433759   \n",
              "1                  130            5.0        97.0     3149.664934   \n",
              "2                  170            NaN        78.0     3079.038997   \n",
              "3                  220            4.0         NaN     2542.392402   \n",
              "4                  210            1.0       140.0     3460.870990   \n",
              "\n",
              "   acceleration  model_year  origin fuel_type         drivetrain  num_doors  \\\n",
              "0          17.7        2003  Europe  Gasoline    All-wheel drive        0.0   \n",
              "1          17.8        2007     USA  Gasoline  Front-wheel drive        0.0   \n",
              "2          15.1        2018  Europe  Gasoline  Front-wheel drive        0.0   \n",
              "3          20.2        2009     USA    Diesel    All-wheel drive        2.0   \n",
              "4          14.4        2009  Europe  Gasoline    All-wheel drive        2.0   \n",
              "\n",
              "   fuel_efficiency_mpg  \n",
              "0            13.231729  \n",
              "1            13.688217  \n",
              "2            14.246341  \n",
              "3            16.912736  \n",
              "4            12.488369  "
            ]
          },
          "execution_count": 4,
          "metadata": {},
          "output_type": "execute_result"
        }
      ],
      "source": [
        "data.head()"
      ]
    },
    {
      "cell_type": "markdown",
      "id": "aecac649",
      "metadata": {
        "id": "aecac649"
      },
      "source": [
        "### Q2. Records count"
      ]
    },
    {
      "cell_type": "code",
      "execution_count": null,
      "id": "3ec31f04",
      "metadata": {
        "id": "3ec31f04",
        "outputId": "cd273c69-53a8-464b-d270-2fc310f902ad"
      },
      "outputs": [
        {
          "data": {
            "text/plain": [
              "<bound method DataFrame.count of       engine_displacement  num_cylinders  horsepower  vehicle_weight  \\\n",
              "0                     170            3.0       159.0     3413.433759   \n",
              "1                     130            5.0        97.0     3149.664934   \n",
              "2                     170            NaN        78.0     3079.038997   \n",
              "3                     220            4.0         NaN     2542.392402   \n",
              "4                     210            1.0       140.0     3460.870990   \n",
              "...                   ...            ...         ...             ...   \n",
              "9699                  140            5.0       164.0     2981.107371   \n",
              "9700                  180            NaN       154.0     2439.525729   \n",
              "9701                  220            2.0       138.0     2583.471318   \n",
              "9702                  230            4.0       177.0     2905.527390   \n",
              "9703                  270            3.0       140.0     2908.043477   \n",
              "\n",
              "      acceleration  model_year  origin fuel_type         drivetrain  \\\n",
              "0             17.7        2003  Europe  Gasoline    All-wheel drive   \n",
              "1             17.8        2007     USA  Gasoline  Front-wheel drive   \n",
              "2             15.1        2018  Europe  Gasoline  Front-wheel drive   \n",
              "3             20.2        2009     USA    Diesel    All-wheel drive   \n",
              "4             14.4        2009  Europe  Gasoline    All-wheel drive   \n",
              "...            ...         ...     ...       ...                ...   \n",
              "9699          17.3        2013  Europe    Diesel  Front-wheel drive   \n",
              "9700          15.0        2004     USA  Gasoline    All-wheel drive   \n",
              "9701          15.1        2008     USA    Diesel    All-wheel drive   \n",
              "9702          19.4        2011     USA    Diesel  Front-wheel drive   \n",
              "9703          14.7        2005    Asia    Diesel    All-wheel drive   \n",
              "\n",
              "      num_doors  fuel_efficiency_mpg  \n",
              "0           0.0            13.231729  \n",
              "1           0.0            13.688217  \n",
              "2           0.0            14.246341  \n",
              "3           2.0            16.912736  \n",
              "4           2.0            12.488369  \n",
              "...         ...                  ...  \n",
              "9699        NaN            15.101802  \n",
              "9700        0.0            17.962326  \n",
              "9701       -1.0            17.186587  \n",
              "9702        1.0            15.331551  \n",
              "9703       -1.0            14.884467  \n",
              "\n",
              "[9704 rows x 11 columns]>"
            ]
          },
          "execution_count": 6,
          "metadata": {},
          "output_type": "execute_result"
        }
      ],
      "source": [
        "data.count"
      ]
    },
    {
      "cell_type": "markdown",
      "id": "ab65645c",
      "metadata": {
        "id": "ab65645c"
      },
      "source": [
        "\n",
        "\n",
        "How many records are in the dataset?\n",
        "\n",
        "- **9704**\n"
      ]
    },
    {
      "cell_type": "markdown",
      "id": "b5d128d0",
      "metadata": {
        "id": "b5d128d0"
      },
      "source": [
        "### Q3. Fuel types"
      ]
    },
    {
      "cell_type": "code",
      "execution_count": null,
      "id": "81e615ff",
      "metadata": {
        "id": "81e615ff",
        "outputId": "c081e8d0-b682-45d7-8e19-c7f8ac5dcaf8"
      },
      "outputs": [
        {
          "data": {
            "text/plain": [
              "engine_displacement      36\n",
              "num_cylinders            14\n",
              "horsepower              192\n",
              "vehicle_weight         9704\n",
              "acceleration            162\n",
              "model_year               24\n",
              "origin                    3\n",
              "fuel_type                 2\n",
              "drivetrain                2\n",
              "num_doors                 9\n",
              "fuel_efficiency_mpg    9704\n",
              "dtype: int64"
            ]
          },
          "execution_count": 25,
          "metadata": {},
          "output_type": "execute_result"
        }
      ],
      "source": [
        "data.nunique()"
      ]
    },
    {
      "cell_type": "markdown",
      "id": "e414e926",
      "metadata": {
        "id": "e414e926"
      },
      "source": [
        "\n",
        "\n",
        "How many fuel types are presented in the dataset?\n",
        "- *2*\n"
      ]
    },
    {
      "cell_type": "code",
      "execution_count": null,
      "id": "7e6b2e07-871d-405c-a7aa-bc957ed4e530",
      "metadata": {
        "colab": {
          "base_uri": "https://localhost:8080/"
        },
        "id": "7e6b2e07-871d-405c-a7aa-bc957ed4e530",
        "outputId": "6d9697ce-752f-4a9c-aebc-486be364ed88",
        "tags": []
      },
      "outputs": [
        {
          "data": {
            "text/plain": [
              "engine_displacement      0\n",
              "num_cylinders          482\n",
              "horsepower             708\n",
              "vehicle_weight           0\n",
              "acceleration           930\n",
              "model_year               0\n",
              "origin                   0\n",
              "fuel_type                0\n",
              "drivetrain               0\n",
              "num_doors              502\n",
              "fuel_efficiency_mpg      0\n",
              "dtype: int64"
            ]
          },
          "execution_count": 26,
          "metadata": {},
          "output_type": "execute_result"
        }
      ],
      "source": [
        "data.isna().sum()"
      ]
    },
    {
      "cell_type": "markdown",
      "id": "90b3262c",
      "metadata": {
        "id": "90b3262c"
      },
      "source": [
        "### Q4. Missing values"
      ]
    },
    {
      "cell_type": "markdown",
      "id": "JtB8acmV4jrf",
      "metadata": {
        "id": "JtB8acmV4jrf"
      },
      "source": [
        "\n",
        "\n",
        "How many columns in the dataset have missing values?\n",
        "\n",
        "- **4**"
      ]
    },
    {
      "cell_type": "code",
      "execution_count": null,
      "id": "FYEvOXA4tM5H",
      "metadata": {
        "colab": {
          "base_uri": "https://localhost:8080/"
        },
        "id": "FYEvOXA4tM5H",
        "outputId": "01f8a77f-adf5-43f7-cd83-92e3af063133"
      },
      "outputs": [
        {
          "name": "stdout",
          "output_type": "stream",
          "text": [
            "\n",
            "Кількість стовпців з пропущеними значеннями: 4\n"
          ]
        }
      ],
      "source": [
        "# Рахуємо кількість стовпців з пропущеними значеннями\n",
        "num_cols_with_missing = data.isnull().any().sum()\n",
        "\n",
        "print(f\"\\nКількість стовпців з пропущеними значеннями: {num_cols_with_missing}\")\n",
        "# Кількість стовпців з пропущеними значеннями: 4"
      ]
    },
    {
      "cell_type": "markdown",
      "id": "987507a8",
      "metadata": {
        "id": "987507a8"
      },
      "source": [
        "### Q5. Max fuel efficiency"
      ]
    },
    {
      "cell_type": "markdown",
      "id": "n0kM9M3O3Zuz",
      "metadata": {
        "id": "n0kM9M3O3Zuz"
      },
      "source": [
        "\n",
        "\n",
        "What's the maximum fuel efficiency of cars from Asia?\n",
        "\n",
        "\n",
        "- **23.75**"
      ]
    },
    {
      "cell_type": "code",
      "execution_count": null,
      "id": "SgnkG0qUvJMd",
      "metadata": {
        "colab": {
          "base_uri": "https://localhost:8080/",
          "height": 237
        },
        "id": "SgnkG0qUvJMd",
        "outputId": "110e64c6-859b-4a16-9f3f-3fd0b4163c6e"
      },
      "outputs": [
        {
          "data": {
            "text/html": [
              "<div>\n",
              "<style scoped>\n",
              "    .dataframe tbody tr th:only-of-type {\n",
              "        vertical-align: middle;\n",
              "    }\n",
              "\n",
              "    .dataframe tbody tr th {\n",
              "        vertical-align: top;\n",
              "    }\n",
              "\n",
              "    .dataframe thead th {\n",
              "        text-align: right;\n",
              "    }\n",
              "</style>\n",
              "<table border=\"1\" class=\"dataframe\">\n",
              "  <thead>\n",
              "    <tr style=\"text-align: right;\">\n",
              "      <th></th>\n",
              "      <th>min</th>\n",
              "      <th>mean</th>\n",
              "      <th>max</th>\n",
              "    </tr>\n",
              "    <tr>\n",
              "      <th>origin</th>\n",
              "      <th></th>\n",
              "      <th></th>\n",
              "      <th></th>\n",
              "    </tr>\n",
              "  </thead>\n",
              "  <tbody>\n",
              "    <tr>\n",
              "      <th>Asia</th>\n",
              "      <td>6.886245</td>\n",
              "      <td>14.973830</td>\n",
              "      <td>23.759123</td>\n",
              "    </tr>\n",
              "    <tr>\n",
              "      <th>Europe</th>\n",
              "      <td>6.200971</td>\n",
              "      <td>14.942532</td>\n",
              "      <td>25.967222</td>\n",
              "    </tr>\n",
              "    <tr>\n",
              "      <th>USA</th>\n",
              "      <td>6.695483</td>\n",
              "      <td>15.040204</td>\n",
              "      <td>24.971452</td>\n",
              "    </tr>\n",
              "  </tbody>\n",
              "</table>\n",
              "</div>"
            ],
            "text/plain": [
              "             min       mean        max\n",
              "origin                                \n",
              "Asia    6.886245  14.973830  23.759123\n",
              "Europe  6.200971  14.942532  25.967222\n",
              "USA     6.695483  15.040204  24.971452"
            ]
          },
          "execution_count": 9,
          "metadata": {},
          "output_type": "execute_result"
        }
      ],
      "source": [
        "data.groupby('origin')['fuel_efficiency_mpg'].agg(['min', 'mean', 'max'])"
      ]
    },
    {
      "cell_type": "markdown",
      "id": "a5758929",
      "metadata": {
        "id": "a5758929"
      },
      "source": [
        "### Q6. Медіанне значення кінських сил"
      ]
    },
    {
      "cell_type": "markdown",
      "id": "0c359a2a",
      "metadata": {
        "id": "0c359a2a"
      },
      "source": [
        "Це завдання складається з кількох кроків і перевіряє, як заповнення пропущених значень впливає на медіану.\n",
        "\n",
        "**Кроки для виконання:**\n",
        "\n",
        "1.  **Знайдіть медіану:** Обчисліть медіанне значення для стовпця `horsepower` у початковому датасеті (з усіма пропусками).\n",
        "2.  **Знайдіть найчастіше значення:** Тепер для того ж стовпця `horsepower` знайдіть значення, яке зустрічається найчастіше (це називається \"мода\" розподілу).\n",
        "3.  **Заповніть пропуски:** Використовуйте метод `.fillna()`, щоб заповнити всі пропущені значення (`NaN`) у стовпці `horsepower` тим значенням, яке ви знайшли у попередньому кроці (тобто найчастішим).\n",
        "4.  **Обчисліть медіану знову:** Після того, як ви заповнили пропуски, ще раз розрахуйте медіанне значення для оновленого стовпця `horsepower`.\n",
        "5.  **Порівняйте результати:** Дайте відповідь на питання: \"Чи змінилося медіанне значення після заповнення пропусків?\". Варіанти відповіді:\n",
        "\n",
        "    *   Ні, не змінилося."
      ]
    },
    {
      "cell_type": "code",
      "execution_count": null,
      "id": "h50zj0Na5p6y",
      "metadata": {
        "colab": {
          "base_uri": "https://localhost:8080/"
        },
        "id": "h50zj0Na5p6y",
        "outputId": "07067b58-ce33-45f3-f784-ff689d336544"
      },
      "outputs": [
        {
          "data": {
            "text/plain": [
              "np.float64(149.65729212983547)"
            ]
          },
          "execution_count": 27,
          "metadata": {},
          "output_type": "execute_result"
        }
      ],
      "source": [
        "mean_horsepower = data['horsepower'].mean()\n",
        "mean_horsepower"
      ]
    },
    {
      "cell_type": "code",
      "execution_count": null,
      "id": "30538058",
      "metadata": {
        "id": "30538058",
        "outputId": "85ef8a35-5cfa-4aba-e465-50f04feb1be8"
      },
      "outputs": [
        {
          "data": {
            "text/plain": [
              "0    152.0\n",
              "Name: horsepower, dtype: float64"
            ]
          },
          "execution_count": 20,
          "metadata": {},
          "output_type": "execute_result"
        }
      ],
      "source": [
        "mode_horsepower = data['horsepower'].mode()\n",
        "mode_horsepower\n"
      ]
    },
    {
      "cell_type": "code",
      "execution_count": null,
      "id": "lW-cYPtprtGX",
      "metadata": {
        "colab": {
          "base_uri": "https://localhost:8080/"
        },
        "id": "lW-cYPtprtGX",
        "outputId": "1566f283-0337-463f-f5b2-7dc795f48114"
      },
      "outputs": [
        {
          "data": {
            "text/plain": [
              "np.float64(149.65729212983547)"
            ]
          },
          "execution_count": 28,
          "metadata": {},
          "output_type": "execute_result"
        }
      ],
      "source": [
        "data['horsepower'].fillna(mode_horsepower).mean()"
      ]
    },
    {
      "cell_type": "markdown",
      "id": "7b1263c0",
      "metadata": {
        "id": "7b1263c0"
      },
      "source": [
        "No, it's the same."
      ]
    },
    {
      "cell_type": "markdown",
      "id": "d0f53ede",
      "metadata": {
        "id": "d0f53ede"
      },
      "source": [
        "### Теоретична довідка до Q6: Медіана та Мода\n",
        "\n",
        "#### Медіана (Median)\n",
        "\n",
        "**Медіана — це значення, яке знаходиться рівно посередині відсортованого набору даних.** Вона ділить дані на дві рівні частини: 50% значень менші за медіану, а 50% — більші.\n",
        "\n",
        "**Як її знайти:**\n",
        "\n",
        "1.  **Відсортуйте** всі значення від найменшого до найбільшого.\n",
        "2.  **Знайдіть центральне значення:**\n",
        "    *   Якщо кількість значень **непарна**, медіана — це число, що стоїть точно посередині.\n",
        "    *   Якщо кількість значень **парна**, медіана — це середнє арифметичне двох центральних чисел.\n",
        "\n",
        "**Головна перевага медіани:** на неї слабко впливають екстремально великі або малі значення (так звані \"викиди\").\n",
        "\n",
        "У pandas медіану можна розрахувати методом `.median()`.\n",
        "\n",
        "#### Мода (Mode)\n",
        "\n",
        "**Мода — це значення, яке зустрічається в наборі даних найчастіше.**\n",
        "\n",
        "**Як її знайти:**\n",
        "\n",
        "Просто порахуйте, скільки разів з'являється кожне унікальне значення. Те, у якого найбільша частота, і є модою.\n",
        "\n",
        "**Особливості моди:**\n",
        "\n",
        "*   Набір даних може мати одну моду, декілька мод або не мати її взагалі.\n",
        "*   Мода особливо корисна для категоріальних даних, але також використовується і для числових.\n",
        "\n",
        "У pandas моду можна знайти методом `.mode()`. Він повертає `Series`, оскільки мод може бути декілька.\n",
        "\n",
        "#### Підсумок\n",
        "\n",
        "*   **Медіана** — це про **середину** відсортованого набору.\n",
        "*   **Мода** — це про **найпопулярніше** або найчастіше значення.\n",
        "\n",
        "У завданні Q6 ви спершу знаходите медіану \"як є\", а потім заповнюєте пропуски найпопулярнішим значенням (модою) і дивитеся, як це вплинуло на \"середину\" (медіану) оновленого набору даних."
      ]
    },
    {
      "cell_type": "markdown",
      "id": "3f44769a",
      "metadata": {
        "id": "3f44769a"
      },
      "source": [
        "### Q7. Sum of weights"
      ]
    },
    {
      "cell_type": "markdown",
      "id": "fe2faf20",
      "metadata": {
        "id": "fe2faf20"
      },
      "source": [
        "\n",
        "\n",
        "1. Select all the cars from Asia\n",
        "2. Select only columns `vehicle_weight` and `model_year`\n",
        "3. Select the first 7 values\n",
        "4. Get the underlying NumPy array. Let's call it `X`.\n",
        "5. Compute matrix-matrix multiplication between the transpose of `X` and `X`. To get the transpose, use `X.T`. Let's call the result `XTX`.\n",
        "6. Invert `XTX`.\n",
        "7. Create an array `y` with values `[1100, 1300, 800, 900, 1000, 1100, 1200]`.\n",
        "8. Multiply the inverse of `XTX` with the transpose of `X`, and then multiply the result by `y`. Call the result `w`.\n",
        "9. What's the sum of all the elements of the result?\n",
        "\n",
        "> **Note**: You just implemented linear regression. We'll talk about it in the next lesson.\n",
        "\n",
        "\n",
        "- 5.1\n"
      ]
    },
    {
      "cell_type": "code",
      "execution_count": null,
      "id": "HhziJLnz6azH",
      "metadata": {
        "colab": {
          "base_uri": "https://localhost:8080/",
          "height": 206
        },
        "id": "HhziJLnz6azH",
        "outputId": "0e8337e0-4942-4fba-c841-9d5999e5cf69"
      },
      "outputs": [
        {
          "data": {
            "text/html": [
              "<div>\n",
              "<style scoped>\n",
              "    .dataframe tbody tr th:only-of-type {\n",
              "        vertical-align: middle;\n",
              "    }\n",
              "\n",
              "    .dataframe tbody tr th {\n",
              "        vertical-align: top;\n",
              "    }\n",
              "\n",
              "    .dataframe thead th {\n",
              "        text-align: right;\n",
              "    }\n",
              "</style>\n",
              "<table border=\"1\" class=\"dataframe\">\n",
              "  <thead>\n",
              "    <tr style=\"text-align: right;\">\n",
              "      <th></th>\n",
              "      <th>vehicle_weight</th>\n",
              "      <th>model_year</th>\n",
              "    </tr>\n",
              "  </thead>\n",
              "  <tbody>\n",
              "    <tr>\n",
              "      <th>8</th>\n",
              "      <td>2714.219310</td>\n",
              "      <td>2016</td>\n",
              "    </tr>\n",
              "    <tr>\n",
              "      <th>12</th>\n",
              "      <td>2783.868974</td>\n",
              "      <td>2010</td>\n",
              "    </tr>\n",
              "    <tr>\n",
              "      <th>14</th>\n",
              "      <td>3582.687368</td>\n",
              "      <td>2007</td>\n",
              "    </tr>\n",
              "    <tr>\n",
              "      <th>20</th>\n",
              "      <td>2231.808142</td>\n",
              "      <td>2011</td>\n",
              "    </tr>\n",
              "    <tr>\n",
              "      <th>21</th>\n",
              "      <td>2659.431451</td>\n",
              "      <td>2016</td>\n",
              "    </tr>\n",
              "    <tr>\n",
              "      <th>34</th>\n",
              "      <td>2844.227534</td>\n",
              "      <td>2014</td>\n",
              "    </tr>\n",
              "    <tr>\n",
              "      <th>38</th>\n",
              "      <td>3761.994038</td>\n",
              "      <td>2019</td>\n",
              "    </tr>\n",
              "  </tbody>\n",
              "</table>\n",
              "</div>"
            ],
            "text/plain": [
              "    vehicle_weight  model_year\n",
              "8      2714.219310        2016\n",
              "12     2783.868974        2010\n",
              "14     3582.687368        2007\n",
              "20     2231.808142        2011\n",
              "21     2659.431451        2016\n",
              "34     2844.227534        2014\n",
              "38     3761.994038        2019"
            ]
          },
          "execution_count": 32,
          "metadata": {},
          "output_type": "execute_result"
        }
      ],
      "source": [
        "asia_df = data[data.origin == 'Asia']\n",
        "asia_df = asia_df[['vehicle_weight', 'model_year']]\n",
        "asia_df[0:7]"
      ]
    },
    {
      "cell_type": "code",
      "execution_count": null,
      "id": "BMSgjlTV6a48",
      "metadata": {
        "colab": {
          "base_uri": "https://localhost:8080/"
        },
        "id": "BMSgjlTV6a48",
        "outputId": "94d51bb0-019c-4180-97da-201c850da575"
      },
      "outputs": [
        {
          "data": {
            "text/plain": [
              "array([[ 5.71497081e-07, -8.34509443e-07],\n",
              "       [-8.34509443e-07,  1.25380877e-06]])"
            ]
          },
          "execution_count": 33,
          "metadata": {},
          "output_type": "execute_result"
        }
      ],
      "source": [
        "X = asia_df[:7].values\n",
        "XTX = X.T.dot(X)\n",
        "\n",
        "XTX_inv = np.linalg.inv(XTX)\n",
        "XTX_inv"
      ]
    },
    {
      "cell_type": "code",
      "execution_count": null,
      "id": "0AoSPilS6a7S",
      "metadata": {
        "id": "0AoSPilS6a7S"
      },
      "outputs": [],
      "source": [
        "y = np.array([1100, 1300, 800, 900, 1000, 1100, 1200])"
      ]
    },
    {
      "cell_type": "code",
      "execution_count": null,
      "id": "dz3BmJfIvfdp",
      "metadata": {
        "id": "dz3BmJfIvfdp"
      },
      "outputs": [],
      "source": [
        "w = (XTX_inv @ X.T) @ y"
      ]
    },
    {
      "cell_type": "code",
      "execution_count": null,
      "id": "5e62860c-4afe-4a33-942f-ec238924b027",
      "metadata": {
        "tags": [],
        "id": "5e62860c-4afe-4a33-942f-ec238924b027",
        "outputId": "97270e31-c224-4ec1-be5f-71b5e286340d"
      },
      "outputs": [
        {
          "data": {
            "text/plain": [
              "array([0.01386421, 0.5049067 ])"
            ]
          },
          "execution_count": 35,
          "metadata": {},
          "output_type": "execute_result"
        }
      ],
      "source": [
        "w"
      ]
    },
    {
      "cell_type": "code",
      "execution_count": null,
      "id": "ouoIQygN6bD3",
      "metadata": {
        "colab": {
          "base_uri": "https://localhost:8080/"
        },
        "id": "ouoIQygN6bD3",
        "outputId": "895ebf5f-51b4-4ec5-ae5b-dce89abb2cb5"
      },
      "outputs": [
        {
          "data": {
            "text/plain": [
              "np.float64(0.5049066977233443)"
            ]
          },
          "execution_count": 39,
          "metadata": {},
          "output_type": "execute_result"
        }
      ],
      "source": [
        "w[1]"
      ]
    },
    {
      "cell_type": "markdown",
      "id": "70e3eaa9",
      "metadata": {
        "id": "70e3eaa9"
      },
      "source": [
        "> **Note**: we just implemented normal equation\n",
        "\n",
        "\n",
        "$$w = (X^T X)^{-1} X^T y$$\n",
        "\n",
        "\n",
        "We'll talk about it more in the next week (Machine Learning for Regression)"
      ]
    },
    {
      "cell_type": "markdown",
      "id": "20fc1203",
      "metadata": {
        "id": "20fc1203"
      },
      "source": [
        "### Теоретична довідка до Q7: Лінійна регресія та нормальне рівняння\n",
        "\n",
        "#### Що таке лінійна регресія? (Простими словами)\n",
        "\n",
        "Уявіть, що у вас є набір точок на графіку. Наприклад, по осі X — вага автомобіля, а по осі Y — його ціна. Ви помічаєте, що загалом, чим важчий автомобіль, тим він дорожчий.\n",
        "\n",
        "**Лінійна регресія — це спроба провести пряму лінію через ці точки так, щоб вона найкраще описувала цей зв'язок.**\n",
        "\n",
        "Ця \"найкраща\" лінія дозволяє нам робити прогнози. Наприклад, якщо ми дізнаємося вагу нового автомобіля, ми зможемо за допомогою нашої лінії приблизно передбачити його ціну.\n",
        "\n",
        "#### Як це пов'язано із завданням Q7?\n",
        "\n",
        "У завданні Q7 ви вручну реалізуєте один із класичних методів розв'язання лінійної регресії, який називається **\"Нормальне рівняння\" (Normal Equation)**.\n",
        "\n",
        "Це математична формула, яка дозволяє знайти оптимальні ваги `w` **за один крок**, без ітерацій чи поступового \"навчання\".\n",
        "\n",
        "Формула виглядає так:\n",
        "\n",
        "`w = (XᵀX)⁻¹ Xᵀy`\n",
        "\n",
        "А тепер давайте розберемо кроки з вашого завдання і порівняємо їх із цією формулою:\n",
        "\n",
        "1.  **`Select all the cars from Asia... Get the underlying NumPy array. Let's call it X.`**\n",
        "    *   Це ви готуєте матрицю ознак `X`.\n",
        "\n",
        "2.  **`Compute matrix-matrix multiplication between the transpose of X and X. ... Let's call the result XTX.`**\n",
        "    *   Це ви обчислюєте `XᵀX` (у коді `X.T @ X`).\n",
        "\n",
        "3.  **`Invert XTX.`**\n",
        "    *   Це ви знаходите обернену матрицю `(XᵀX)⁻¹`.\n",
        "\n",
        "4.  **`Create an array y ...`**\n",
        "    *   Це ви визначаєте вектор цільових значень `y`.\n",
        "\n",
        "5.  **`Multiply the inverse of XTX with the transpose of X, and then multiply the result by y. Call the result w.`**\n",
        "    *   Це і є фінальний розрахунок за формулою: `(XᵀX)⁻¹` помножити на `Xᵀ` і помножити на `y`. Результат — це і є ваші ваги `w`.\n",
        "\n",
        "Отже, виконуючи кроки із Q7, ви, по суті, розв'язуєте рівняння лінійної регресії, щоб знайти коефіцієнти (ваги `w`), які найкращим чином пов'язують вагу та рік випуску автомобіля (`X`) з деякими цільовими значеннями (`y`)."
      ]
    }
  ],
  "metadata": {
    "colab": {
      "provenance": [],
      "include_colab_link": true
    },
    "kernelspec": {
      "display_name": ".venv",
      "language": "python",
      "name": "python3"
    },
    "language_info": {
      "codemirror_mode": {
        "name": "ipython",
        "version": 3
      },
      "file_extension": ".py",
      "mimetype": "text/x-python",
      "name": "python",
      "nbconvert_exporter": "python",
      "pygments_lexer": "ipython3",
      "version": "3.12.3"
    }
  },
  "nbformat": 4,
  "nbformat_minor": 5
}