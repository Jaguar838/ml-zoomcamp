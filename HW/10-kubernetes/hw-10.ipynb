{
 "cells": [
  {
   "metadata": {},
   "cell_type": "markdown",
   "source": [
    "## Homework\n",
    "\n",
    "У цьому завданні ми розгорнемо модель **Bank Marketing** з домашнього завдання №5.  \n",
    "У нас вже є Docker-образ для цієї моделі – ми використаємо його для  \n",
    "розгортання моделі у **Kubernetes**."
   ]
  },
  {
   "metadata": {},
   "cell_type": "markdown",
   "source": [
    "\n",
    "\n",
    "### Створення образу\n",
    "\n",
    "Клонуйте репозиторій курсу, якщо ви ще цього не зробили:\n",
    "\n",
    "```\n",
    "git clone https://github.com/DataTalksClub/machine-learning-zoomcamp.git\n",
    "```\n",
    "\n",
    "Перейдіть у папку `course-zoomcamp/cohorts/2024/05-deployment/homework`  \n",
    "і виконайте наступну команду:\n",
    "\n",
    "```bash\n",
    "docker build -t zoomcamp-model:3.11.5-hw10 .\n",
    "```\n",
    "\n",
    "> **Примітка:** Якщо виникли проблеми зі збіркою образу, ви можете  \n",
    "> скористатися образом, який ми зібрали і опублікували на **Docker Hub**:  \n",
    "> `docker pull svizor/zoomcamp-model:3.11.5-hw10`"
   ]
  },
  {
   "cell_type": "code",
   "execution_count": 1,
   "metadata": {},
   "outputs": [
    {
     "name": "stdout",
     "output_type": "stream",
     "text": [
      "3.11.5-hw10: Pulling from svizor42/zoomcamp-model\n",
      "\n",
      "\u001B[1Ba5fb9032: Pulling fs layer \n",
      "\u001B[1B81b69b9a: Pulling fs layer \n",
      "\u001B[1Ba0a62ab5: Pulling fs layer \n",
      "\u001B[1B28511179: Pulling fs layer \n",
      "\u001B[1B79bc1c47: Pulling fs layer \n",
      "\u001B[1Bc3f7336a: Pulling fs layer \n",
      "\u001B[1B56631b9d: Pulling fs layer \n",
      "\u001B[1Bf65bff9f: Pulling fs layer \n",
      "\u001B[3B56631b9d: Waiting fs layer \n",
      "\u001B[1B8ef822c9: Pulling fs layer \n",
      "\u001B[1BDigest: sha256:a33db66766aa612128df9d4e24ad9d4b1b582bb51ae2e6b23f78b0edad9ffbd2\u001B[2K\u001B[9A\u001B[2K\u001B[11A\u001B[2K\u001B[10A\u001B[2K\u001B[10A\u001B[2K\u001B[10A\u001B[2K\u001B[10A\u001B[2K\u001B[10A\u001B[2K\u001B[11A\u001B[2K\u001B[10A\u001B[2K\u001B[9A\u001B[2K\u001B[11A\u001B[2K\u001B[9A\u001B[2K\u001B[10A\u001B[2K\u001B[11A\u001B[2K\u001B[9A\u001B[2K\u001B[11A\u001B[2K\u001B[9A\u001B[2K\u001B[9A\u001B[2K\u001B[11A\u001B[2K\u001B[11A\u001B[2K\u001B[9A\u001B[2K\u001B[8A\u001B[2K\u001B[9A\u001B[2K\u001B[11A\u001B[2K\u001B[9A\u001B[2K\u001B[11A\u001B[2K\u001B[9A\u001B[2K\u001B[11A\u001B[2K\u001B[9A\u001B[2K\u001B[11A\u001B[2K\u001B[7A\u001B[2K\u001B[9A\u001B[2K\u001B[7A\u001B[2K\u001B[11A\u001B[2K\u001B[7A\u001B[2K\u001B[7A\u001B[2K\u001B[7A\u001B[2K\u001B[7A\u001B[2K\u001B[9A\u001B[2K\u001B[11A\u001B[2K\u001B[7A\u001B[2K\u001B[7A\u001B[2K\u001B[9A\u001B[2K\u001B[11A\u001B[2K\u001B[7A\u001B[2K\u001B[7A\u001B[2K\u001B[9A\u001B[2K\u001B[7A\u001B[2K\u001B[9A\u001B[2K\u001B[7A\u001B[2K\u001B[7A\u001B[2K\u001B[7A\u001B[2K\u001B[7A\u001B[2K\u001B[11A\u001B[2K\u001B[9A\u001B[2K\u001B[11A\u001B[2K\u001B[9A\u001B[2K\u001B[11A\u001B[2K\u001B[9A\u001B[2K\u001B[9A\u001B[2K\u001B[11A\u001B[2K\u001B[9A\u001B[2K\u001B[11A\u001B[2K\u001B[6A\u001B[2K\u001B[9A\u001B[2K\u001B[11A\u001B[2K\u001B[9A\u001B[2K\u001B[11A\u001B[2K\u001B[9A\u001B[2K\u001B[11A\u001B[2K\u001B[9A\u001B[2K\u001B[5A\u001B[2K\u001B[11A\u001B[2K\u001B[9A\u001B[2K\u001B[11A\u001B[2K\u001B[9A\u001B[2K\u001B[11A\u001B[2K\u001B[11A\u001B[2K\u001B[9A\u001B[2K\u001B[11A\u001B[2K\u001B[9A\u001B[2K\u001B[9A\u001B[2K\u001B[9A\u001B[2K\u001B[9A\u001B[2K\u001B[11A\u001B[2K\u001B[9A\u001B[2K\u001B[11A\u001B[2K\u001B[9A\u001B[2K\u001B[9A\u001B[2K\u001B[4A\u001B[2K\u001B[11A\u001B[2K\u001B[9A\u001B[2K\u001B[11A\u001B[2K\u001B[9A\u001B[2K\u001B[11A\u001B[2K\u001B[9A\u001B[2K\u001B[9A\u001B[2K\u001B[11A\u001B[2K\u001B[9A\u001B[2K\u001B[11A\u001B[2K\u001B[9A\u001B[2K\u001B[11A\u001B[2K\u001B[9A\u001B[2K\u001B[11A\u001B[2K\u001B[9A\u001B[2K\u001B[4A\u001B[2K\u001B[9A\u001B[2K\u001B[9A\u001B[2K\u001B[11A\u001B[2K\u001B[9A\u001B[2K\u001B[9A\u001B[2K\u001B[4A\u001B[2K\u001B[9A\u001B[2K\u001B[9A\u001B[2K\u001B[11A\u001B[2K\u001B[9A\u001B[2K\u001B[11A\u001B[2K\u001B[9A\u001B[2K\u001B[4A\u001B[2K\u001B[9A\u001B[2K\u001B[11A\u001B[2K\u001B[9A\u001B[2K\u001B[11A\u001B[2K\u001B[9A\u001B[2K\u001B[9A\u001B[2K\u001B[11A\u001B[2K\u001B[9A\u001B[2K\u001B[11A\u001B[2K\u001B[4A\u001B[2K\u001B[9A\u001B[2K\u001B[11A\u001B[2K\u001B[9A\u001B[2K\u001B[11A\u001B[2K\u001B[9A\u001B[2K\u001B[9A\u001B[2K\u001B[11A\u001B[2K\u001B[9A\u001B[2K\u001B[9A\u001B[2K\u001B[11A\u001B[2K\u001B[9A\u001B[2K\u001B[11A\u001B[2K\u001B[9A\u001B[2K\u001B[11A\u001B[2K\u001B[9A\u001B[2K\u001B[4A\u001B[2K\u001B[9A\u001B[2K\u001B[11A\u001B[2K\u001B[9A\u001B[2K\u001B[11A\u001B[2K\u001B[9A\u001B[2K\u001B[11A\u001B[2K\u001B[9A\u001B[2K\u001B[11A\u001B[2K\u001B[4A\u001B[2K\u001B[11A\u001B[2K\u001B[11A\u001B[2K\u001B[11A\u001B[2K\u001B[4A\u001B[2K\u001B[11A\u001B[2K\u001B[3A\u001B[2K\u001B[11A\u001B[2K\u001B[11A\u001B[2K\u001B[4A\u001B[2K\u001B[11A\u001B[2K\u001B[11A\u001B[2K\u001B[11A\u001B[2K\u001B[11A\u001B[2K\u001B[11A\u001B[2K\u001B[4A\u001B[2K\u001B[11A\u001B[2K\u001B[2A\u001B[2K\u001B[11A\u001B[2K\u001B[11A\u001B[2K\u001B[4A\u001B[2K\u001B[11A\u001B[2K\u001B[11A\u001B[2K\u001B[2A\u001B[2K\u001B[11A\u001B[2K\u001B[11A\u001B[2K\u001B[11A\u001B[2K\u001B[4A\u001B[2K\u001B[11A\u001B[2K\u001B[2A\u001B[2K\u001B[11A\u001B[2K\u001B[11A\u001B[2K\u001B[4A\u001B[2K\u001B[11A\u001B[2K\u001B[4A\u001B[2K\u001B[11A\u001B[2K\u001B[11A\u001B[2K\u001B[4A\u001B[2K\u001B[2A\u001B[2K\u001B[11A\u001B[2K\u001B[4A\u001B[2K\u001B[11A\u001B[2K\u001B[4A\u001B[2K\u001B[2A\u001B[2K\u001B[4A\u001B[2K\u001B[11A\u001B[2K\u001B[4A\u001B[2K\u001B[11A\u001B[2K\u001B[4A\u001B[2K\u001B[2A\u001B[2K\u001B[4A\u001B[2K\u001B[11A\u001B[2K\u001B[11A\u001B[2K\u001B[4A\u001B[2K\u001B[11A\u001B[2K\u001B[4A\u001B[2K\u001B[11A\u001B[2K\u001B[11A\u001B[2K\u001B[11A\u001B[2K\u001B[11A\u001B[2K\u001B[11A\u001B[2K\u001B[11A\u001B[2K\u001B[11A\u001B[2K\u001B[4A\u001B[2K\u001B[11A\u001B[2K\u001B[10A\u001B[2K\u001B[10A\u001B[2K\u001B[10A\u001B[2K\u001B[9A\u001B[2K\u001B[4A\u001B[2K\u001B[9A\u001B[2K\u001B[9A\u001B[2K\u001B[9A\u001B[2K\u001B[8A\u001B[2K\u001B[8A\u001B[2K\u001B[7A\u001B[2K\u001B[7A\u001B[2K\u001B[7A\u001B[2K\u001B[6A\u001B[2K\u001B[5A\u001B[2K\u001B[4A\u001B[2K\u001B[2A\u001B[2K\u001B[4A\u001B[2K\u001B[4A\u001B[2K\u001B[4A\u001B[2K\u001B[2A\u001B[2K\u001B[4A\u001B[2K\u001B[2A\u001B[2K\u001B[4A\u001B[2K\u001B[4A\u001B[2K\u001B[4A\u001B[2K\u001B[2A\u001B[2K\u001B[4A\u001B[2K\u001B[2A\u001B[2K\u001B[4A\u001B[2K\u001B[4A\u001B[2K\u001B[2A\u001B[2K\u001B[4A\u001B[2K\u001B[4A\u001B[2K\u001B[2A\u001B[2K\u001B[4A\u001B[2K\u001B[4A\u001B[2K\u001B[2A\u001B[2K\u001B[4A\u001B[2K\u001B[4A\u001B[2K\u001B[2A\u001B[2K\u001B[4A\u001B[2K\u001B[4A\u001B[2K\u001B[4A\u001B[2K\u001B[2A\u001B[2K\u001B[4A\u001B[2K\u001B[4A\u001B[2K\u001B[4A\u001B[2K\u001B[2A\u001B[2K\u001B[4A\u001B[2K\u001B[4A\u001B[2K\u001B[2A\u001B[2K\u001B[4A\u001B[2K\u001B[4A\u001B[2K\u001B[4A\u001B[2K\u001B[2A\u001B[2K\u001B[4A\u001B[2K\u001B[4A\u001B[2K\u001B[2A\u001B[2K\u001B[4A\u001B[2K\u001B[4A\u001B[2K\u001B[4A\u001B[2K\u001B[2A\u001B[2K\u001B[4A\u001B[2K\u001B[4A\u001B[2K\u001B[4A\u001B[2K\u001B[2A\u001B[2K\u001B[4A\u001B[2K\u001B[4A\u001B[2K\u001B[4A\u001B[2K\u001B[2A\u001B[2K\u001B[4A\u001B[2K\u001B[2A\u001B[2K\u001B[4A\u001B[2K\u001B[4A\u001B[2K\u001B[2A\u001B[2K\u001B[4A\u001B[2K\u001B[2A\u001B[2K\u001B[4A\u001B[2K\u001B[2A\u001B[2K\u001B[4A\u001B[2K\u001B[2A\u001B[2K\u001B[4A\u001B[2K\u001B[4A\u001B[2K\u001B[2A\u001B[2K\u001B[4A\u001B[2K\u001B[4A\u001B[2K\u001B[4A\u001B[2K\u001B[2A\u001B[2K\u001B[4A\u001B[2K\u001B[4A\u001B[2K\u001B[2A\u001B[2K\u001B[4A\u001B[2K\u001B[4A\u001B[2K\u001B[2A\u001B[2K\u001B[4A\u001B[2K\u001B[4A\u001B[2K\u001B[4A\u001B[2K\u001B[2A\u001B[2K\u001B[4A\u001B[2K\u001B[4A\u001B[2K\u001B[2A\u001B[2K\u001B[4A\u001B[2K\u001B[4A\u001B[2K\u001B[4A\u001B[2K\u001B[4A\u001B[2K\u001B[4A\u001B[2K\u001B[4A\u001B[2K\u001B[4A\u001B[2K\u001B[4A\u001B[2K\u001B[2A\u001B[2K\u001B[4A\u001B[2K\u001B[4A\u001B[2K\u001B[4A\u001B[2K\u001B[3A\u001B[2K\u001B[2A\u001B[2K\u001B[2A\u001B[2K\u001B[2A\u001B[2K\u001B[2A\u001B[2K\u001B[2A\u001B[2K\u001B[2A\u001B[2K\u001B[2A\u001B[2K\u001B[2A\u001B[2K\u001B[2A\u001B[2K\u001B[2A\u001B[2K\u001B[2A\u001B[2K\u001B[2A\u001B[2K\u001B[2A\u001B[2K\u001B[2A\u001B[2K\u001B[2A\u001B[2K\u001B[2A\u001B[2K\u001B[2A\u001B[2K\u001B[2A\u001B[2K\u001B[2A\u001B[2K\u001B[2A\u001B[2K\u001B[2A\u001B[2K\u001B[2A\u001B[2K\u001B[2A\u001B[2K\u001B[2A\u001B[2K\u001B[2A\u001B[2K\u001B[2A\u001B[2K\u001B[2A\u001B[2K\u001B[2A\u001B[2K\u001B[2A\u001B[2K\u001B[2A\u001B[2K\u001B[2A\u001B[2K\u001B[2A\u001B[2K\u001B[2A\u001B[2K\u001B[2A\u001B[2K\u001B[2A\u001B[2K\u001B[2A\u001B[2K\u001B[2A\u001B[2K\u001B[2A\u001B[2K\u001B[2A\u001B[2K\u001B[2A\u001B[2K\u001B[2A\u001B[2K\u001B[2A\u001B[2K\u001B[2A\u001B[2K\u001B[2A\u001B[2K\u001B[2A\u001B[2K\u001B[2A\u001B[2K\u001B[2A\u001B[2K\u001B[2A\u001B[2K\u001B[2A\u001B[2K\u001B[2A\u001B[2K\u001B[2A\u001B[2K\u001B[2A\u001B[2K\u001B[2A\u001B[2K\u001B[2A\u001B[2K\u001B[2A\u001B[2K\u001B[2A\u001B[2K\u001B[2A\u001B[2K\u001B[2A\u001B[2K\u001B[2A\u001B[2K\u001B[2A\u001B[2K\u001B[2A\u001B[2K\u001B[2A\u001B[2K\u001B[2A\u001B[2K\u001B[2A\u001B[2K\u001B[2A\u001B[2K\u001B[2A\u001B[2K\u001B[2A\u001B[2K\u001B[2A\u001B[2K\u001B[2A\u001B[2K\u001B[2A\u001B[2K\u001B[2A\u001B[2K\u001B[2A\u001B[2K\u001B[2A\u001B[2K\u001B[2A\u001B[2K\u001B[2A\u001B[2K\u001B[2A\u001B[2K\u001B[2A\u001B[2K\u001B[2A\u001B[2K\u001B[2A\u001B[2K\u001B[2A\u001B[2K\u001B[2A\u001B[2K\u001B[2A\u001B[2K\u001B[2A\u001B[2K\u001B[2A\u001B[2K\u001B[2A\u001B[2K\u001B[2A\u001B[2K\u001B[2A\u001B[2K\u001B[2A\u001B[2K\u001B[2A\u001B[2K\u001B[2A\u001B[2K\u001B[2A\u001B[2K\u001B[2A\u001B[2K\u001B[2A\u001B[2K\u001B[2A\u001B[2K\u001B[2A\u001B[2K\u001B[2A\u001B[2K\u001B[2A\u001B[2K\u001B[2A\u001B[2K\u001B[2A\u001B[2K\u001B[2A\u001B[2K\u001B[2A\u001B[2K\u001B[2A\u001B[2K\u001B[2A\u001B[2K\u001B[2A\u001B[2K\u001B[2A\u001B[2K\u001B[2A\u001B[2K\u001B[2A\u001B[2K\u001B[2A\u001B[2K\u001B[2A\u001B[2K\u001B[2A\u001B[2K\u001B[2A\u001B[2K\u001B[2A\u001B[2K\u001B[2A\u001B[2K\u001B[2A\u001B[2K\u001B[2A\u001B[2K\u001B[2A\u001B[2K\u001B[2A\u001B[2K\u001B[2A\u001B[2K\u001B[2A\u001B[2K\u001B[2A\u001B[2K\u001B[2A\u001B[2K\u001B[2A\u001B[2K\u001B[2A\u001B[2K\u001B[2A\u001B[2K\u001B[2A\u001B[2K\u001B[2A\u001B[2K\u001B[2A\u001B[2K\u001B[2A\u001B[2K\u001B[2A\u001B[2K\u001B[2A\u001B[2K\u001B[2A\u001B[2K\u001B[2A\u001B[2K\u001B[2A\u001B[2K\u001B[2A\u001B[2K\u001B[2A\u001B[2K\u001B[2A\u001B[2K\u001B[2A\u001B[2K\u001B[2A\u001B[2K\u001B[2A\u001B[2K\u001B[2A\u001B[2K\u001B[2A\u001B[2K\u001B[2A\u001B[2K\u001B[2A\u001B[2K\u001B[2A\u001B[2K\u001B[2A\u001B[2K\u001B[2A\u001B[2K\u001B[2A\u001B[2K\u001B[2A\u001B[2K\u001B[2A\u001B[2K\u001B[2A\u001B[2K\u001B[2A\u001B[2K\u001B[2A\u001B[2K\u001B[2A\u001B[2K\u001B[2A\u001B[2K\u001B[2A\u001B[2K\u001B[2A\u001B[2K\u001B[2A\u001B[2K\u001B[2A\u001B[2K\u001B[2A\u001B[2K\u001B[2A\u001B[2K\u001B[2A\u001B[2K\u001B[2A\u001B[2K\u001B[2A\u001B[2K\u001B[2A\u001B[2K\u001B[2A\u001B[2K\u001B[2A\u001B[2K\u001B[2A\u001B[2K\u001B[2A\u001B[2K\u001B[2A\u001B[2K\u001B[2A\u001B[2K\u001B[2A\u001B[2K\u001B[2A\u001B[2K\u001B[2A\u001B[2K\u001B[2A\u001B[2K\u001B[2A\u001B[2K\u001B[2A\u001B[2K\u001B[2A\u001B[2K\u001B[2A\u001B[2K\u001B[2A\u001B[2K\u001B[2A\u001B[2K\u001B[2A\u001B[2K\u001B[2A\u001B[2K\u001B[2A\u001B[2K\u001B[2A\u001B[2K\u001B[2A\u001B[2K\u001B[2A\u001B[2K\u001B[2A\u001B[2K\u001B[2A\u001B[2K\u001B[2A\u001B[2K\u001B[2A\u001B[2K\u001B[2A\u001B[2K\u001B[2A\u001B[2K\u001B[2A\u001B[2K\u001B[2A\u001B[2K\u001B[2A\u001B[2K\u001B[2A\u001B[2K\u001B[2A\u001B[2K\u001B[2A\u001B[2K\u001B[2A\u001B[2K\u001B[2A\u001B[2K\u001B[2A\u001B[2K\u001B[2A\u001B[2K\u001B[2A\u001B[2K\u001B[2A\u001B[2K\u001B[2A\u001B[2K\u001B[2A\u001B[2K\u001B[2A\u001B[2K\u001B[2A\u001B[2K\u001B[2A\u001B[2K\u001B[2A\u001B[2K\u001B[2A\u001B[2K\u001B[2A\u001B[2K\u001B[2A\u001B[2K\u001B[2A\u001B[2K\u001B[2A\u001B[2K\u001B[2A\u001B[2K\u001B[2A\u001B[2K\u001B[2A\u001B[2K\u001B[2A\u001B[2K\u001B[2A\u001B[2K\u001B[2A\u001B[2K\u001B[2A\u001B[2K\u001B[2A\u001B[2K\u001B[2A\u001B[2K\u001B[2A\u001B[2K\u001B[2A\u001B[2K\u001B[2A\u001B[2K\u001B[2A\u001B[2K\u001B[2A\u001B[2K\u001B[2A\u001B[2K\u001B[2A\u001B[2K\u001B[2A\u001B[2K\u001B[2A\u001B[2K\u001B[2A\u001B[2K\u001B[2A\u001B[2K\u001B[2A\u001B[2K\u001B[2A\u001B[2K\u001B[2A\u001B[2K\u001B[2A\u001B[2K\u001B[2A\u001B[2K\u001B[2A\u001B[2K\u001B[2A\u001B[2K\u001B[2A\u001B[2K\u001B[2A\u001B[2K\u001B[2A\u001B[2K\u001B[2A\u001B[2K\u001B[2A\u001B[2K\u001B[2A\u001B[2K\u001B[2A\u001B[2K\u001B[2A\u001B[2K\u001B[2A\u001B[2K\u001B[2A\u001B[2K\u001B[2A\u001B[2K\u001B[2A\u001B[2K\u001B[2A\u001B[2K\u001B[2A\u001B[2K\u001B[2A\u001B[2K\u001B[2A\u001B[2K\u001B[2A\u001B[2K\u001B[2A\u001B[2K\u001B[2A\u001B[2K\u001B[2A\u001B[2K\u001B[2A\u001B[2K\u001B[2A\u001B[2K\u001B[2A\u001B[2K\u001B[2A\u001B[2K\u001B[2A\u001B[2K\u001B[2A\u001B[2K\u001B[2A\u001B[2K\u001B[2A\u001B[2K\u001B[2A\u001B[2K\u001B[2A\u001B[2K\u001B[2A\u001B[2K\u001B[2A\u001B[2K\u001B[2A\u001B[2K\u001B[2A\u001B[2K\u001B[2A\u001B[2K\u001B[2A\u001B[2K\u001B[2A\u001B[2K\u001B[2A\u001B[2K\u001B[2A\u001B[2K\u001B[2A\u001B[2K\u001B[2A\u001B[2K\u001B[2A\u001B[2K\u001B[2A\u001B[2K\u001B[2A\u001B[2K\u001B[2A\u001B[2K\u001B[2A\u001B[2K\u001B[2A\u001B[2K\u001B[2A\u001B[2K\u001B[2A\u001B[2K\u001B[2A\u001B[2K\u001B[2A\u001B[2K\u001B[2A\u001B[2K\u001B[2A\u001B[2K\u001B[2A\u001B[2K\u001B[1A\u001B[2K\u001B[1A\u001B[2K\n",
      "Status: Downloaded newer image for svizor/zoomcamp-model:3.11.5-hw10\n",
      "docker.io/svizor/zoomcamp-model:3.11.5-hw10\n"
     ]
    }
   ],
   "source": "!docker pull svizor/zoomcamp-model:3.11.5-hw10"
  },
  {
   "cell_type": "code",
   "metadata": {
    "jupyter": {
     "is_executing": true
    }
   },
   "source": "!docker images svizor/zoomcamp-model:3.11.5-hw10",
   "outputs": [],
   "execution_count": null
  },
  {
   "cell_type": "markdown",
   "metadata": {},
   "source": [
    "## Question 1\n",
    "\n",
    "Запустіть його для локального тестування:"
   ]
  },
  {
   "metadata": {},
   "cell_type": "code",
   "outputs": [],
   "execution_count": null,
   "source": "!docker run -it --rm -p 9696:9696 svizor/zoomcamp-model:3.11.5-hw10\n"
  },
  {
   "metadata": {},
   "cell_type": "markdown",
   "source": [
    "\n",
    "В іншому терміналі виконайте файл `q6_test.py`:\n",
    "\n",
    "```bash\n",
    "python q6_test.py\n",
    "```\n",
    "\n",
    "Ви побачите таке:\n",
    "\n",
    "```python\n",
    "{'has_subscribed': True, 'has_subscribed_probability': <value>}\n",
    "```\n",
    "\n",
    "Тут `<value>` – це ймовірність підписки. Оберіть правильне значення:\n",
    "\n",
    "* 0.287\n",
    "* 0.530\n",
    "* **0.757**\n",
    "* 0.960\n"
   ]
  },
  {
   "cell_type": "code",
   "execution_count": 8,
   "metadata": {},
   "outputs": [
    {
     "name": "stdout",
     "output_type": "stream",
     "text": [
      "{'has_subscribed': True, 'has_subscribed_probability': 0.756743795240796}\n"
     ]
    }
   ],
   "source": [
    "!python q6_test.py"
   ]
  },
  {
   "cell_type": "markdown",
   "metadata": {},
   "source": [
    "## Installing `kubectl` and `kind`\n",
    "\n",
    "You need to install:\n",
    "\n",
    "* `kubectl` - https://kubernetes.io/docs/tasks/tools/ (you might already have it - check before installing)\n",
    "* `kind` - https://kind.sigs.k8s.io/docs/user/quick-start/\n",
    "\n",
    "(used install using apt for kubectl, and install from repo for kind)\n",
    "\n",
    "## Question 2\n",
    "\n",
    "What's the version of `kind` that you have? \n",
    "\n",
    "Use `kind --version` to find out.\n"
   ]
  },
  {
   "cell_type": "code",
   "execution_count": 10,
   "metadata": {},
   "outputs": [
    {
     "name": "stdout",
     "output_type": "stream",
     "text": [
      "kind version 0.17.0\n"
     ]
    }
   ],
   "source": [
    "!kind --version"
   ]
  },
  {
   "cell_type": "markdown",
   "metadata": {},
   "source": [
    "## Creating a cluster\n",
    "\n",
    "Now let's create a cluster with `kind`:\n",
    "\n",
    "```bash\n",
    "kind create cluster\n",
    "```\n",
    "\n",
    "And check with `kubectl` that it was successfully created:\n",
    "\n",
    "```bash\n",
    "kubectl cluster-info\n",
    "```"
   ]
  },
  {
   "cell_type": "code",
   "execution_count": 1,
   "metadata": {},
   "outputs": [
    {
     "name": "stdout",
     "output_type": "stream",
     "text": [
      "\u001B[0;32mKubernetes control plane\u001B[0m is running at \u001B[0;33mhttps://127.0.0.1:39879\u001B[0m\n",
      "\u001B[0;32mCoreDNS\u001B[0m is running at \u001B[0;33mhttps://127.0.0.1:39879/api/v1/namespaces/kube-system/services/kube-dns:dns/proxy\u001B[0m\n",
      "\n",
      "To further debug and diagnose cluster problems, use 'kubectl cluster-info dump'.\n"
     ]
    }
   ],
   "source": [
    "!kubectl cluster-info"
   ]
  },
  {
   "cell_type": "markdown",
   "metadata": {},
   "source": [
    "## Question 3\n",
    "\n",
    "What's the smallest deployable computing unit that we can create and manage \n",
    "in Kubernetes (`kind` in our case)?\n",
    "\n",
    "* Node\n",
    "* Pod\n",
    "* Deployment\n",
    "* Service"
   ]
  },
  {
   "cell_type": "markdown",
   "metadata": {},
   "source": [
    "**Answer: Pod**"
   ]
  },
  {
   "cell_type": "markdown",
   "metadata": {},
   "source": [
    "# Question 4\n",
    "\n",
    "Now let's test if everything works. Use `kubectl` to get the list of running services.\n",
    "\n",
    "What's the `Type` of the service that is already running there?\n",
    "\n",
    "* ClusterIP\n",
    "* NodePort\n",
    "* LoadBalancer\n",
    "* ExternalName\n"
   ]
  },
  {
   "cell_type": "code",
   "execution_count": 7,
   "metadata": {},
   "outputs": [
    {
     "name": "stdout",
     "output_type": "stream",
     "text": [
      "NAME         TYPE        CLUSTER-IP   EXTERNAL-IP   PORT(S)   AGE\n",
      "kubernetes   ClusterIP   10.96.0.1    <none>        443/TCP   4m55s\n"
     ]
    }
   ],
   "source": [
    "!kubectl get services"
   ]
  },
  {
   "cell_type": "markdown",
   "metadata": {},
   "source": [
    "**Answer is: The service already running is ClusterIP**"
   ]
  },
  {
   "cell_type": "markdown",
   "metadata": {},
   "source": [
    "## Question 5\n",
    "\n",
    "To be able to use the docker image we previously created (`zoomcamp-model:v001`),\n",
    "we need to register it with `kind`.\n",
    "\n",
    "What's the command we need to run for that?\n",
    "\n",
    "* `kind create cluster`\n",
    "* `kind build node-image`\n",
    "* `kind load docker-image`\n",
    "* `kubectl apply`\n"
   ]
  },
  {
   "cell_type": "code",
   "execution_count": 10,
   "metadata": {},
   "outputs": [
    {
     "name": "stdout",
     "output_type": "stream",
     "text": [
      "Image: \"\" with ID \"sha256:951a2ef903b849d0ed069942d05aa2edd5e50cb7f91ceb9a7301068d0910a18c\" not yet present on node \"kind-control-plane\", loading...\n"
     ]
    }
   ],
   "source": "!kind load docker-image svizor42/zoomcamp-model:3.11.5-hw10\n"
  },
  {
   "cell_type": "markdown",
   "metadata": {},
   "source": [
    "**Answer: kind load docker-image**"
   ]
  },
  {
   "cell_type": "markdown",
   "metadata": {},
   "source": [
    "## Question 6\n",
    "\n",
    "Now let's create a deployment config (e.g. `deployment.yaml`):\n",
    "\n",
    "```yaml\n",
    "apiVersion: apps/v1\n",
    "kind: Deployment\n",
    "metadata:\n",
    "  name: subscription\n",
    "spec:\n",
    "  selector:\n",
    "    matchLabels:\n",
    "      app: subscription\n",
    "  replicas: 1\n",
    "  template:\n",
    "    metadata:\n",
    "      labels:\n",
    "        app: subscription\n",
    "    spec:\n",
    "      containers:\n",
    "      - name: subscription\n",
    "        image: zoomcamp-model:3.11.5-hw10\n",
    "        resources:\n",
    "          requests:\n",
    "            memory: \"64Mi\"\n",
    "            cpu: \"100m\"            \n",
    "          limits:\n",
    "            memory: \"128Mi\"\n",
    "            cpu: \"250m\"\n",
    "        ports:\n",
    "        - containerPort: 9696\n",
    "```\n",
    "\n",
    "Replace `<Image>`, `<Memory>`, `<CPU>`, `<Port>` with the correct values.\n",
    "\n",
    "What is the value for `<Port>`?\n",
    "\n",
    "\n",
    "Apply this deployment using the appropriate command and get a list of running Pods. \n",
    "You can see one running Pod."
   ]
  },
  {
   "attachments": {},
   "cell_type": "markdown",
   "metadata": {},
   "source": [
    "```\n",
    "        image: zoomcamp-model:3.11.5-hw10\n",
    "        resources:\n",
    "          requests:\n",
    "            memory: \"64Mi\"\n",
    "            cpu: \"100m\"            \n",
    "          limits:\n",
    "            memory: \"128Mi\"\n",
    "            cpu: \"250m\"\n",
    "        ports:\n",
    "        - containerPort: 9696\n",
    "```\n",
    "\n",
    "**Answer: The value for port is 80**"
   ]
  },
  {
   "cell_type": "code",
   "execution_count": 11,
   "metadata": {},
   "outputs": [
    {
     "name": "stdout",
     "output_type": "stream",
     "text": [
      "deployment.apps/subscription created\n"
     ]
    }
   ],
   "source": [
    "# !kubectl get pods --all-namespaces\n",
    "!kubectl apply -f deployment.yaml"
   ]
  },
  {
   "cell_type": "code",
   "execution_count": 12,
   "metadata": {},
   "outputs": [
    {
     "name": "stdout",
     "output_type": "stream",
     "text": [
      "NAME          READY   UP-TO-DATE   AVAILABLE   AGE\n",
      "subscription   1/1     1            1           22s\n"
     ]
    }
   ],
   "source": [
    "!kubectl get deployment"
   ]
  },
  {
   "attachments": {},
   "cell_type": "markdown",
   "metadata": {},
   "source": [
    "Yes there is one running pod as expected"
   ]
  },
  {
   "cell_type": "code",
   "execution_count": 13,
   "metadata": {},
   "outputs": [
    {
     "name": "stdout",
     "output_type": "stream",
     "text": [
      "NAME                           READY   STATUS    RESTARTS   AGE\n",
      "subscription-56b8f7f4d8-qffv8   1/1     Running   0          2m35s\n"
     ]
    }
   ],
   "source": [
    "!kubectl get pod"
   ]
  },
  {
   "cell_type": "markdown",
   "metadata": {},
   "source": [
    "## Question 7\n",
    "\n",
    "Let's create a service for this deployment (`service.yaml`):\n",
    "\n",
    "```yaml\n",
    "apiVersion: v1\n",
    "kind: Service\n",
    "metadata:\n",
    "  name: <Service name>\n",
    "spec:\n",
    "  type: LoadBalancer\n",
    "  selector:\n",
    "    app: <???>\n",
    "  ports:\n",
    "  - port: 80\n",
    "    targetPort: <PORT>\n",
    "```\n",
    "\n",
    "Fill it in. What do we need to write instead of `<???>`?\n",
    "\n",
    "**Answer: subscription**\n",
    "\n",
    "Apply this config file."
   ]
  },
  {
   "attachments": {},
   "cell_type": "markdown",
   "metadata": {},
   "source": [
    "my service.yaml:\n",
    "\n",
    "```\n",
    "apiVersion: v1\n",
    "kind: Service\n",
    "metadata:\n",
    "  name: subscription-service\n",
    "spec:\n",
    "  type: NodePort\n",
    "  selector:\n",
    "    app: subscription\n",
    "  ports:\n",
    "  - port: 80\n",
    "    targetPort: 9696\n",
    "```"
   ]
  },
  {
   "cell_type": "code",
   "execution_count": 16,
   "metadata": {},
   "outputs": [
    {
     "name": "stdout",
     "output_type": "stream",
     "text": [
      "service/subscription-service created\n"
     ]
    }
   ],
   "source": [
    "!kubectl apply -f service.yaml"
   ]
  },
  {
   "cell_type": "code",
   "execution_count": 17,
   "metadata": {},
   "outputs": [
    {
     "name": "stdout",
     "output_type": "stream",
     "text": [
      "NAME          TYPE           CLUSTER-IP     EXTERNAL-IP   PORT(S)        AGE\n",
      "subscription  LoadBalancer   10.96.15.137   <pending>     80:31883/TCP   25s\n",
      "kubernetes    ClusterIP      10.96.0.1      <none>        443/TCP        144m\n"
     ]
    }
   ],
   "source": [
    "!kubectl get service"
   ]
  },
  {
   "cell_type": "markdown",
   "metadata": {},
   "source": [
    "## Testing the service\n",
    "\n",
    "We can test our service locally by forwarding the port 9696 on our computer \n",
    "to the port 80 on the service:\n",
    "\n",
    "```bash\n",
    "kubectl port-forward service/subscribtion-service 9696:80\n",
    "```\n",
    "\n",
    "Run `q6_test.py` (from the homework 5) once again to verify that everything is working. \n",
    "You should get the same result as in Question 1."
   ]
  },
  {
   "cell_type": "code",
   "execution_count": 18,
   "metadata": {},
   "outputs": [
    {
     "name": "stdout",
     "output_type": "stream",
     "text": [
      "{'has_subscribed': True, 'has_subscribed_probability': 0.756743795240796}\n"
     ]
    }
   ],
   "source": [
    "!python q6_test.py"
   ]
  },
  {
   "cell_type": "markdown",
   "metadata": {},
   "source": [
    "# Autoscaling\n",
    "\n",
    "Now we're going to use a[HorizontalPodAutoscaler](https: // kubernetes.io/docs/tasks/run-application/horizontal-pod-autoscale-walkthrough/)\n",
    "(HPA for short) that automatically updates a workload resource(such as our deployment),\n",
    "with the aim of automatically scaling the workload to match demand.\n",
    "\n",
    "Use the following command to create the HPA:\n",
    "\n",
    "```bash\n",
    "kubectl autoscale deployment subscription --name subscription-hpa --cpu-percent=20 --min=1 --max=3\n",
    "```\n",
    "\n",
    "You can check the current status of the new HPA by running:\n",
    "\n",
    "```bash\n",
    "kubectl get hpa\n",
    "```\n",
    "\n",
    "The output should be similar to the next:\n",
    "\n",
    "```bash\n",
    "NAME               REFERENCE                TARGETS          MINPODS   MAXPODS   REPLICAS   AGE\n",
    "subscription-hpa   Deployment/subscription   <unknown>/20%   1         3         1          26s\n",
    "```\n",
    "\n",
    "`TARGET` column shows the average CPU consumption across all the Pods controlled by the corresponding deployment.\n",
    "Current CPU consumption is about 0 % as there are no clients sending requests to the server.\n",
    ">\n",
    ">Note: In case the HPA instance doesn't run properly, try to install the latest Metrics Server release\n",
    "> from the `components.yaml` manifest:\n",
    "> ```bash\n",
    "> kubectl apply - f https: // github.com/kubernetes-sigs/metrics-server/releases/latest/download/components.yaml\n",
    ">```\n"
   ]
  },
  {
   "cell_type": "code",
   "execution_count": 19,
   "metadata": {},
   "outputs": [
    {
     "name": "stdout",
     "output_type": "stream",
     "text": [
      "NAME               REFERENCE                 TARGETS         MINPODS   MAXPODS   REPLICAS   AGE\n",
      "subscription-hpa   Deployment/subscription   <unknown>/20%   1         3         0          5s\n"
     ]
    }
   ],
   "source": [
    "!kubectl get hpa"
   ]
  },
  {
   "cell_type": "markdown",
   "metadata": {},
   "source": [
    "## Increase the load\n",
    "\n",
    "Let's see how the autoscaler reacts to increasing the load. To do this, we can slightly modify the existing\n",
    "`q6_test.py` script by putting the operator that sends the request to the subscription service into a loop.\n",
    "\n",
    "```python\n",
    "while True:\n",
    "    sleep(0.1)\n",
    "    response = requests.post(url, json=client).json()\n",
    "    print(response)\n",
    "```\n",
    "\n",
    "Now you can run this script."
   ]
  },
  {
   "cell_type": "code",
   "execution_count": null,
   "metadata": {},
   "outputs": [],
   "source": [
    "!python q6_test.py"
   ]
  },
  {
   "attachments": {},
   "cell_type": "markdown",
   "metadata": {},
   "source": [
    "**Observation: It returns the output in a loop.**"
   ]
  },
  {
   "metadata": {},
   "cell_type": "markdown",
   "source": [
    "## Question 8 (optional)\n",
    "\n",
    "Run `kubectl get hpa subscription -hpa --watch` command to monitor how the autoscaler performs. \n",
    "Within a minute or so, you should see the higher CPU load; and then - more replicas. \n",
    "What was the maximum amount of the replicas during this test?\n",
    "\n",
    "\n",
    "* **1**\n",
    "* 2\n",
    "* 3\n",
    "* 4\n",
    "\n",
    "```bash\n",
    "NAME               REFERENCE                TARGETS          MINPODS   MAXPODS   REPLICAS   AGE\n",
    "subscription-hpa   Deployment/subscription   <unknown>/20%   1         3         1          7m19s\n",
    "```\n",
    "\n",
    ">Note: It may take a few minutes to stabilize the number of replicas. Since the amount of load is not controlled \n",
    "> in any way it may happen that the final number of replicas will differ from initial.\n"
   ]
  }
 ],
 "metadata": {
  "kernelspec": {
   "display_name": "Python 3.10.6 ('bento')",
   "language": "python",
   "name": "python3"
  },
  "language_info": {
   "codemirror_mode": {
    "name": "ipython",
    "version": 3
   },
   "file_extension": ".py",
   "mimetype": "text/x-python",
   "name": "python",
   "nbconvert_exporter": "python",
   "pygments_lexer": "ipython3",
   "version": "3.10.6"
  },
  "orig_nbformat": 4,
  "vscode": {
   "interpreter": {
    "hash": "0fc71e7b5a8bb7b6e89141c2c8b22168e7cec618be0e271244246f05d65ba122"
   }
  }
 },
 "nbformat": 4,
 "nbformat_minor": 2
}
