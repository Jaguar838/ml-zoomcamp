{
 "cells": [
  {
   "cell_type": "code",
   "execution_count": 1,
   "id": "86252c80",
   "metadata": {
    "id": "86252c80"
   },
   "outputs": [
    {
     "name": "stderr",
     "output_type": "stream",
     "text": [
      "C:\\Users\\alexe\\anaconda3\\lib\\site-packages\\scipy\\__init__.py:155: UserWarning: A NumPy version >=1.18.5 and <1.25.0 is required for this version of SciPy (detected version 1.26.2\n",
      "  warnings.warn(f\"A NumPy version >={np_minversion} and <{np_maxversion}\"\n"
     ]
    },
    {
     "name": "stdout",
     "output_type": "stream",
     "text": [
      "WARNING:tensorflow:From C:\\Users\\alexe\\anaconda3\\lib\\site-packages\\keras\\src\\losses.py:2976: The name tf.losses.sparse_softmax_cross_entropy is deprecated. Please use tf.compat.v1.losses.sparse_softmax_cross_entropy instead.\n",
      "\n"
     ]
    }
   ],
   "source": [
    "import tensorflow as tf\n",
    "from tensorflow import keras"
   ]
  },
  {
   "cell_type": "code",
   "execution_count": 5,
   "id": "017ef0be",
   "metadata": {},
   "outputs": [
    {
     "data": {
      "text/plain": [
       "'2.15.0'"
      ]
     },
     "execution_count": 5,
     "metadata": {},
     "output_type": "execute_result"
    }
   ],
   "source": [
    "tf.__version__"
   ]
  },
  {
   "cell_type": "code",
   "execution_count": 8,
   "id": "52acc85f",
   "metadata": {
    "id": "52acc85f"
   },
   "outputs": [],
   "source": [
    "model = keras.models.load_model('bees-wasps.h5')"
   ]
  },
  {
   "cell_type": "code",
   "execution_count": 9,
   "id": "270af343",
   "metadata": {
    "colab": {
     "base_uri": "https://localhost:8080/"
    },
    "executionInfo": {
     "elapsed": 2142,
     "status": "ok",
     "timestamp": 1668722440273,
     "user": {
      "displayName": "Timur Kamaliev",
      "userId": "12270392991844786490"
     },
     "user_tz": -180
    },
    "id": "270af343",
    "outputId": "bdfbca61-b214-4342-dd73-2a649212e1e6"
   },
   "outputs": [
    {
     "name": "stdout",
     "output_type": "stream",
     "text": [
      "INFO:tensorflow:Assets written to: C:\\Users\\alexe\\AppData\\Local\\Temp\\tmphziiifnf\\assets\n"
     ]
    },
    {
     "name": "stderr",
     "output_type": "stream",
     "text": [
      "INFO:tensorflow:Assets written to: C:\\Users\\alexe\\AppData\\Local\\Temp\\tmphziiifnf\\assets\n"
     ]
    }
   ],
   "source": [
    "converter = tf.lite.TFLiteConverter.from_keras_model(model)\n",
    "tflite_model = converter.convert()\n",
    "\n",
    "with open('bees-wasps.tflite', 'wb') as f_out:\n",
    "    f_out.write(tflite_model)"
   ]
  },
  {
   "cell_type": "code",
   "execution_count": 10,
   "id": "29c8e4ec",
   "metadata": {
    "colab": {
     "base_uri": "https://localhost:8080/"
    },
    "executionInfo": {
     "elapsed": 503,
     "status": "ok",
     "timestamp": 1668722440762,
     "user": {
      "displayName": "Timur Kamaliev",
      "userId": "12270392991844786490"
     },
     "user_tz": -180
    },
    "id": "29c8e4ec",
    "outputId": "f67f9964-43f1-4483-dda6-916c7d76a417"
   },
   "outputs": [
    {
     "name": "stdout",
     "output_type": "stream",
     "text": [
      "-rw-r--r-- 1 alexey 197121 43M Nov 17 22:50 bees-wasps.tflite\n"
     ]
    }
   ],
   "source": [
    "!ls -lh bees-wasps.tflite"
   ]
  },
  {
   "cell_type": "code",
   "execution_count": 11,
   "id": "49b7d4f3",
   "metadata": {
    "id": "49b7d4f3"
   },
   "outputs": [],
   "source": [
    "import tensorflow.lite as tflite"
   ]
  },
  {
   "cell_type": "code",
   "execution_count": 12,
   "id": "8dcbdcc7",
   "metadata": {
    "id": "8dcbdcc7"
   },
   "outputs": [],
   "source": [
    "interpreter = tflite.Interpreter(model_path='bees-wasps.tflite')\n",
    "interpreter.allocate_tensors()\n",
    "\n",
    "input_index = interpreter.get_input_details()[0]['index']\n",
    "output_index = interpreter.get_output_details()[0]['index']"
   ]
  },
  {
   "cell_type": "code",
   "execution_count": 13,
   "id": "79b551cd",
   "metadata": {
    "colab": {
     "base_uri": "https://localhost:8080/"
    },
    "executionInfo": {
     "elapsed": 19,
     "status": "ok",
     "timestamp": 1668722440765,
     "user": {
      "displayName": "Timur Kamaliev",
      "userId": "12270392991844786490"
     },
     "user_tz": -180
    },
    "id": "79b551cd",
    "outputId": "58cd55c5-24ce-4415-a1f6-9b0c3488d414"
   },
   "outputs": [
    {
     "data": {
      "text/plain": [
       "13"
      ]
     },
     "execution_count": 13,
     "metadata": {},
     "output_type": "execute_result"
    }
   ],
   "source": [
    "output_index"
   ]
  },
  {
   "cell_type": "code",
   "execution_count": 14,
   "id": "b838c6f2",
   "metadata": {
    "id": "b838c6f2"
   },
   "outputs": [],
   "source": [
    "from io import BytesIO\n",
    "from urllib import request\n",
    "\n",
    "from PIL import Image\n",
    "\n",
    "def download_image(url):\n",
    "    with request.urlopen(url) as resp:\n",
    "        buffer = resp.read()\n",
    "    stream = BytesIO(buffer)\n",
    "    img = Image.open(stream)\n",
    "    return img\n",
    "\n",
    "\n",
    "def prepare_image(img, target_size):\n",
    "    if img.mode != 'RGB':\n",
    "        img = img.convert('RGB')\n",
    "    img = img.resize(target_size, Image.NEAREST)\n",
    "    return img\n",
    "img = download_image('https://habrastorage.org/webt/rt/d9/dh/rtd9dhsmhwrdezeldzoqgijdg8a.jpeg')\n",
    "img = prepare_image(img, target_size=(150, 150))\n",
    "img"
   ]
  },
  {
   "cell_type": "code",
   "execution_count": 16,
   "id": "204920e3",
   "metadata": {
    "id": "204920e3"
   },
   "outputs": [],
   "source": [
    "import numpy as np"
   ]
  },
  {
   "cell_type": "code",
   "execution_count": 17,
   "id": "2fa74634",
   "metadata": {
    "id": "2fa74634"
   },
   "outputs": [],
   "source": [
    "def prepare_input(x):\n",
    "    return x / 255.0"
   ]
  },
  {
   "cell_type": "code",
   "execution_count": 18,
   "id": "0e0940c9",
   "metadata": {
    "id": "0e0940c9"
   },
   "outputs": [],
   "source": [
    "x = np.array(img, dtype='float32')\n",
    "X = np.array([x])\n",
    "X = prepare_input(X)"
   ]
  },
  {
   "cell_type": "code",
   "execution_count": 19,
   "id": "a22ebee7",
   "metadata": {
    "colab": {
     "base_uri": "https://localhost:8080/"
    },
    "executionInfo": {
     "elapsed": 20,
     "status": "ok",
     "timestamp": 1668722441058,
     "user": {
      "displayName": "Timur Kamaliev",
      "userId": "12270392991844786490"
     },
     "user_tz": -180
    },
    "id": "a22ebee7",
    "outputId": "a4ed4bc1-419e-4adb-a3a4-ee30f7132379"
   },
   "outputs": [
    {
     "data": {
      "text/plain": [
       "0.94509804"
      ]
     },
     "execution_count": 19,
     "metadata": {},
     "output_type": "execute_result"
    }
   ],
   "source": [
    "X[0, 0, 0, 0]"
   ]
  },
  {
   "cell_type": "code",
   "execution_count": 20,
   "id": "b1ff985d",
   "metadata": {
    "id": "b1ff985d"
   },
   "outputs": [],
   "source": [
    "interpreter.set_tensor(input_index, X)\n",
    "interpreter.invoke()\n",
    "\n",
    "preds = interpreter.get_tensor(output_index)"
   ]
  },
  {
   "cell_type": "code",
   "execution_count": 21,
   "id": "6814145a",
   "metadata": {
    "colab": {
     "base_uri": "https://localhost:8080/"
    },
    "executionInfo": {
     "elapsed": 7,
     "status": "ok",
     "timestamp": 1668722441645,
     "user": {
      "displayName": "Timur Kamaliev",
      "userId": "12270392991844786490"
     },
     "user_tz": -180
    },
    "id": "6814145a",
    "outputId": "d52bd241-a818-423e-b3ef-ce467a1647c9"
   },
   "outputs": [
    {
     "data": {
      "text/plain": [
       "array([[0.65898407]], dtype=float32)"
      ]
     },
     "execution_count": 21,
     "metadata": {},
     "output_type": "execute_result"
    }
   ],
   "source": [
    "preds"
   ]
  },
  {
   "cell_type": "markdown",
   "id": "cd64ca87",
   "metadata": {},
   "source": [
    "Question 5\n",
    "\n",
    "```\n",
    "$ docker images agrigorev/zoomcamp-bees-wasps:v2\n",
    "REPOSITORY                      TAG       IMAGE ID       CREATED         SIZE\n",
    "agrigorev/zoomcamp-bees-wasps   v2        b9f6c13de368   2 minutes ago   662MB\n",
    "```"
   ]
  },
  {
   "cell_type": "markdown",
   "id": "7de96175",
   "metadata": {},
   "source": [
    "Question 6\n",
    "\n",
    "```\n",
    "docker build -t bees-wasps-homework . \n",
    "docker run -it --rm -p 8080:8080 bees-wasps-homework \n",
    "\n",
    "python test.py\n",
    "```"
   ]
  },
  {
   "cell_type": "code",
   "execution_count": null,
   "id": "41269b1e",
   "metadata": {},
   "outputs": [],
   "source": []
  }
 ],
 "metadata": {
  "colab": {
   "provenance": []
  },
  "kernelspec": {
   "display_name": "Python 3 (ipykernel)",
   "language": "python",
   "name": "python3"
  },
  "language_info": {
   "codemirror_mode": {
    "name": "ipython",
    "version": 3
   },
   "file_extension": ".py",
   "mimetype": "text/x-python",
   "name": "python",
   "nbconvert_exporter": "python",
   "pygments_lexer": "ipython3",
   "version": "3.9.13"
  }
 },
 "nbformat": 4,
 "nbformat_minor": 5
}
