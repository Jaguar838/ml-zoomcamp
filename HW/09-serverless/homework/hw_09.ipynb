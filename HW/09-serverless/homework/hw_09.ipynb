{
 "cells": [
  {
   "metadata": {},
   "cell_type": "markdown",
   "source": "[Session #9 Homework](https://colab.research.google.com/github/Jaguar838/ml-zoomcamp/blob/master/HW/09-serverless/homework/hw_09.ipynb)",
   "id": "4bc8ce8ba3be178d"
  },
  {
   "metadata": {},
   "cell_type": "code",
   "outputs": [],
   "execution_count": null,
   "source": "!wget https://github.com/alexeygrigorev/large-datasets/releases/download/hairstyle/model_2024_hairstyle.keras",
   "id": "4ce455c644fe87a0"
  },
  {
   "cell_type": "code",
   "execution_count": null,
   "id": "initial_id",
   "metadata": {
    "collapsed": true
   },
   "outputs": [],
   "source": [
    "import os\n",
    "import tensorflow as tf\n",
    "# Завантажте модель Keras\n",
    "model = tf.keras.models.load_model('model_2024_hairstyle.keras')\n"
   ]
  },
  {
   "metadata": {},
   "cell_type": "code",
   "outputs": [],
   "execution_count": null,
   "source": [
    "# Ініціалізуйте конвертер TF-Lite\n",
    "converter = tf.lite.TFLiteConverter.from_keras_model(model)\n",
    "\n",
    "# Виконайте конвертацію\n",
    "tflite_model = converter.convert()\n",
    "\n",
    "# Збережіть модель у форматі TF-Lite\n",
    "with open('model_2024_hairstyle.tflite', 'wb') as f:\n",
    "    f.write(tflite_model)\n",
    "\n",
    "print(\"Модель успішно перетворено у формат TF-Lite!\")\n",
    "\n",
    "import os\n",
    "\n",
    "file_size = os.path.getsize('model_2024_hairstyle.tflite') / (1024 * 1024)  # Розмір у МБ\n",
    "print(f\"Розмір перетвореної моделі: {file_size:.2f} MB\")"
   ],
   "id": "af6d9b0ec19141bd"
  }
 ],
 "metadata": {
  "kernelspec": {
   "display_name": "Python 3",
   "language": "python",
   "name": "python3"
  },
  "language_info": {
   "codemirror_mode": {
    "name": "ipython",
    "version": 2
   },
   "file_extension": ".py",
   "mimetype": "text/x-python",
   "name": "python",
   "nbconvert_exporter": "python",
   "pygments_lexer": "ipython2",
   "version": "2.7.6"
  }
 },
 "nbformat": 4,
 "nbformat_minor": 5
}
