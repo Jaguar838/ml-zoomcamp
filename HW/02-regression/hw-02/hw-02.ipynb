{
 "cells": [
  {
   "metadata": {
    "id": "874151a174ff09b0"
   },
   "cell_type": "markdown",
   "source": [
    "[Homework #2](https://colab.research.google.com/github/Jaguar838/ml-zoomcamp/blob/master/HW/02-regression/hw-02/hw-02.ipynb)"
   ],
   "id": "874151a174ff09b0"
  },
  {
   "metadata": {
    "ExecuteTime": {
     "end_time": "2024-10-02T16:13:18.237334Z",
     "start_time": "2024-10-02T16:10:49.561773Z"
    },
    "id": "9f85a014eb5f70ab",
    "outputId": "3d0831e2-0d9a-4889-8273-658063df1595",
    "colab": {
     "base_uri": "https://localhost:8080/"
    }
   },
   "cell_type": "code",
   "source": [
    "!python -V"
   ],
   "id": "9f85a014eb5f70ab",
   "outputs": [
    {
     "output_type": "stream",
     "name": "stdout",
     "text": [
      "Python 3.10.12\n"
     ]
    }
   ],
   "execution_count": null
  },
  {
   "metadata": {
    "ExecuteTime": {
     "end_time": "2024-10-02T16:13:21.741296Z",
     "start_time": "2024-10-02T16:13:21.553616Z"
    },
    "id": "c451dfc9"
   },
   "cell_type": "code",
   "source": [
    "import numpy as np\n",
    "import pandas as pd"
   ],
   "id": "c451dfc9",
   "outputs": [],
   "execution_count": 1
  },
  {
   "metadata": {
    "id": "3219d10e8f3d842d"
   },
   "cell_type": "markdown",
   "source": [
    "### Dataset"
   ],
   "id": "3219d10e8f3d842d"
  },
  {
   "metadata": {
    "id": "b73eb3e7"
   },
   "cell_type": "code",
   "outputs": [],
   "execution_count": 2,
   "source": [
    "df = pd.read_csv(\"https://raw.githubusercontent.com/alexeygrigorev/datasets/master/laptops.csv\")"
   ],
   "id": "b73eb3e7"
  },
  {
   "metadata": {
    "id": "10dd388537bdc2be"
   },
   "cell_type": "markdown",
   "source": [
    "### Prepare Dataset"
   ],
   "id": "10dd388537bdc2be"
  },
  {
   "metadata": {
    "id": "a4b8ffb6121b2e50",
    "outputId": "c918510d-218a-4497-95b2-33fb6d7f0ed8",
    "colab": {
     "base_uri": "https://localhost:8080/"
    }
   },
   "cell_type": "code",
   "outputs": [
    {
     "output_type": "stream",
     "name": "stdout",
     "text": [
      "<class 'pandas.core.frame.DataFrame'>\n",
      "RangeIndex: 2160 entries, 0 to 2159\n",
      "Data columns (total 12 columns):\n",
      " #   Column        Non-Null Count  Dtype  \n",
      "---  ------        --------------  -----  \n",
      " 0   Laptop        2160 non-null   object \n",
      " 1   Status        2160 non-null   object \n",
      " 2   Brand         2160 non-null   object \n",
      " 3   Model         2160 non-null   object \n",
      " 4   CPU           2160 non-null   object \n",
      " 5   RAM           2160 non-null   int64  \n",
      " 6   Storage       2160 non-null   int64  \n",
      " 7   Storage type  2118 non-null   object \n",
      " 8   GPU           789 non-null    object \n",
      " 9   Screen        2156 non-null   float64\n",
      " 10  Touch         2160 non-null   object \n",
      " 11  Final Price   2160 non-null   float64\n",
      "dtypes: float64(2), int64(2), object(8)\n",
      "memory usage: 202.6+ KB\n"
     ]
    }
   ],
   "execution_count": null,
   "source": [
    "df.info()"
   ],
   "id": "a4b8ffb6121b2e50"
  },
  {
   "cell_type": "code",
   "id": "26aebe0b",
   "metadata": {
    "ExecuteTime": {
     "end_time": "2024-10-02T16:08:49.791799Z",
     "start_time": "2024-10-02T16:08:42.778115Z"
    },
    "id": "26aebe0b",
    "outputId": "90065c7b-9aa5-4726-f060-f892112c0b4c",
    "colab": {
     "base_uri": "https://localhost:8080/"
    }
   },
   "source": [
    "# Спочатку нормалізуємо назви стовпців:\n",
    "df.columns = df.columns.str.lower().str.replace(' ', '_')\n",
    "df.columns"
   ],
   "outputs": [
    {
     "output_type": "execute_result",
     "data": {
      "text/plain": [
       "Index(['laptop', 'status', 'brand', 'model', 'cpu', 'ram', 'storage',\n",
       "       'storage_type', 'gpu', 'screen', 'touch', 'final_price'],\n",
       "      dtype='object')"
      ]
     },
     "metadata": {},
     "execution_count": 3
    }
   ],
   "execution_count": 3
  },
  {
   "metadata": {
    "id": "ada0b64159590431"
   },
   "cell_type": "markdown",
   "source": [
    "Далі використовуйте лише наступні стовпці:\n",
    "\n",
    "* `'ram'`,\n",
    "* `'storage'`,\n",
    "* `'screen'`,\n",
    "* `'final_price'`"
   ],
   "id": "ada0b64159590431"
  },
  {
   "cell_type": "code",
   "execution_count": 4,
   "id": "992a75b5",
   "metadata": {
    "id": "992a75b5"
   },
   "outputs": [],
   "source": [
    "columns = [\n",
    "    \"ram\",\n",
    "    \"storage\",\n",
    "    \"screen\",\n",
    "    \"final_price\"\n",
    "]\n",
    "\n",
    "df = df[columns]"
   ]
  },
  {
   "cell_type": "code",
   "source": [
    "\n",
    "#@ INITIALIZING DESCRIPTIVE ANALYSIS:\n",
    "df.describe(percentiles=[.0, .25, .5, .75, .9, .95, .99, .1]).T"
   ],
   "metadata": {
    "id": "2t7_s2-7of-W",
    "outputId": "7133547d-ab0b-4ea0-d179-35a1cbf268a3",
    "colab": {
     "base_uri": "https://localhost:8080/",
     "height": 175
    }
   },
   "id": "2t7_s2-7of-W",
   "execution_count": null,
   "outputs": [
    {
     "output_type": "execute_result",
     "data": {
      "text/plain": [
       "              count         mean         std     min      0%     10%  \\\n",
       "ram          2160.0    15.413889    9.867815    4.00    4.00    8.00   \n",
       "storage      2160.0   596.294444  361.220506    0.00    0.00  256.00   \n",
       "screen       2156.0    15.168112    1.203329   10.10   10.10   13.40   \n",
       "final_price  2160.0  1312.638509  911.475417  201.05  201.05  449.99   \n",
       "\n",
       "                  25%       50%      75%       90%        95%        99%  \\\n",
       "ram            8.0000    16.000    16.00    32.000    32.0000    64.0000   \n",
       "storage      256.0000   512.000  1000.00  1000.000  1000.0000  2000.0000   \n",
       "screen        14.0000    15.600    15.60    16.100    17.3000    17.3000   \n",
       "final_price  661.0825  1031.945  1708.97  2518.038  3199.0005  4499.4059   \n",
       "\n",
       "                 max  \n",
       "ram           128.00  \n",
       "storage      4000.00  \n",
       "screen         18.00  \n",
       "final_price  7150.47  "
      ],
      "text/html": [
       "\n",
       "  <div id=\"df-b8eac23c-7aea-40bf-8c33-7b44a6f32dcb\" class=\"colab-df-container\">\n",
       "    <div>\n",
       "<style scoped>\n",
       "    .dataframe tbody tr th:only-of-type {\n",
       "        vertical-align: middle;\n",
       "    }\n",
       "\n",
       "    .dataframe tbody tr th {\n",
       "        vertical-align: top;\n",
       "    }\n",
       "\n",
       "    .dataframe thead th {\n",
       "        text-align: right;\n",
       "    }\n",
       "</style>\n",
       "<table border=\"1\" class=\"dataframe\">\n",
       "  <thead>\n",
       "    <tr style=\"text-align: right;\">\n",
       "      <th></th>\n",
       "      <th>count</th>\n",
       "      <th>mean</th>\n",
       "      <th>std</th>\n",
       "      <th>min</th>\n",
       "      <th>0%</th>\n",
       "      <th>10%</th>\n",
       "      <th>25%</th>\n",
       "      <th>50%</th>\n",
       "      <th>75%</th>\n",
       "      <th>90%</th>\n",
       "      <th>95%</th>\n",
       "      <th>99%</th>\n",
       "      <th>max</th>\n",
       "    </tr>\n",
       "  </thead>\n",
       "  <tbody>\n",
       "    <tr>\n",
       "      <th>ram</th>\n",
       "      <td>2160.0</td>\n",
       "      <td>15.413889</td>\n",
       "      <td>9.867815</td>\n",
       "      <td>4.00</td>\n",
       "      <td>4.00</td>\n",
       "      <td>8.00</td>\n",
       "      <td>8.0000</td>\n",
       "      <td>16.000</td>\n",
       "      <td>16.00</td>\n",
       "      <td>32.000</td>\n",
       "      <td>32.0000</td>\n",
       "      <td>64.0000</td>\n",
       "      <td>128.00</td>\n",
       "    </tr>\n",
       "    <tr>\n",
       "      <th>storage</th>\n",
       "      <td>2160.0</td>\n",
       "      <td>596.294444</td>\n",
       "      <td>361.220506</td>\n",
       "      <td>0.00</td>\n",
       "      <td>0.00</td>\n",
       "      <td>256.00</td>\n",
       "      <td>256.0000</td>\n",
       "      <td>512.000</td>\n",
       "      <td>1000.00</td>\n",
       "      <td>1000.000</td>\n",
       "      <td>1000.0000</td>\n",
       "      <td>2000.0000</td>\n",
       "      <td>4000.00</td>\n",
       "    </tr>\n",
       "    <tr>\n",
       "      <th>screen</th>\n",
       "      <td>2156.0</td>\n",
       "      <td>15.168112</td>\n",
       "      <td>1.203329</td>\n",
       "      <td>10.10</td>\n",
       "      <td>10.10</td>\n",
       "      <td>13.40</td>\n",
       "      <td>14.0000</td>\n",
       "      <td>15.600</td>\n",
       "      <td>15.60</td>\n",
       "      <td>16.100</td>\n",
       "      <td>17.3000</td>\n",
       "      <td>17.3000</td>\n",
       "      <td>18.00</td>\n",
       "    </tr>\n",
       "    <tr>\n",
       "      <th>final_price</th>\n",
       "      <td>2160.0</td>\n",
       "      <td>1312.638509</td>\n",
       "      <td>911.475417</td>\n",
       "      <td>201.05</td>\n",
       "      <td>201.05</td>\n",
       "      <td>449.99</td>\n",
       "      <td>661.0825</td>\n",
       "      <td>1031.945</td>\n",
       "      <td>1708.97</td>\n",
       "      <td>2518.038</td>\n",
       "      <td>3199.0005</td>\n",
       "      <td>4499.4059</td>\n",
       "      <td>7150.47</td>\n",
       "    </tr>\n",
       "  </tbody>\n",
       "</table>\n",
       "</div>\n",
       "    <div class=\"colab-df-buttons\">\n",
       "\n",
       "  <div class=\"colab-df-container\">\n",
       "    <button class=\"colab-df-convert\" onclick=\"convertToInteractive('df-b8eac23c-7aea-40bf-8c33-7b44a6f32dcb')\"\n",
       "            title=\"Convert this dataframe to an interactive table.\"\n",
       "            style=\"display:none;\">\n",
       "\n",
       "  <svg xmlns=\"http://www.w3.org/2000/svg\" height=\"24px\" viewBox=\"0 -960 960 960\">\n",
       "    <path d=\"M120-120v-720h720v720H120Zm60-500h600v-160H180v160Zm220 220h160v-160H400v160Zm0 220h160v-160H400v160ZM180-400h160v-160H180v160Zm440 0h160v-160H620v160ZM180-180h160v-160H180v160Zm440 0h160v-160H620v160Z\"/>\n",
       "  </svg>\n",
       "    </button>\n",
       "\n",
       "  <style>\n",
       "    .colab-df-container {\n",
       "      display:flex;\n",
       "      gap: 12px;\n",
       "    }\n",
       "\n",
       "    .colab-df-convert {\n",
       "      background-color: #E8F0FE;\n",
       "      border: none;\n",
       "      border-radius: 50%;\n",
       "      cursor: pointer;\n",
       "      display: none;\n",
       "      fill: #1967D2;\n",
       "      height: 32px;\n",
       "      padding: 0 0 0 0;\n",
       "      width: 32px;\n",
       "    }\n",
       "\n",
       "    .colab-df-convert:hover {\n",
       "      background-color: #E2EBFA;\n",
       "      box-shadow: 0px 1px 2px rgba(60, 64, 67, 0.3), 0px 1px 3px 1px rgba(60, 64, 67, 0.15);\n",
       "      fill: #174EA6;\n",
       "    }\n",
       "\n",
       "    .colab-df-buttons div {\n",
       "      margin-bottom: 4px;\n",
       "    }\n",
       "\n",
       "    [theme=dark] .colab-df-convert {\n",
       "      background-color: #3B4455;\n",
       "      fill: #D2E3FC;\n",
       "    }\n",
       "\n",
       "    [theme=dark] .colab-df-convert:hover {\n",
       "      background-color: #434B5C;\n",
       "      box-shadow: 0px 1px 3px 1px rgba(0, 0, 0, 0.15);\n",
       "      filter: drop-shadow(0px 1px 2px rgba(0, 0, 0, 0.3));\n",
       "      fill: #FFFFFF;\n",
       "    }\n",
       "  </style>\n",
       "\n",
       "    <script>\n",
       "      const buttonEl =\n",
       "        document.querySelector('#df-b8eac23c-7aea-40bf-8c33-7b44a6f32dcb button.colab-df-convert');\n",
       "      buttonEl.style.display =\n",
       "        google.colab.kernel.accessAllowed ? 'block' : 'none';\n",
       "\n",
       "      async function convertToInteractive(key) {\n",
       "        const element = document.querySelector('#df-b8eac23c-7aea-40bf-8c33-7b44a6f32dcb');\n",
       "        const dataTable =\n",
       "          await google.colab.kernel.invokeFunction('convertToInteractive',\n",
       "                                                    [key], {});\n",
       "        if (!dataTable) return;\n",
       "\n",
       "        const docLinkHtml = 'Like what you see? Visit the ' +\n",
       "          '<a target=\"_blank\" href=https://colab.research.google.com/notebooks/data_table.ipynb>data table notebook</a>'\n",
       "          + ' to learn more about interactive tables.';\n",
       "        element.innerHTML = '';\n",
       "        dataTable['output_type'] = 'display_data';\n",
       "        await google.colab.output.renderOutput(dataTable, element);\n",
       "        const docLink = document.createElement('div');\n",
       "        docLink.innerHTML = docLinkHtml;\n",
       "        element.appendChild(docLink);\n",
       "      }\n",
       "    </script>\n",
       "  </div>\n",
       "\n",
       "\n",
       "<div id=\"df-2e82f990-2a69-4524-b5e9-8c1eb0ad165f\">\n",
       "  <button class=\"colab-df-quickchart\" onclick=\"quickchart('df-2e82f990-2a69-4524-b5e9-8c1eb0ad165f')\"\n",
       "            title=\"Suggest charts\"\n",
       "            style=\"display:none;\">\n",
       "\n",
       "<svg xmlns=\"http://www.w3.org/2000/svg\" height=\"24px\"viewBox=\"0 0 24 24\"\n",
       "     width=\"24px\">\n",
       "    <g>\n",
       "        <path d=\"M19 3H5c-1.1 0-2 .9-2 2v14c0 1.1.9 2 2 2h14c1.1 0 2-.9 2-2V5c0-1.1-.9-2-2-2zM9 17H7v-7h2v7zm4 0h-2V7h2v10zm4 0h-2v-4h2v4z\"/>\n",
       "    </g>\n",
       "</svg>\n",
       "  </button>\n",
       "\n",
       "<style>\n",
       "  .colab-df-quickchart {\n",
       "      --bg-color: #E8F0FE;\n",
       "      --fill-color: #1967D2;\n",
       "      --hover-bg-color: #E2EBFA;\n",
       "      --hover-fill-color: #174EA6;\n",
       "      --disabled-fill-color: #AAA;\n",
       "      --disabled-bg-color: #DDD;\n",
       "  }\n",
       "\n",
       "  [theme=dark] .colab-df-quickchart {\n",
       "      --bg-color: #3B4455;\n",
       "      --fill-color: #D2E3FC;\n",
       "      --hover-bg-color: #434B5C;\n",
       "      --hover-fill-color: #FFFFFF;\n",
       "      --disabled-bg-color: #3B4455;\n",
       "      --disabled-fill-color: #666;\n",
       "  }\n",
       "\n",
       "  .colab-df-quickchart {\n",
       "    background-color: var(--bg-color);\n",
       "    border: none;\n",
       "    border-radius: 50%;\n",
       "    cursor: pointer;\n",
       "    display: none;\n",
       "    fill: var(--fill-color);\n",
       "    height: 32px;\n",
       "    padding: 0;\n",
       "    width: 32px;\n",
       "  }\n",
       "\n",
       "  .colab-df-quickchart:hover {\n",
       "    background-color: var(--hover-bg-color);\n",
       "    box-shadow: 0 1px 2px rgba(60, 64, 67, 0.3), 0 1px 3px 1px rgba(60, 64, 67, 0.15);\n",
       "    fill: var(--button-hover-fill-color);\n",
       "  }\n",
       "\n",
       "  .colab-df-quickchart-complete:disabled,\n",
       "  .colab-df-quickchart-complete:disabled:hover {\n",
       "    background-color: var(--disabled-bg-color);\n",
       "    fill: var(--disabled-fill-color);\n",
       "    box-shadow: none;\n",
       "  }\n",
       "\n",
       "  .colab-df-spinner {\n",
       "    border: 2px solid var(--fill-color);\n",
       "    border-color: transparent;\n",
       "    border-bottom-color: var(--fill-color);\n",
       "    animation:\n",
       "      spin 1s steps(1) infinite;\n",
       "  }\n",
       "\n",
       "  @keyframes spin {\n",
       "    0% {\n",
       "      border-color: transparent;\n",
       "      border-bottom-color: var(--fill-color);\n",
       "      border-left-color: var(--fill-color);\n",
       "    }\n",
       "    20% {\n",
       "      border-color: transparent;\n",
       "      border-left-color: var(--fill-color);\n",
       "      border-top-color: var(--fill-color);\n",
       "    }\n",
       "    30% {\n",
       "      border-color: transparent;\n",
       "      border-left-color: var(--fill-color);\n",
       "      border-top-color: var(--fill-color);\n",
       "      border-right-color: var(--fill-color);\n",
       "    }\n",
       "    40% {\n",
       "      border-color: transparent;\n",
       "      border-right-color: var(--fill-color);\n",
       "      border-top-color: var(--fill-color);\n",
       "    }\n",
       "    60% {\n",
       "      border-color: transparent;\n",
       "      border-right-color: var(--fill-color);\n",
       "    }\n",
       "    80% {\n",
       "      border-color: transparent;\n",
       "      border-right-color: var(--fill-color);\n",
       "      border-bottom-color: var(--fill-color);\n",
       "    }\n",
       "    90% {\n",
       "      border-color: transparent;\n",
       "      border-bottom-color: var(--fill-color);\n",
       "    }\n",
       "  }\n",
       "</style>\n",
       "\n",
       "  <script>\n",
       "    async function quickchart(key) {\n",
       "      const quickchartButtonEl =\n",
       "        document.querySelector('#' + key + ' button');\n",
       "      quickchartButtonEl.disabled = true;  // To prevent multiple clicks.\n",
       "      quickchartButtonEl.classList.add('colab-df-spinner');\n",
       "      try {\n",
       "        const charts = await google.colab.kernel.invokeFunction(\n",
       "            'suggestCharts', [key], {});\n",
       "      } catch (error) {\n",
       "        console.error('Error during call to suggestCharts:', error);\n",
       "      }\n",
       "      quickchartButtonEl.classList.remove('colab-df-spinner');\n",
       "      quickchartButtonEl.classList.add('colab-df-quickchart-complete');\n",
       "    }\n",
       "    (() => {\n",
       "      let quickchartButtonEl =\n",
       "        document.querySelector('#df-2e82f990-2a69-4524-b5e9-8c1eb0ad165f button');\n",
       "      quickchartButtonEl.style.display =\n",
       "        google.colab.kernel.accessAllowed ? 'block' : 'none';\n",
       "    })();\n",
       "  </script>\n",
       "</div>\n",
       "    </div>\n",
       "  </div>\n"
      ],
      "application/vnd.google.colaboratory.intrinsic+json": {
       "type": "dataframe",
       "summary": "{\n  \"name\": \"df\",\n  \"rows\": 4,\n  \"fields\": [\n    {\n      \"column\": \"count\",\n      \"properties\": {\n        \"dtype\": \"number\",\n        \"std\": 2.0,\n        \"min\": 2156.0,\n        \"max\": 2160.0,\n        \"num_unique_values\": 2,\n        \"samples\": [\n          2156.0,\n          2160.0\n        ],\n        \"semantic_type\": \"\",\n        \"description\": \"\"\n      }\n    },\n    {\n      \"column\": \"mean\",\n      \"properties\": {\n        \"dtype\": \"number\",\n        \"std\": 616.0695347810082,\n        \"min\": 15.168112244897959,\n        \"max\": 1312.638509259259,\n        \"num_unique_values\": 4,\n        \"samples\": [\n          596.2944444444445,\n          1312.638509259259\n        ],\n        \"semantic_type\": \"\",\n        \"description\": \"\"\n      }\n    },\n    {\n      \"column\": \"std\",\n      \"properties\": {\n        \"dtype\": \"number\",\n        \"std\": 427.92212728067,\n        \"min\": 1.203328758328451,\n        \"max\": 911.4754170328499,\n        \"num_unique_values\": 4,\n        \"samples\": [\n          361.22050628511846,\n          911.4754170328499\n        ],\n        \"semantic_type\": \"\",\n        \"description\": \"\"\n      }\n    },\n    {\n      \"column\": \"min\",\n      \"properties\": {\n        \"dtype\": \"number\",\n        \"std\": 98.26279708855569,\n        \"min\": 0.0,\n        \"max\": 201.05,\n        \"num_unique_values\": 4,\n        \"samples\": [\n          0.0,\n          201.05\n        ],\n        \"semantic_type\": \"\",\n        \"description\": \"\"\n      }\n    },\n    {\n      \"column\": \"0%\",\n      \"properties\": {\n        \"dtype\": \"number\",\n        \"std\": 98.26279708855569,\n        \"min\": 0.0,\n        \"max\": 201.05,\n        \"num_unique_values\": 4,\n        \"samples\": [\n          0.0,\n          201.05\n        ],\n        \"semantic_type\": \"\",\n        \"description\": \"\"\n      }\n    },\n    {\n      \"column\": \"10%\",\n      \"properties\": {\n        \"dtype\": \"number\",\n        \"std\": 212.91352475829245,\n        \"min\": 8.0,\n        \"max\": 449.99,\n        \"num_unique_values\": 4,\n        \"samples\": [\n          256.0,\n          449.99\n        ],\n        \"semantic_type\": \"\",\n        \"description\": \"\"\n      }\n    },\n    {\n      \"column\": \"25%\",\n      \"properties\": {\n        \"dtype\": \"number\",\n        \"std\": 306.7882474686666,\n        \"min\": 8.0,\n        \"max\": 661.0825,\n        \"num_unique_values\": 4,\n        \"samples\": [\n          256.0,\n          661.0825\n        ],\n        \"semantic_type\": \"\",\n        \"description\": \"\"\n      }\n    },\n    {\n      \"column\": \"50%\",\n      \"properties\": {\n        \"dtype\": \"number\",\n        \"std\": 485.44424028194703,\n        \"min\": 15.6,\n        \"max\": 1031.9450000000002,\n        \"num_unique_values\": 4,\n        \"samples\": [\n          512.0,\n          1031.9450000000002\n        ],\n        \"semantic_type\": \"\",\n        \"description\": \"\"\n      }\n    },\n    {\n      \"column\": \"75%\",\n      \"properties\": {\n        \"dtype\": \"number\",\n        \"std\": 825.307385094588,\n        \"min\": 15.6,\n        \"max\": 1708.97,\n        \"num_unique_values\": 4,\n        \"samples\": [\n          1000.0,\n          1708.97\n        ],\n        \"semantic_type\": \"\",\n        \"description\": \"\"\n      }\n    },\n    {\n      \"column\": \"90%\",\n      \"properties\": {\n        \"dtype\": \"number\",\n        \"std\": 1177.9167373917685,\n        \"min\": 16.1,\n        \"max\": 2518.038000000002,\n        \"num_unique_values\": 4,\n        \"samples\": [\n          1000.0,\n          2518.038000000002\n        ],\n        \"semantic_type\": \"\",\n        \"description\": \"\"\n      }\n    },\n    {\n      \"column\": \"95%\",\n      \"properties\": {\n        \"dtype\": \"number\",\n        \"std\": 1496.987330655049,\n        \"min\": 17.3,\n        \"max\": 3199.0005,\n        \"num_unique_values\": 4,\n        \"samples\": [\n          1000.0,\n          3199.0005\n        ],\n        \"semantic_type\": \"\",\n        \"description\": \"\"\n      }\n    },\n    {\n      \"column\": \"99%\",\n      \"properties\": {\n        \"dtype\": \"number\",\n        \"std\": 2115.2325488687293,\n        \"min\": 17.3,\n        \"max\": 4499.4059,\n        \"num_unique_values\": 4,\n        \"samples\": [\n          2000.0,\n          4499.4059\n        ],\n        \"semantic_type\": \"\",\n        \"description\": \"\"\n      }\n    },\n    {\n      \"column\": \"max\",\n      \"properties\": {\n        \"dtype\": \"number\",\n        \"std\": 3427.504952861727,\n        \"min\": 18.0,\n        \"max\": 7150.47,\n        \"num_unique_values\": 4,\n        \"samples\": [\n          4000.0,\n          7150.47\n        ],\n        \"semantic_type\": \"\",\n        \"description\": \"\"\n      }\n    }\n  ]\n}"
      }
     },
     "metadata": {},
     "execution_count": 29
    }
   ]
  },
  {
   "cell_type": "code",
   "source": [
    "#@ INSPECTING HISTOGRAM:\n",
    "import matplotlib.pyplot as plt\n",
    "fig, axes = plt.subplots(2, 2, figsize=(9, 6))  # Create a figure and subplots\n",
    "\n",
    "# Plot histograms for each column\n",
    "df.hist(bins=100, column=[\"ram\", \"storage\", \"screen\", \"final_price\"], ax=axes.ravel())\n",
    "\n",
    "# Customize the plot (optional)\n",
    "axes.ravel()[0].set_title('RAM Distribution')\n",
    "axes.ravel()[1].set_title('Storage Distribution')\n",
    "axes.ravel()[2].set_title('Screen Distribution')\n",
    "axes.ravel()[3].set_title('Final Price Distribution')\n",
    "\n",
    "plt.tight_layout()\n",
    "plt.show()"
   ],
   "metadata": {
    "id": "p3_k6MwRpcma",
    "outputId": "59428457-d499-45dc-db78-e19e8fb4348c",
    "colab": {
     "base_uri": "https://localhost:8080/",
     "height": 607
    }
   },
   "id": "p3_k6MwRpcma",
   "execution_count": 24,
   "outputs": [
    {
     "output_type": "display_data",
     "data": {
      "text/plain": [
       "<Figure size 900x600 with 4 Axes>"
      ],
      "image/png": "[encoded data removed]"
     },
     "metadata": {}
    }
   ]
  },
  {
   "cell_type": "code",
   "source": [
    "#@ INSPECTING FINAL PRICE:\n",
    "import seaborn as sns\n",
    "sns.histplot(df.final_price)"
   ],
   "metadata": {
    "id": "6vyIurEbr-6A",
    "outputId": "01034e2f-01ad-4fcb-ec56-1facdf1a08de",
    "colab": {
     "base_uri": "https://localhost:8080/",
     "height": 468
    }
   },
   "id": "6vyIurEbr-6A",
   "execution_count": null,
   "outputs": [
    {
     "output_type": "execute_result",
     "data": {
      "text/plain": [
       "<Axes: xlabel='final_price', ylabel='Count'>"
      ]
     },
     "metadata": {},
     "execution_count": 35
    },
    {
     "output_type": "display_data",
     "data": {
      "text/plain": [
       "<Figure size 640x480 with 1 Axes>"
      ],
      "image/png": "[encoded data removed]"
     },
     "metadata": {}
    }
   ]
  },
  {
   "cell_type": "code",
   "source": [
    "plt.boxplot(df['final_price'])\n",
    "plt.title('Final PRICE Distribution')\n",
    "plt.show()"
   ],
   "metadata": {
    "id": "CefEy82By7Ne",
    "outputId": "7d27ba58-b16c-4e83-c543-6c498252be73",
    "colab": {
     "base_uri": "https://localhost:8080/",
     "height": 452
    }
   },
   "id": "CefEy82By7Ne",
   "execution_count": null,
   "outputs": [
    {
     "output_type": "display_data",
     "data": {
      "text/plain": [
       "<Figure size 640x480 with 1 Axes>"
      ],
      "image/png": "[encoded data removed]"
     },
     "metadata": {}
    }
   ]
  },
  {
   "cell_type": "markdown",
   "id": "b25b0177",
   "metadata": {
    "id": "b25b0177"
   },
   "source": [
    "**Question 1**: Feature with missing values"
   ]
  },
  {
   "cell_type": "code",
   "execution_count": null,
   "id": "5f9ca847",
   "metadata": {
    "id": "5f9ca847",
    "outputId": "034eeeb8-4268-4d14-800b-63a944d982b2",
    "colab": {
     "base_uri": "https://localhost:8080/",
     "height": 210
    }
   },
   "outputs": [
    {
     "output_type": "execute_result",
     "data": {
      "text/plain": [
       "ram            0\n",
       "storage        0\n",
       "screen         4\n",
       "final_price    0\n",
       "dtype: int64"
      ],
      "text/html": [
       "<div>\n",
       "<style scoped>\n",
       "    .dataframe tbody tr th:only-of-type {\n",
       "        vertical-align: middle;\n",
       "    }\n",
       "\n",
       "    .dataframe tbody tr th {\n",
       "        vertical-align: top;\n",
       "    }\n",
       "\n",
       "    .dataframe thead th {\n",
       "        text-align: right;\n",
       "    }\n",
       "</style>\n",
       "<table border=\"1\" class=\"dataframe\">\n",
       "  <thead>\n",
       "    <tr style=\"text-align: right;\">\n",
       "      <th></th>\n",
       "      <th>0</th>\n",
       "    </tr>\n",
       "  </thead>\n",
       "  <tbody>\n",
       "    <tr>\n",
       "      <th>ram</th>\n",
       "      <td>0</td>\n",
       "    </tr>\n",
       "    <tr>\n",
       "      <th>storage</th>\n",
       "      <td>0</td>\n",
       "    </tr>\n",
       "    <tr>\n",
       "      <th>screen</th>\n",
       "      <td>4</td>\n",
       "    </tr>\n",
       "    <tr>\n",
       "      <th>final_price</th>\n",
       "      <td>0</td>\n",
       "    </tr>\n",
       "  </tbody>\n",
       "</table>\n",
       "</div><br><label><b>dtype:</b> int64</label>"
      ]
     },
     "metadata": {},
     "execution_count": 11
    }
   ],
   "source": [
    "missing_values = df.isnull().sum()\n",
    "missing_values"
   ]
  },
  {
   "cell_type": "code",
   "source": [
    "# Знаходження назв стовпців з пропущеними значеннями\n",
    "columns_with_missing = missing_values[missing_values > 0].index.tolist()[0]\n",
    "print('Q1:',columns_with_missing)"
   ],
   "metadata": {
    "id": "n88ducc2M-QN",
    "outputId": "a6a663ca-df03-4891-d82f-943b8c92b73b",
    "colab": {
     "base_uri": "https://localhost:8080/"
    }
   },
   "id": "n88ducc2M-QN",
   "execution_count": null,
   "outputs": [
    {
     "output_type": "stream",
     "name": "stdout",
     "text": [
      "Q1: screen\n"
     ]
    }
   ]
  },
  {
   "cell_type": "markdown",
   "id": "cedf28ee",
   "metadata": {
    "id": "cedf28ee"
   },
   "source": [
    "**Question 2**: What's the median (50% percentile) for variable 'ram'?"
   ]
  },
  {
   "cell_type": "code",
   "execution_count": null,
   "id": "6d010459",
   "metadata": {
    "id": "6d010459",
    "outputId": "0aefb1df-e238-4c6a-9476-3208f3356866",
    "colab": {
     "base_uri": "https://localhost:8080/"
    }
   },
   "outputs": [
    {
     "output_type": "stream",
     "name": "stdout",
     "text": [
      "Q2: 16.0\n"
     ]
    }
   ],
   "source": [
    "median_ram = df['ram'].quantile(0.5)\n",
    "print('Q2:',median_ram )"
   ]
  },
  {
   "cell_type": "markdown",
   "id": "aefaa53f",
   "metadata": {
    "id": "aefaa53f"
   },
   "source": [
    "Splitting and preparing the dataset"
   ]
  },
  {
   "cell_type": "code",
   "execution_count": 5,
   "id": "e4335d7d",
   "metadata": {
    "id": "e4335d7d"
   },
   "outputs": [],
   "source": [
    "n = len(df)\n",
    "\n",
    "n_val = int(0.2 * n)\n",
    "n_test = int(0.2 * n)\n",
    "n_train = n - (n_val + n_test)\n",
    "\n",
    "idx = np.arange(n)\n",
    "np.random.seed(42)\n",
    "np.random.shuffle(idx)\n",
    "\n",
    "df_shuffled = df.iloc[idx]\n",
    "\n",
    "df_train = df_shuffled.iloc[:n_train].copy()\n",
    "df_val = df_shuffled.iloc[n_train:n_train+n_val].copy()\n",
    "df_test = df_shuffled.iloc[n_train+n_val:].copy()\n",
    "\n",
    "df_train = df_train.reset_index(drop=True)\n",
    "df_val = df_val.reset_index(drop=True)\n",
    "df_test = df_test.reset_index(drop=True)"
   ]
  },
  {
   "cell_type": "code",
   "source": [
    "#@ PREPARING THE LABELS:\n",
    "y_train = df_train.final_price.values\n",
    "y_val = df_val.final_price.values\n",
    "y_test = df_test.final_price.values\n",
    "\n",
    "del df_train['final_price']\n",
    "del df_val['final_price']\n",
    "del df_test['final_price']"
   ],
   "metadata": {
    "id": "F3DEt59-rMvw"
   },
   "id": "F3DEt59-rMvw",
   "execution_count": 6,
   "outputs": []
  },
  {
   "cell_type": "markdown",
   "id": "ff693918",
   "metadata": {
    "id": "ff693918"
   },
   "source": [
    "**Question 3**: Mean vs zero"
   ]
  },
  {
   "cell_type": "code",
   "execution_count": 7,
   "id": "da978b10",
   "metadata": {
    "id": "da978b10"
   },
   "outputs": [],
   "source": [
    "def train_linear_regression(X, y):\n",
    "    ones = np.ones(X.shape[0])\n",
    "    X = np.column_stack([ones, X])\n",
    "\n",
    "    XTX = X.T.dot(X)\n",
    "    XTX_inv = np.linalg.inv(XTX)\n",
    "    w = XTX_inv.dot(X.T).dot(y)\n",
    "\n",
    "    return w[0], w[1:]\n",
    "\n",
    "def prepare_X(df, fillna_value):\n",
    "    df = df.fillna(fillna_value)\n",
    "    X = df.values\n",
    "    return X\n",
    "\n",
    "def rmse(y, y_pred):\n",
    "    error = y_pred - y\n",
    "    mse = (error ** 2).mean()\n",
    "    return np.sqrt(mse)"
   ]
  },
  {
   "cell_type": "markdown",
   "id": "1ac2bcfd",
   "metadata": {
    "id": "1ac2bcfd"
   },
   "source": [
    "with mean:"
   ]
  },
  {
   "cell_type": "code",
   "execution_count": 8,
   "id": "667f94fc",
   "metadata": {
    "id": "667f94fc",
    "outputId": "65ba01ce-b789-4262-c816-63da22f39627",
    "colab": {
     "base_uri": "https://localhost:8080/"
    }
   },
   "outputs": [
    {
     "output_type": "execute_result",
     "data": {
      "text/plain": [
       "600.27"
      ]
     },
     "metadata": {},
     "execution_count": 8
    }
   ],
   "source": [
    "mean = df_train.screen.mean()\n",
    "\n",
    "X_train = prepare_X(df_train, fillna_value=mean)\n",
    "w_0, w = train_linear_regression(X_train, y_train)\n",
    "\n",
    "X_val = prepare_X(df_val, fillna_value=mean)\n",
    "y_pred = w_0 + X_val.dot(w)\n",
    "\n",
    "round(rmse(y_val, y_pred), 2)"
   ]
  },
  {
   "cell_type": "markdown",
   "id": "86b1b2a4",
   "metadata": {
    "id": "86b1b2a4"
   },
   "source": [
    "with 0:"
   ]
  },
  {
   "cell_type": "code",
   "execution_count": 9,
   "id": "b0ae2b32",
   "metadata": {
    "id": "b0ae2b32",
    "outputId": "266e85da-7b56-40f2-f6c2-addb9b31a05e",
    "colab": {
     "base_uri": "https://localhost:8080/"
    }
   },
   "outputs": [
    {
     "output_type": "execute_result",
     "data": {
      "text/plain": [
       "597.36"
      ]
     },
     "metadata": {},
     "execution_count": 9
    }
   ],
   "source": [
    "X_train = prepare_X(df_train, fillna_value=0)\n",
    "w_0, w = train_linear_regression(X_train, y_train)\n",
    "\n",
    "X_val = prepare_X(df_val, fillna_value=0)\n",
    "y_pred = w_0 + X_val.dot(w)\n",
    "\n",
    "round(rmse(y_val, y_pred), 2)"
   ]
  },
  {
   "cell_type": "markdown",
   "id": "dfd537dc",
   "metadata": {
    "id": "dfd537dc"
   },
   "source": "The answer: **With 0**"
  },
  {
   "cell_type": "markdown",
   "id": "09a8e086",
   "metadata": {
    "id": "09a8e086"
   },
   "source": [
    "**Question 4**: Regularization"
   ]
  },
  {
   "cell_type": "code",
   "execution_count": 10,
   "id": "9642eb7d",
   "metadata": {
    "id": "9642eb7d"
   },
   "outputs": [],
   "source": [
    "def train_linear_regression_reg(X, y, r=0.0):\n",
    "    ones = np.ones(X.shape[0])\n",
    "    X = np.column_stack([ones, X])\n",
    "\n",
    "    XTX = X.T.dot(X)\n",
    "    reg = r * np.eye(XTX.shape[0])\n",
    "    XTX = XTX + reg\n",
    "\n",
    "    XTX_inv = np.linalg.inv(XTX)\n",
    "    w = XTX_inv.dot(X.T).dot(y)\n",
    "\n",
    "    return w[0], w[1:]"
   ]
  },
  {
   "cell_type": "code",
   "execution_count": 11,
   "id": "110bbed7",
   "metadata": {
    "id": "110bbed7",
    "outputId": "456ef276-506d-4106-b0c0-0725a676563b",
    "colab": {
     "base_uri": "https://localhost:8080/"
    }
   },
   "outputs": [
    {
     "output_type": "stream",
     "name": "stdout",
     "text": [
      "     0 597.36356\n",
      " 1e-06 597.36356\n",
      "0.0001 597.36354\n",
      " 0.001 597.36337\n",
      "  0.01 597.36168\n",
      "   0.1 597.34516\n",
      "     1 597.21212\n",
      "     5 597.01112\n",
      "    10 597.05877\n"
     ]
    }
   ],
   "source": [
    "for r in [0, 0.000001, 0.0001, 0.001, 0.01, 0.1, 1, 5, 10]:\n",
    "    w_0, w = train_linear_regression_reg(X_train, y_train, r=r)\n",
    "    y_pred = w_0 + X_val.dot(w)\n",
    "    rmse_val = rmse(y_val, y_pred)\n",
    "    print('%06s %0.5f' % (r, rmse_val))"
   ]
  },
  {
   "cell_type": "markdown",
   "id": "58525d07",
   "metadata": {
    "id": "58525d07"
   },
   "source": [
    "The answer: `r=0`"
   ]
  },
  {
   "cell_type": "markdown",
   "id": "f330354e",
   "metadata": {
    "id": "f330354e"
   },
   "source": [
    "**Question 5**: Standard deviation of RMSE"
   ]
  },
  {
   "cell_type": "code",
   "execution_count": 16,
   "id": "c8bf8f06",
   "metadata": {
    "id": "c8bf8f06",
    "outputId": "d2423cc9-72ec-4763-8fef-f1914c64f831",
    "colab": {
     "base_uri": "https://localhost:8080/"
    }
   },
   "outputs": [
    {
     "output_type": "stream",
     "name": "stdout",
     "text": [
      "0 565.4520868771027\n",
      "1 636.7985423056726\n",
      "2 588.9558697907962\n",
      "3 597.8148920012521\n",
      "4 571.962791511102\n",
      "5 573.2383256618949\n",
      "6 647.3438328407208\n",
      "7 550.4398184485952\n",
      "8 587.333503616991\n",
      "9 576.1017929433108\n"
     ]
    }
   ],
   "source": [
    "rmses = []\n",
    "\n",
    "for s in [0, 1, 2, 3, 4, 5, 6, 7, 8, 9]:\n",
    "\n",
    "    n = len(df)\n",
    "\n",
    "    n_val = int(0.2 * n)\n",
    "    n_test = int(0.2 * n)\n",
    "    n_train = n - (n_val + n_test)\n",
    "\n",
    "    idx = np.arange(n)\n",
    "    np.random.seed(s)\n",
    "    np.random.shuffle(idx)\n",
    "\n",
    "    df_shuffled = df.iloc[idx]\n",
    "\n",
    "    df_train = df_shuffled.iloc[:n_train].copy()\n",
    "    df_val = df_shuffled.iloc[n_train:n_train+n_val].copy()\n",
    "    df_test = df_shuffled.iloc[n_train+n_val:].copy()\n",
    "\n",
    "    df_train = df_train.reset_index(drop=True)\n",
    "    df_val = df_val.reset_index(drop=True)\n",
    "    df_test = df_test.reset_index(drop=True)\n",
    "\n",
    "    y_train = df_train.final_price.values\n",
    "    y_val = df_val.final_price.values\n",
    "    y_test = df_test.final_price.values\n",
    "\n",
    "    del df_train['final_price']\n",
    "    del df_val['final_price']\n",
    "    del df_test['final_price']\n",
    "\n",
    "    X_train = prepare_X(df_train, fillna_value=0)\n",
    "    w_0, w = train_linear_regression(X_train, y_train)\n",
    "\n",
    "    X_val = prepare_X(df_val, fillna_value=0)\n",
    "    y_pred = w_0 + X_val.dot(w)\n",
    "\n",
    "    result = rmse(y_val, y_pred)\n",
    "    print(s, result)\n",
    "\n",
    "    rmses.append(result)"
   ]
  },
  {
   "cell_type": "code",
   "execution_count": 17,
   "id": "a1ea59b7",
   "metadata": {
    "id": "a1ea59b7",
    "outputId": "ce8a4f86-0dd1-4dc1-bb9b-b2e4c005c72d",
    "colab": {
     "base_uri": "https://localhost:8080/"
    }
   },
   "outputs": [
    {
     "output_type": "execute_result",
     "data": {
      "text/plain": [
       "29.176"
      ]
     },
     "metadata": {},
     "execution_count": 17
    }
   ],
   "source": [
    "round(np.std(rmses), 3)"
   ]
  },
  {
   "cell_type": "markdown",
   "id": "c29fe6fa",
   "metadata": {
    "id": "c29fe6fa"
   },
   "source": [
    "**Question 6**: RMSE for Test"
   ]
  },
  {
   "cell_type": "code",
   "execution_count": 18,
   "id": "b9d8d0e4",
   "metadata": {
    "id": "b9d8d0e4"
   },
   "outputs": [],
   "source": [
    "n = len(df)\n",
    "\n",
    "n_val = int(0.2 * n)\n",
    "n_test = int(0.2 * n)\n",
    "n_train = n - (n_val + n_test)\n",
    "\n",
    "idx = np.arange(n)\n",
    "np.random.seed(9)\n",
    "np.random.shuffle(idx)\n",
    "\n",
    "df_shuffled = df.iloc[idx]\n",
    "\n",
    "df_train = df_shuffled.iloc[:n_train].copy()\n",
    "df_val = df_shuffled.iloc[n_train:n_train+n_val].copy()\n",
    "df_test = df_shuffled.iloc[n_train+n_val:].copy()\n",
    "\n",
    "df_train = df_train.reset_index(drop=True)\n",
    "df_val = df_val.reset_index(drop=True)\n",
    "df_test = df_test.reset_index(drop=True)\n",
    "\n",
    "y_train = df_train.final_price.values\n",
    "y_val = df_val.final_price.values\n",
    "y_test = df_test.final_price.values\n",
    "\n",
    "del df_train['final_price']\n",
    "del df_val['final_price']\n",
    "del df_test['final_price']"
   ]
  },
  {
   "cell_type": "code",
   "execution_count": 19,
   "id": "dfe80373",
   "metadata": {
    "id": "dfe80373",
    "outputId": "4b5eb581-7993-45b4-975b-9b2c6bf9b736",
    "colab": {
     "base_uri": "https://localhost:8080/"
    }
   },
   "outputs": [
    {
     "output_type": "stream",
     "name": "stdout",
     "text": [
      "608.61\n"
     ]
    }
   ],
   "source": [
    "df_full_train = pd.concat([df_train, df_val])\n",
    "df_full_train = df_full_train.reset_index(drop=True)\n",
    "\n",
    "X_full_train = prepare_X(df_full_train, fillna_value=0)\n",
    "y_full_train = np.concatenate([y_train, y_val])\n",
    "w_0, w = train_linear_regression_reg(X_full_train, y_full_train, r=0.001)\n",
    "\n",
    "X_test = prepare_X(df_test, fillna_value=0)\n",
    "y_pred = w_0 + X_test.dot(w)\n",
    "\n",
    "result = rmse(y_test, y_pred)\n",
    "print(round(result, 2))"
   ]
  }
 ],
 "metadata": {
  "kernelspec": {
   "display_name": "Python 3 (ipykernel)",
   "language": "python",
   "name": "python3"
  },
  "language_info": {
   "codemirror_mode": {
    "name": "ipython",
    "version": 3
   },
   "file_extension": ".py",
   "mimetype": "text/x-python",
   "name": "python",
   "nbconvert_exporter": "python",
   "pygments_lexer": "ipython3",
   "version": "3.9.13"
  },
  "colab": {
   "provenance": []
  }
 },
 "nbformat": 4,
 "nbformat_minor": 5
}
